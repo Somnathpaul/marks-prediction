{
 "cells": [
  {
   "cell_type": "code",
   "execution_count": 1,
   "metadata": {},
   "outputs": [],
   "source": [
    "from IPython.core.interactiveshell import InteractiveShell\n",
    "InteractiveShell.ast_node_interactivity = \"all\""
   ]
  },
  {
   "cell_type": "code",
   "execution_count": 2,
   "metadata": {},
   "outputs": [],
   "source": [
    "import pandas as pd\n",
    "import numpy as np\n",
    "import sklearn\n",
    "from sklearn import linear_model\n",
    "from sklearn.utils import shuffle\n",
    "import matplotlib.pyplot as plt\n",
    "%matplotlib inline\n",
    "import pickle\n",
    "from matplotlib import style\n",
    "import seaborn as sns\n",
    "plt.style.use(\"ggplot\")"
   ]
  },
  {
   "cell_type": "code",
   "execution_count": 3,
   "metadata": {},
   "outputs": [],
   "source": [
    "data = pd.read_csv(\"student_mat.csv\", sep=\";\")"
   ]
  },
  {
   "cell_type": "code",
   "execution_count": 4,
   "metadata": {
    "scrolled": true
   },
   "outputs": [
    {
     "data": {
      "text/html": [
       "<div>\n",
       "<style scoped>\n",
       "    .dataframe tbody tr th:only-of-type {\n",
       "        vertical-align: middle;\n",
       "    }\n",
       "\n",
       "    .dataframe tbody tr th {\n",
       "        vertical-align: top;\n",
       "    }\n",
       "\n",
       "    .dataframe thead th {\n",
       "        text-align: right;\n",
       "    }\n",
       "</style>\n",
       "<table border=\"1\" class=\"dataframe\">\n",
       "  <thead>\n",
       "    <tr style=\"text-align: right;\">\n",
       "      <th></th>\n",
       "      <th>school</th>\n",
       "      <th>sex</th>\n",
       "      <th>age</th>\n",
       "      <th>address</th>\n",
       "      <th>famsize</th>\n",
       "      <th>Pstatus</th>\n",
       "      <th>Medu</th>\n",
       "      <th>Fedu</th>\n",
       "      <th>Mjob</th>\n",
       "      <th>Fjob</th>\n",
       "      <th>...</th>\n",
       "      <th>famrel</th>\n",
       "      <th>freetime</th>\n",
       "      <th>goout</th>\n",
       "      <th>Dalc</th>\n",
       "      <th>Walc</th>\n",
       "      <th>health</th>\n",
       "      <th>absences</th>\n",
       "      <th>G1</th>\n",
       "      <th>G2</th>\n",
       "      <th>G3</th>\n",
       "    </tr>\n",
       "  </thead>\n",
       "  <tbody>\n",
       "    <tr>\n",
       "      <th>0</th>\n",
       "      <td>GP</td>\n",
       "      <td>F</td>\n",
       "      <td>18</td>\n",
       "      <td>U</td>\n",
       "      <td>GT3</td>\n",
       "      <td>A</td>\n",
       "      <td>4</td>\n",
       "      <td>4</td>\n",
       "      <td>at_home</td>\n",
       "      <td>teacher</td>\n",
       "      <td>...</td>\n",
       "      <td>4</td>\n",
       "      <td>3</td>\n",
       "      <td>4</td>\n",
       "      <td>1</td>\n",
       "      <td>1</td>\n",
       "      <td>3</td>\n",
       "      <td>6</td>\n",
       "      <td>5</td>\n",
       "      <td>6</td>\n",
       "      <td>6</td>\n",
       "    </tr>\n",
       "    <tr>\n",
       "      <th>1</th>\n",
       "      <td>GP</td>\n",
       "      <td>F</td>\n",
       "      <td>17</td>\n",
       "      <td>U</td>\n",
       "      <td>GT3</td>\n",
       "      <td>T</td>\n",
       "      <td>1</td>\n",
       "      <td>1</td>\n",
       "      <td>at_home</td>\n",
       "      <td>other</td>\n",
       "      <td>...</td>\n",
       "      <td>5</td>\n",
       "      <td>3</td>\n",
       "      <td>3</td>\n",
       "      <td>1</td>\n",
       "      <td>1</td>\n",
       "      <td>3</td>\n",
       "      <td>4</td>\n",
       "      <td>5</td>\n",
       "      <td>5</td>\n",
       "      <td>6</td>\n",
       "    </tr>\n",
       "    <tr>\n",
       "      <th>2</th>\n",
       "      <td>GP</td>\n",
       "      <td>F</td>\n",
       "      <td>15</td>\n",
       "      <td>U</td>\n",
       "      <td>LE3</td>\n",
       "      <td>T</td>\n",
       "      <td>1</td>\n",
       "      <td>1</td>\n",
       "      <td>at_home</td>\n",
       "      <td>other</td>\n",
       "      <td>...</td>\n",
       "      <td>4</td>\n",
       "      <td>3</td>\n",
       "      <td>2</td>\n",
       "      <td>2</td>\n",
       "      <td>3</td>\n",
       "      <td>3</td>\n",
       "      <td>10</td>\n",
       "      <td>7</td>\n",
       "      <td>8</td>\n",
       "      <td>10</td>\n",
       "    </tr>\n",
       "    <tr>\n",
       "      <th>3</th>\n",
       "      <td>GP</td>\n",
       "      <td>F</td>\n",
       "      <td>15</td>\n",
       "      <td>U</td>\n",
       "      <td>GT3</td>\n",
       "      <td>T</td>\n",
       "      <td>4</td>\n",
       "      <td>2</td>\n",
       "      <td>health</td>\n",
       "      <td>services</td>\n",
       "      <td>...</td>\n",
       "      <td>3</td>\n",
       "      <td>2</td>\n",
       "      <td>2</td>\n",
       "      <td>1</td>\n",
       "      <td>1</td>\n",
       "      <td>5</td>\n",
       "      <td>2</td>\n",
       "      <td>15</td>\n",
       "      <td>14</td>\n",
       "      <td>15</td>\n",
       "    </tr>\n",
       "    <tr>\n",
       "      <th>4</th>\n",
       "      <td>GP</td>\n",
       "      <td>F</td>\n",
       "      <td>16</td>\n",
       "      <td>U</td>\n",
       "      <td>GT3</td>\n",
       "      <td>T</td>\n",
       "      <td>3</td>\n",
       "      <td>3</td>\n",
       "      <td>other</td>\n",
       "      <td>other</td>\n",
       "      <td>...</td>\n",
       "      <td>4</td>\n",
       "      <td>3</td>\n",
       "      <td>2</td>\n",
       "      <td>1</td>\n",
       "      <td>2</td>\n",
       "      <td>5</td>\n",
       "      <td>4</td>\n",
       "      <td>6</td>\n",
       "      <td>10</td>\n",
       "      <td>10</td>\n",
       "    </tr>\n",
       "    <tr>\n",
       "      <th>...</th>\n",
       "      <td>...</td>\n",
       "      <td>...</td>\n",
       "      <td>...</td>\n",
       "      <td>...</td>\n",
       "      <td>...</td>\n",
       "      <td>...</td>\n",
       "      <td>...</td>\n",
       "      <td>...</td>\n",
       "      <td>...</td>\n",
       "      <td>...</td>\n",
       "      <td>...</td>\n",
       "      <td>...</td>\n",
       "      <td>...</td>\n",
       "      <td>...</td>\n",
       "      <td>...</td>\n",
       "      <td>...</td>\n",
       "      <td>...</td>\n",
       "      <td>...</td>\n",
       "      <td>...</td>\n",
       "      <td>...</td>\n",
       "      <td>...</td>\n",
       "    </tr>\n",
       "    <tr>\n",
       "      <th>390</th>\n",
       "      <td>MS</td>\n",
       "      <td>M</td>\n",
       "      <td>20</td>\n",
       "      <td>U</td>\n",
       "      <td>LE3</td>\n",
       "      <td>A</td>\n",
       "      <td>2</td>\n",
       "      <td>2</td>\n",
       "      <td>services</td>\n",
       "      <td>services</td>\n",
       "      <td>...</td>\n",
       "      <td>5</td>\n",
       "      <td>5</td>\n",
       "      <td>4</td>\n",
       "      <td>4</td>\n",
       "      <td>5</td>\n",
       "      <td>4</td>\n",
       "      <td>11</td>\n",
       "      <td>9</td>\n",
       "      <td>9</td>\n",
       "      <td>9</td>\n",
       "    </tr>\n",
       "    <tr>\n",
       "      <th>391</th>\n",
       "      <td>MS</td>\n",
       "      <td>M</td>\n",
       "      <td>17</td>\n",
       "      <td>U</td>\n",
       "      <td>LE3</td>\n",
       "      <td>T</td>\n",
       "      <td>3</td>\n",
       "      <td>1</td>\n",
       "      <td>services</td>\n",
       "      <td>services</td>\n",
       "      <td>...</td>\n",
       "      <td>2</td>\n",
       "      <td>4</td>\n",
       "      <td>5</td>\n",
       "      <td>3</td>\n",
       "      <td>4</td>\n",
       "      <td>2</td>\n",
       "      <td>3</td>\n",
       "      <td>14</td>\n",
       "      <td>16</td>\n",
       "      <td>16</td>\n",
       "    </tr>\n",
       "    <tr>\n",
       "      <th>392</th>\n",
       "      <td>MS</td>\n",
       "      <td>M</td>\n",
       "      <td>21</td>\n",
       "      <td>R</td>\n",
       "      <td>GT3</td>\n",
       "      <td>T</td>\n",
       "      <td>1</td>\n",
       "      <td>1</td>\n",
       "      <td>other</td>\n",
       "      <td>other</td>\n",
       "      <td>...</td>\n",
       "      <td>5</td>\n",
       "      <td>5</td>\n",
       "      <td>3</td>\n",
       "      <td>3</td>\n",
       "      <td>3</td>\n",
       "      <td>3</td>\n",
       "      <td>3</td>\n",
       "      <td>10</td>\n",
       "      <td>8</td>\n",
       "      <td>7</td>\n",
       "    </tr>\n",
       "    <tr>\n",
       "      <th>393</th>\n",
       "      <td>MS</td>\n",
       "      <td>M</td>\n",
       "      <td>18</td>\n",
       "      <td>R</td>\n",
       "      <td>LE3</td>\n",
       "      <td>T</td>\n",
       "      <td>3</td>\n",
       "      <td>2</td>\n",
       "      <td>services</td>\n",
       "      <td>other</td>\n",
       "      <td>...</td>\n",
       "      <td>4</td>\n",
       "      <td>4</td>\n",
       "      <td>1</td>\n",
       "      <td>3</td>\n",
       "      <td>4</td>\n",
       "      <td>5</td>\n",
       "      <td>0</td>\n",
       "      <td>11</td>\n",
       "      <td>12</td>\n",
       "      <td>10</td>\n",
       "    </tr>\n",
       "    <tr>\n",
       "      <th>394</th>\n",
       "      <td>MS</td>\n",
       "      <td>M</td>\n",
       "      <td>19</td>\n",
       "      <td>U</td>\n",
       "      <td>LE3</td>\n",
       "      <td>T</td>\n",
       "      <td>1</td>\n",
       "      <td>1</td>\n",
       "      <td>other</td>\n",
       "      <td>at_home</td>\n",
       "      <td>...</td>\n",
       "      <td>3</td>\n",
       "      <td>2</td>\n",
       "      <td>3</td>\n",
       "      <td>3</td>\n",
       "      <td>3</td>\n",
       "      <td>5</td>\n",
       "      <td>5</td>\n",
       "      <td>8</td>\n",
       "      <td>9</td>\n",
       "      <td>9</td>\n",
       "    </tr>\n",
       "  </tbody>\n",
       "</table>\n",
       "<p>395 rows × 33 columns</p>\n",
       "</div>"
      ],
      "text/plain": [
       "    school sex  age address famsize Pstatus  Medu  Fedu      Mjob      Fjob  \\\n",
       "0       GP   F   18       U     GT3       A     4     4   at_home   teacher   \n",
       "1       GP   F   17       U     GT3       T     1     1   at_home     other   \n",
       "2       GP   F   15       U     LE3       T     1     1   at_home     other   \n",
       "3       GP   F   15       U     GT3       T     4     2    health  services   \n",
       "4       GP   F   16       U     GT3       T     3     3     other     other   \n",
       "..     ...  ..  ...     ...     ...     ...   ...   ...       ...       ...   \n",
       "390     MS   M   20       U     LE3       A     2     2  services  services   \n",
       "391     MS   M   17       U     LE3       T     3     1  services  services   \n",
       "392     MS   M   21       R     GT3       T     1     1     other     other   \n",
       "393     MS   M   18       R     LE3       T     3     2  services     other   \n",
       "394     MS   M   19       U     LE3       T     1     1     other   at_home   \n",
       "\n",
       "     ... famrel freetime  goout  Dalc  Walc health absences  G1  G2  G3  \n",
       "0    ...      4        3      4     1     1      3        6   5   6   6  \n",
       "1    ...      5        3      3     1     1      3        4   5   5   6  \n",
       "2    ...      4        3      2     2     3      3       10   7   8  10  \n",
       "3    ...      3        2      2     1     1      5        2  15  14  15  \n",
       "4    ...      4        3      2     1     2      5        4   6  10  10  \n",
       "..   ...    ...      ...    ...   ...   ...    ...      ...  ..  ..  ..  \n",
       "390  ...      5        5      4     4     5      4       11   9   9   9  \n",
       "391  ...      2        4      5     3     4      2        3  14  16  16  \n",
       "392  ...      5        5      3     3     3      3        3  10   8   7  \n",
       "393  ...      4        4      1     3     4      5        0  11  12  10  \n",
       "394  ...      3        2      3     3     3      5        5   8   9   9  \n",
       "\n",
       "[395 rows x 33 columns]"
      ]
     },
     "execution_count": 4,
     "metadata": {},
     "output_type": "execute_result"
    }
   ],
   "source": [
    "data"
   ]
  },
  {
   "cell_type": "markdown",
   "metadata": {},
   "source": [
    "## Data analysis"
   ]
  },
  {
   "cell_type": "code",
   "execution_count": 5,
   "metadata": {},
   "outputs": [
    {
     "data": {
      "text/html": [
       "<div>\n",
       "<style scoped>\n",
       "    .dataframe tbody tr th:only-of-type {\n",
       "        vertical-align: middle;\n",
       "    }\n",
       "\n",
       "    .dataframe tbody tr th {\n",
       "        vertical-align: top;\n",
       "    }\n",
       "\n",
       "    .dataframe thead th {\n",
       "        text-align: right;\n",
       "    }\n",
       "</style>\n",
       "<table border=\"1\" class=\"dataframe\">\n",
       "  <thead>\n",
       "    <tr style=\"text-align: right;\">\n",
       "      <th></th>\n",
       "      <th>sex</th>\n",
       "      <th>age</th>\n",
       "      <th>traveltime</th>\n",
       "      <th>absences</th>\n",
       "      <th>freetime</th>\n",
       "      <th>studytime</th>\n",
       "      <th>schoolsup</th>\n",
       "      <th>health</th>\n",
       "      <th>failures</th>\n",
       "      <th>activities</th>\n",
       "      <th>internet</th>\n",
       "      <th>paid</th>\n",
       "      <th>Fjob</th>\n",
       "      <th>Mjob</th>\n",
       "      <th>G1</th>\n",
       "      <th>G2</th>\n",
       "      <th>G3</th>\n",
       "    </tr>\n",
       "  </thead>\n",
       "  <tbody>\n",
       "    <tr>\n",
       "      <th>0</th>\n",
       "      <td>F</td>\n",
       "      <td>18</td>\n",
       "      <td>2</td>\n",
       "      <td>6</td>\n",
       "      <td>3</td>\n",
       "      <td>2</td>\n",
       "      <td>yes</td>\n",
       "      <td>3</td>\n",
       "      <td>0</td>\n",
       "      <td>no</td>\n",
       "      <td>no</td>\n",
       "      <td>no</td>\n",
       "      <td>teacher</td>\n",
       "      <td>at_home</td>\n",
       "      <td>5</td>\n",
       "      <td>6</td>\n",
       "      <td>6</td>\n",
       "    </tr>\n",
       "    <tr>\n",
       "      <th>1</th>\n",
       "      <td>F</td>\n",
       "      <td>17</td>\n",
       "      <td>1</td>\n",
       "      <td>4</td>\n",
       "      <td>3</td>\n",
       "      <td>2</td>\n",
       "      <td>no</td>\n",
       "      <td>3</td>\n",
       "      <td>0</td>\n",
       "      <td>no</td>\n",
       "      <td>yes</td>\n",
       "      <td>no</td>\n",
       "      <td>other</td>\n",
       "      <td>at_home</td>\n",
       "      <td>5</td>\n",
       "      <td>5</td>\n",
       "      <td>6</td>\n",
       "    </tr>\n",
       "    <tr>\n",
       "      <th>2</th>\n",
       "      <td>F</td>\n",
       "      <td>15</td>\n",
       "      <td>1</td>\n",
       "      <td>10</td>\n",
       "      <td>3</td>\n",
       "      <td>2</td>\n",
       "      <td>yes</td>\n",
       "      <td>3</td>\n",
       "      <td>3</td>\n",
       "      <td>no</td>\n",
       "      <td>yes</td>\n",
       "      <td>yes</td>\n",
       "      <td>other</td>\n",
       "      <td>at_home</td>\n",
       "      <td>7</td>\n",
       "      <td>8</td>\n",
       "      <td>10</td>\n",
       "    </tr>\n",
       "    <tr>\n",
       "      <th>3</th>\n",
       "      <td>F</td>\n",
       "      <td>15</td>\n",
       "      <td>1</td>\n",
       "      <td>2</td>\n",
       "      <td>2</td>\n",
       "      <td>3</td>\n",
       "      <td>no</td>\n",
       "      <td>5</td>\n",
       "      <td>0</td>\n",
       "      <td>yes</td>\n",
       "      <td>yes</td>\n",
       "      <td>yes</td>\n",
       "      <td>services</td>\n",
       "      <td>health</td>\n",
       "      <td>15</td>\n",
       "      <td>14</td>\n",
       "      <td>15</td>\n",
       "    </tr>\n",
       "    <tr>\n",
       "      <th>4</th>\n",
       "      <td>F</td>\n",
       "      <td>16</td>\n",
       "      <td>1</td>\n",
       "      <td>4</td>\n",
       "      <td>3</td>\n",
       "      <td>2</td>\n",
       "      <td>no</td>\n",
       "      <td>5</td>\n",
       "      <td>0</td>\n",
       "      <td>no</td>\n",
       "      <td>no</td>\n",
       "      <td>yes</td>\n",
       "      <td>other</td>\n",
       "      <td>other</td>\n",
       "      <td>6</td>\n",
       "      <td>10</td>\n",
       "      <td>10</td>\n",
       "    </tr>\n",
       "  </tbody>\n",
       "</table>\n",
       "</div>"
      ],
      "text/plain": [
       "  sex  age  traveltime  absences  freetime  studytime schoolsup  health  \\\n",
       "0   F   18           2         6         3          2       yes       3   \n",
       "1   F   17           1         4         3          2        no       3   \n",
       "2   F   15           1        10         3          2       yes       3   \n",
       "3   F   15           1         2         2          3        no       5   \n",
       "4   F   16           1         4         3          2        no       5   \n",
       "\n",
       "   failures activities internet paid      Fjob     Mjob  G1  G2  G3  \n",
       "0         0         no       no   no   teacher  at_home   5   6   6  \n",
       "1         0         no      yes   no     other  at_home   5   5   6  \n",
       "2         3         no      yes  yes     other  at_home   7   8  10  \n",
       "3         0        yes      yes  yes  services   health  15  14  15  \n",
       "4         0         no       no  yes     other    other   6  10  10  "
      ]
     },
     "execution_count": 5,
     "metadata": {},
     "output_type": "execute_result"
    }
   ],
   "source": [
    "df_analysis = data[[\"sex\", \"age\", \"traveltime\",\"absences\",\"freetime\",\"studytime\", \"schoolsup\", \"health\",\"failures\",\"activities\", \"internet\", \"paid\", \"Fjob\", \"Mjob\", \"G1\", \"G2\", \"G3\"]]\n",
    "\n",
    "df_analysis.head()\n"
   ]
  },
  {
   "cell_type": "code",
   "execution_count": null,
   "metadata": {},
   "outputs": [],
   "source": []
  },
  {
   "cell_type": "code",
   "execution_count": 6,
   "metadata": {},
   "outputs": [
    {
     "data": {
      "text/plain": [
       "<matplotlib.axes._subplots.AxesSubplot at 0x7fcd11ca5190>"
      ]
     },
     "execution_count": 6,
     "metadata": {},
     "output_type": "execute_result"
    },
    {
     "data": {
      "image/png": "[encoded data removed]",
      "text/plain": [
       "<Figure size 432x288 with 1 Axes>"
      ]
     },
     "metadata": {},
     "output_type": "display_data"
    }
   ],
   "source": [
    "sns.distplot(df_analysis[\"age\"], kde=True)"
   ]
  },
  {
   "cell_type": "markdown",
   "metadata": {},
   "source": [
    "#### Maximum age students in the class is between 15 to 16"
   ]
  },
  {
   "cell_type": "code",
   "execution_count": 7,
   "metadata": {},
   "outputs": [
    {
     "data": {
      "text/plain": [
       "<matplotlib.axes._subplots.AxesSubplot at 0x7fcd11f8ab90>"
      ]
     },
     "execution_count": 7,
     "metadata": {},
     "output_type": "execute_result"
    },
    {
     "data": {
      "image/png": "[encoded data removed]",
      "text/plain": [
       "<Figure size 432x288 with 1 Axes>"
      ]
     },
     "metadata": {},
     "output_type": "display_data"
    }
   ],
   "source": [
    "sns.distplot(df_analysis[\"failures\"], kde=True, color=\"b\")"
   ]
  },
  {
   "cell_type": "markdown",
   "metadata": {},
   "source": [
    "#### Number of failures in the class is less "
   ]
  },
  {
   "cell_type": "code",
   "execution_count": null,
   "metadata": {},
   "outputs": [],
   "source": []
  },
  {
   "cell_type": "markdown",
   "metadata": {},
   "source": [
    "## Graph showing absences related to age"
   ]
  },
  {
   "cell_type": "code",
   "execution_count": 8,
   "metadata": {},
   "outputs": [
    {
     "data": {
      "text/plain": [
       "<matplotlib.axes._subplots.AxesSubplot at 0x7fcd11f8ad50>"
      ]
     },
     "execution_count": 8,
     "metadata": {},
     "output_type": "execute_result"
    },
    {
     "data": {
      "image/png": "[encoded data removed]",
      "text/plain": [
       "<Figure size 432x288 with 1 Axes>"
      ]
     },
     "metadata": {},
     "output_type": "display_data"
    }
   ],
   "source": [
    "# health - current health status (numeric: from 1 - very bad to 5 - very good)\n",
    "sns.barplot(x=\"age\", y=\"absences\", data=df_analysis)"
   ]
  },
  {
   "cell_type": "markdown",
   "metadata": {},
   "source": [
    "#### The above graph shows that absences is maximum in the age 22 "
   ]
  },
  {
   "cell_type": "code",
   "execution_count": null,
   "metadata": {},
   "outputs": [],
   "source": [
    "\n"
   ]
  },
  {
   "cell_type": "markdown",
   "metadata": {},
   "source": [
    "##  Graphs showing absences affecting marks "
   ]
  },
  {
   "cell_type": "code",
   "execution_count": null,
   "metadata": {},
   "outputs": [],
   "source": []
  },
  {
   "cell_type": "code",
   "execution_count": 9,
   "metadata": {},
   "outputs": [
    {
     "data": {
      "image/png": "[encoded data removed]",
      "text/plain": [
       "<Figure size 360x360 with 1 Axes>"
      ]
     },
     "metadata": {},
     "output_type": "display_data"
    }
   ],
   "source": [
    "# remove outliers\n",
    "df_analysis = df_analysis.loc[df_analysis['G1']< df_analysis['G1'].quantile(0.5)]\n",
    "# plotting grpah\n",
    "graph = sns.lmplot(x=\"absences\", y=\"G1\", data=df_analysis)"
   ]
  },
  {
   "cell_type": "code",
   "execution_count": 10,
   "metadata": {},
   "outputs": [
    {
     "data": {
      "image/png": "[encoded data removed]",
      "text/plain": [
       "<Figure size 360x360 with 1 Axes>"
      ]
     },
     "metadata": {},
     "output_type": "display_data"
    }
   ],
   "source": [
    "# remove outliers\n",
    "df_analysis = df_analysis.loc[df_analysis['G2']< df_analysis['G2'].quantile(0.5)]\n",
    "# ploting graph\n",
    "graph = sns.lmplot(x=\"absences\", y=\"G2\", data=df_analysis)"
   ]
  },
  {
   "cell_type": "code",
   "execution_count": 11,
   "metadata": {},
   "outputs": [
    {
     "data": {
      "image/png": "[encoded data removed]",
      "text/plain": [
       "<Figure size 360x360 with 1 Axes>"
      ]
     },
     "metadata": {},
     "output_type": "display_data"
    }
   ],
   "source": [
    "\n",
    "# remove outliers\n",
    "df_analysis = df_analysis.loc[df_analysis['G3']< df_analysis['G3'].quantile(0.5)]\n",
    "# plotting graph\n",
    "graph = sns.lmplot(x=\"absences\", y=\"G3\", data=df_analysis)"
   ]
  },
  {
   "cell_type": "markdown",
   "metadata": {},
   "source": [
    "#### We can clearly say that absence in class is somewhat related to lower marks obtained by students"
   ]
  },
  {
   "cell_type": "code",
   "execution_count": null,
   "metadata": {},
   "outputs": [],
   "source": []
  },
  {
   "cell_type": "code",
   "execution_count": null,
   "metadata": {},
   "outputs": [],
   "source": []
  },
  {
   "cell_type": "markdown",
   "metadata": {},
   "source": [
    "## Final Marks prediction"
   ]
  },
  {
   "cell_type": "code",
   "execution_count": 12,
   "metadata": {},
   "outputs": [],
   "source": [
    "df = data[[\"G1\", \"G2\", \"G3\", \"absences\",\"studytime\", \"freetime\", \"health\"]]"
   ]
  },
  {
   "cell_type": "code",
   "execution_count": 13,
   "metadata": {},
   "outputs": [
    {
     "data": {
      "text/html": [
       "<div>\n",
       "<style scoped>\n",
       "    .dataframe tbody tr th:only-of-type {\n",
       "        vertical-align: middle;\n",
       "    }\n",
       "\n",
       "    .dataframe tbody tr th {\n",
       "        vertical-align: top;\n",
       "    }\n",
       "\n",
       "    .dataframe thead th {\n",
       "        text-align: right;\n",
       "    }\n",
       "</style>\n",
       "<table border=\"1\" class=\"dataframe\">\n",
       "  <thead>\n",
       "    <tr style=\"text-align: right;\">\n",
       "      <th></th>\n",
       "      <th>G1</th>\n",
       "      <th>G2</th>\n",
       "      <th>G3</th>\n",
       "      <th>absences</th>\n",
       "      <th>studytime</th>\n",
       "      <th>freetime</th>\n",
       "      <th>health</th>\n",
       "    </tr>\n",
       "  </thead>\n",
       "  <tbody>\n",
       "    <tr>\n",
       "      <th>0</th>\n",
       "      <td>5</td>\n",
       "      <td>6</td>\n",
       "      <td>6</td>\n",
       "      <td>6</td>\n",
       "      <td>2</td>\n",
       "      <td>3</td>\n",
       "      <td>3</td>\n",
       "    </tr>\n",
       "    <tr>\n",
       "      <th>1</th>\n",
       "      <td>5</td>\n",
       "      <td>5</td>\n",
       "      <td>6</td>\n",
       "      <td>4</td>\n",
       "      <td>2</td>\n",
       "      <td>3</td>\n",
       "      <td>3</td>\n",
       "    </tr>\n",
       "    <tr>\n",
       "      <th>2</th>\n",
       "      <td>7</td>\n",
       "      <td>8</td>\n",
       "      <td>10</td>\n",
       "      <td>10</td>\n",
       "      <td>2</td>\n",
       "      <td>3</td>\n",
       "      <td>3</td>\n",
       "    </tr>\n",
       "    <tr>\n",
       "      <th>3</th>\n",
       "      <td>15</td>\n",
       "      <td>14</td>\n",
       "      <td>15</td>\n",
       "      <td>2</td>\n",
       "      <td>3</td>\n",
       "      <td>2</td>\n",
       "      <td>5</td>\n",
       "    </tr>\n",
       "    <tr>\n",
       "      <th>4</th>\n",
       "      <td>6</td>\n",
       "      <td>10</td>\n",
       "      <td>10</td>\n",
       "      <td>4</td>\n",
       "      <td>2</td>\n",
       "      <td>3</td>\n",
       "      <td>5</td>\n",
       "    </tr>\n",
       "  </tbody>\n",
       "</table>\n",
       "</div>"
      ],
      "text/plain": [
       "   G1  G2  G3  absences  studytime  freetime  health\n",
       "0   5   6   6         6          2         3       3\n",
       "1   5   5   6         4          2         3       3\n",
       "2   7   8  10        10          2         3       3\n",
       "3  15  14  15         2          3         2       5\n",
       "4   6  10  10         4          2         3       5"
      ]
     },
     "execution_count": 13,
     "metadata": {},
     "output_type": "execute_result"
    }
   ],
   "source": [
    "df.head()"
   ]
  },
  {
   "cell_type": "code",
   "execution_count": 14,
   "metadata": {},
   "outputs": [
    {
     "name": "stdout",
     "output_type": "stream",
     "text": [
      "<class 'pandas.core.frame.DataFrame'>\n",
      "RangeIndex: 395 entries, 0 to 394\n",
      "Data columns (total 7 columns):\n",
      " #   Column     Non-Null Count  Dtype\n",
      "---  ------     --------------  -----\n",
      " 0   G1         395 non-null    int64\n",
      " 1   G2         395 non-null    int64\n",
      " 2   G3         395 non-null    int64\n",
      " 3   absences   395 non-null    int64\n",
      " 4   studytime  395 non-null    int64\n",
      " 5   freetime   395 non-null    int64\n",
      " 6   health     395 non-null    int64\n",
      "dtypes: int64(7)\n",
      "memory usage: 21.7 KB\n"
     ]
    }
   ],
   "source": [
    "df.info()"
   ]
  },
  {
   "cell_type": "markdown",
   "metadata": {},
   "source": [
    "### predict G3 marks "
   ]
  },
  {
   "cell_type": "code",
   "execution_count": 15,
   "metadata": {},
   "outputs": [],
   "source": [
    "predict = \"G3\""
   ]
  },
  {
   "cell_type": "code",
   "execution_count": 16,
   "metadata": {},
   "outputs": [
    {
     "name": "stdout",
     "output_type": "stream",
     "text": [
      "[[ 5  6  6  2  3  3]\n",
      " [ 5  5  4  2  3  3]\n",
      " [ 7  8 10  2  3  3]\n",
      " ...\n",
      " [10  8  3  1  5  3]\n",
      " [11 12  0  1  4  5]\n",
      " [ 8  9  5  1  2  5]]\n"
     ]
    }
   ],
   "source": [
    "# y = mx + c\n",
    "\n",
    "# x will have g1 and g2 value only \n",
    "X = np.array(df.drop([predict], 1)) \n",
    "print(X)"
   ]
  },
  {
   "cell_type": "code",
   "execution_count": 17,
   "metadata": {},
   "outputs": [
    {
     "name": "stdout",
     "output_type": "stream",
     "text": [
      "[[ 6]\n",
      " [ 6]\n",
      " [10]\n",
      " [15]\n",
      " [10]\n",
      " [15]\n",
      " [11]\n",
      " [ 6]\n",
      " [19]\n",
      " [15]\n",
      " [ 9]\n",
      " [12]\n",
      " [14]\n",
      " [11]\n",
      " [16]\n",
      " [14]\n",
      " [14]\n",
      " [10]\n",
      " [ 5]\n",
      " [10]\n",
      " [15]\n",
      " [15]\n",
      " [16]\n",
      " [12]\n",
      " [ 8]\n",
      " [ 8]\n",
      " [11]\n",
      " [15]\n",
      " [11]\n",
      " [11]\n",
      " [12]\n",
      " [17]\n",
      " [16]\n",
      " [12]\n",
      " [15]\n",
      " [ 6]\n",
      " [18]\n",
      " [15]\n",
      " [11]\n",
      " [13]\n",
      " [11]\n",
      " [12]\n",
      " [18]\n",
      " [11]\n",
      " [ 9]\n",
      " [ 6]\n",
      " [11]\n",
      " [20]\n",
      " [14]\n",
      " [ 7]\n",
      " [13]\n",
      " [13]\n",
      " [10]\n",
      " [11]\n",
      " [13]\n",
      " [10]\n",
      " [15]\n",
      " [15]\n",
      " [ 9]\n",
      " [16]\n",
      " [11]\n",
      " [11]\n",
      " [ 9]\n",
      " [ 9]\n",
      " [10]\n",
      " [15]\n",
      " [12]\n",
      " [ 6]\n",
      " [ 8]\n",
      " [16]\n",
      " [15]\n",
      " [10]\n",
      " [ 5]\n",
      " [14]\n",
      " [11]\n",
      " [10]\n",
      " [10]\n",
      " [11]\n",
      " [10]\n",
      " [ 5]\n",
      " [12]\n",
      " [11]\n",
      " [ 6]\n",
      " [15]\n",
      " [10]\n",
      " [ 8]\n",
      " [ 6]\n",
      " [14]\n",
      " [10]\n",
      " [ 7]\n",
      " [ 8]\n",
      " [18]\n",
      " [ 6]\n",
      " [10]\n",
      " [14]\n",
      " [10]\n",
      " [15]\n",
      " [10]\n",
      " [14]\n",
      " [ 8]\n",
      " [ 5]\n",
      " [17]\n",
      " [14]\n",
      " [ 6]\n",
      " [18]\n",
      " [11]\n",
      " [ 8]\n",
      " [18]\n",
      " [13]\n",
      " [16]\n",
      " [19]\n",
      " [10]\n",
      " [13]\n",
      " [19]\n",
      " [ 9]\n",
      " [16]\n",
      " [14]\n",
      " [13]\n",
      " [ 8]\n",
      " [13]\n",
      " [15]\n",
      " [15]\n",
      " [13]\n",
      " [13]\n",
      " [ 8]\n",
      " [12]\n",
      " [11]\n",
      " [ 9]\n",
      " [ 0]\n",
      " [18]\n",
      " [ 0]\n",
      " [ 0]\n",
      " [12]\n",
      " [11]\n",
      " [ 0]\n",
      " [ 0]\n",
      " [ 0]\n",
      " [ 0]\n",
      " [12]\n",
      " [15]\n",
      " [ 0]\n",
      " [ 9]\n",
      " [11]\n",
      " [13]\n",
      " [ 0]\n",
      " [11]\n",
      " [ 0]\n",
      " [11]\n",
      " [ 0]\n",
      " [10]\n",
      " [ 0]\n",
      " [14]\n",
      " [10]\n",
      " [ 0]\n",
      " [12]\n",
      " [ 8]\n",
      " [13]\n",
      " [10]\n",
      " [15]\n",
      " [12]\n",
      " [ 0]\n",
      " [ 7]\n",
      " [ 0]\n",
      " [10]\n",
      " [ 7]\n",
      " [12]\n",
      " [10]\n",
      " [16]\n",
      " [ 0]\n",
      " [14]\n",
      " [ 0]\n",
      " [16]\n",
      " [10]\n",
      " [ 0]\n",
      " [ 9]\n",
      " [ 9]\n",
      " [11]\n",
      " [ 6]\n",
      " [ 9]\n",
      " [11]\n",
      " [ 8]\n",
      " [12]\n",
      " [17]\n",
      " [ 8]\n",
      " [12]\n",
      " [11]\n",
      " [11]\n",
      " [15]\n",
      " [ 9]\n",
      " [10]\n",
      " [13]\n",
      " [ 9]\n",
      " [ 8]\n",
      " [10]\n",
      " [14]\n",
      " [15]\n",
      " [16]\n",
      " [10]\n",
      " [18]\n",
      " [10]\n",
      " [16]\n",
      " [10]\n",
      " [10]\n",
      " [ 6]\n",
      " [11]\n",
      " [ 9]\n",
      " [ 7]\n",
      " [13]\n",
      " [10]\n",
      " [ 7]\n",
      " [ 8]\n",
      " [13]\n",
      " [14]\n",
      " [ 8]\n",
      " [10]\n",
      " [15]\n",
      " [ 4]\n",
      " [ 8]\n",
      " [ 8]\n",
      " [10]\n",
      " [ 6]\n",
      " [ 0]\n",
      " [17]\n",
      " [13]\n",
      " [14]\n",
      " [ 7]\n",
      " [15]\n",
      " [12]\n",
      " [ 9]\n",
      " [12]\n",
      " [14]\n",
      " [11]\n",
      " [ 9]\n",
      " [13]\n",
      " [ 6]\n",
      " [10]\n",
      " [13]\n",
      " [12]\n",
      " [11]\n",
      " [ 0]\n",
      " [12]\n",
      " [12]\n",
      " [ 0]\n",
      " [12]\n",
      " [ 0]\n",
      " [18]\n",
      " [13]\n",
      " [ 8]\n",
      " [ 5]\n",
      " [15]\n",
      " [ 8]\n",
      " [10]\n",
      " [ 8]\n",
      " [ 8]\n",
      " [12]\n",
      " [ 8]\n",
      " [13]\n",
      " [11]\n",
      " [14]\n",
      " [ 0]\n",
      " [18]\n",
      " [ 8]\n",
      " [12]\n",
      " [ 9]\n",
      " [ 0]\n",
      " [17]\n",
      " [10]\n",
      " [11]\n",
      " [10]\n",
      " [ 0]\n",
      " [ 9]\n",
      " [14]\n",
      " [11]\n",
      " [14]\n",
      " [10]\n",
      " [12]\n",
      " [ 9]\n",
      " [ 9]\n",
      " [ 8]\n",
      " [10]\n",
      " [ 8]\n",
      " [10]\n",
      " [12]\n",
      " [10]\n",
      " [11]\n",
      " [11]\n",
      " [19]\n",
      " [12]\n",
      " [14]\n",
      " [15]\n",
      " [11]\n",
      " [15]\n",
      " [13]\n",
      " [18]\n",
      " [14]\n",
      " [11]\n",
      " [ 0]\n",
      " [ 8]\n",
      " [14]\n",
      " [16]\n",
      " [11]\n",
      " [10]\n",
      " [14]\n",
      " [18]\n",
      " [13]\n",
      " [12]\n",
      " [18]\n",
      " [ 8]\n",
      " [12]\n",
      " [10]\n",
      " [ 0]\n",
      " [13]\n",
      " [11]\n",
      " [11]\n",
      " [13]\n",
      " [11]\n",
      " [ 0]\n",
      " [ 9]\n",
      " [10]\n",
      " [11]\n",
      " [13]\n",
      " [ 9]\n",
      " [11]\n",
      " [15]\n",
      " [15]\n",
      " [11]\n",
      " [16]\n",
      " [10]\n",
      " [ 9]\n",
      " [14]\n",
      " [ 8]\n",
      " [14]\n",
      " [ 0]\n",
      " [ 0]\n",
      " [ 0]\n",
      " [15]\n",
      " [13]\n",
      " [ 0]\n",
      " [17]\n",
      " [10]\n",
      " [11]\n",
      " [ 0]\n",
      " [15]\n",
      " [ 0]\n",
      " [10]\n",
      " [14]\n",
      " [16]\n",
      " [ 9]\n",
      " [15]\n",
      " [13]\n",
      " [ 8]\n",
      " [13]\n",
      " [ 8]\n",
      " [ 8]\n",
      " [11]\n",
      " [ 9]\n",
      " [13]\n",
      " [11]\n",
      " [10]\n",
      " [16]\n",
      " [13]\n",
      " [12]\n",
      " [10]\n",
      " [15]\n",
      " [12]\n",
      " [10]\n",
      " [13]\n",
      " [ 0]\n",
      " [10]\n",
      " [11]\n",
      " [ 9]\n",
      " [12]\n",
      " [11]\n",
      " [ 5]\n",
      " [19]\n",
      " [10]\n",
      " [15]\n",
      " [10]\n",
      " [15]\n",
      " [10]\n",
      " [14]\n",
      " [ 7]\n",
      " [10]\n",
      " [ 0]\n",
      " [ 5]\n",
      " [10]\n",
      " [ 6]\n",
      " [ 0]\n",
      " [ 8]\n",
      " [ 0]\n",
      " [ 9]\n",
      " [16]\n",
      " [ 7]\n",
      " [10]\n",
      " [ 9]]\n"
     ]
    }
   ],
   "source": [
    "# y will have g3 value which we will predict\n",
    "y = np.array(df[[predict]])\n",
    "print(y)"
   ]
  },
  {
   "cell_type": "code",
   "execution_count": null,
   "metadata": {},
   "outputs": [],
   "source": []
  },
  {
   "cell_type": "code",
   "execution_count": 18,
   "metadata": {},
   "outputs": [],
   "source": [
    "# spliting the data into test and train in the ratio of 90:10\n",
    "# spliting into four arrays\n",
    "\n"
   ]
  },
  {
   "cell_type": "markdown",
   "metadata": {},
   "source": [
    "#### spliting data syntax here should be moved after tranning module"
   ]
  },
  {
   "cell_type": "code",
   "execution_count": 19,
   "metadata": {},
   "outputs": [],
   "source": [
    "\n",
    "# x_train, x_test, y_train, y_test = sklearn.model_selection.train_test_split(X, y, test_size = 0.1, random_state=0)\n"
   ]
  },
  {
   "cell_type": "markdown",
   "metadata": {},
   "source": [
    "#### Only best tranied model will get saved "
   ]
  },
  {
   "cell_type": "code",
   "execution_count": 20,
   "metadata": {},
   "outputs": [
    {
     "data": {
      "text/plain": [
       "LinearRegression()"
      ]
     },
     "execution_count": 20,
     "metadata": {},
     "output_type": "execute_result"
    },
    {
     "name": "stdout",
     "output_type": "stream",
     "text": [
      "accuracy: 0.7997245199293487\n"
     ]
    },
    {
     "data": {
      "text/plain": [
       "LinearRegression()"
      ]
     },
     "execution_count": 20,
     "metadata": {},
     "output_type": "execute_result"
    },
    {
     "name": "stdout",
     "output_type": "stream",
     "text": [
      "accuracy: 0.7161443795949878\n"
     ]
    },
    {
     "data": {
      "text/plain": [
       "LinearRegression()"
      ]
     },
     "execution_count": 20,
     "metadata": {},
     "output_type": "execute_result"
    },
    {
     "name": "stdout",
     "output_type": "stream",
     "text": [
      "accuracy: 0.8359047555122553\n"
     ]
    },
    {
     "data": {
      "text/plain": [
       "LinearRegression()"
      ]
     },
     "execution_count": 20,
     "metadata": {},
     "output_type": "execute_result"
    },
    {
     "name": "stdout",
     "output_type": "stream",
     "text": [
      "accuracy: 0.8823188794670557\n"
     ]
    },
    {
     "data": {
      "text/plain": [
       "LinearRegression()"
      ]
     },
     "execution_count": 20,
     "metadata": {},
     "output_type": "execute_result"
    },
    {
     "name": "stdout",
     "output_type": "stream",
     "text": [
      "accuracy: 0.7787529377230784\n"
     ]
    },
    {
     "data": {
      "text/plain": [
       "LinearRegression()"
      ]
     },
     "execution_count": 20,
     "metadata": {},
     "output_type": "execute_result"
    },
    {
     "name": "stdout",
     "output_type": "stream",
     "text": [
      "accuracy: 0.7413436290536166\n"
     ]
    },
    {
     "data": {
      "text/plain": [
       "LinearRegression()"
      ]
     },
     "execution_count": 20,
     "metadata": {},
     "output_type": "execute_result"
    },
    {
     "name": "stdout",
     "output_type": "stream",
     "text": [
      "accuracy: 0.8998430051747466\n"
     ]
    },
    {
     "data": {
      "text/plain": [
       "LinearRegression()"
      ]
     },
     "execution_count": 20,
     "metadata": {},
     "output_type": "execute_result"
    },
    {
     "name": "stdout",
     "output_type": "stream",
     "text": [
      "accuracy: 0.8221729428310981\n"
     ]
    },
    {
     "data": {
      "text/plain": [
       "LinearRegression()"
      ]
     },
     "execution_count": 20,
     "metadata": {},
     "output_type": "execute_result"
    },
    {
     "name": "stdout",
     "output_type": "stream",
     "text": [
      "accuracy: 0.8212086125577975\n"
     ]
    },
    {
     "data": {
      "text/plain": [
       "LinearRegression()"
      ]
     },
     "execution_count": 20,
     "metadata": {},
     "output_type": "execute_result"
    },
    {
     "name": "stdout",
     "output_type": "stream",
     "text": [
      "accuracy: 0.8786590963874576\n"
     ]
    },
    {
     "data": {
      "text/plain": [
       "LinearRegression()"
      ]
     },
     "execution_count": 20,
     "metadata": {},
     "output_type": "execute_result"
    },
    {
     "name": "stdout",
     "output_type": "stream",
     "text": [
      "accuracy: 0.8426886336131183\n"
     ]
    },
    {
     "data": {
      "text/plain": [
       "LinearRegression()"
      ]
     },
     "execution_count": 20,
     "metadata": {},
     "output_type": "execute_result"
    },
    {
     "name": "stdout",
     "output_type": "stream",
     "text": [
      "accuracy: 0.8716102880020089\n"
     ]
    },
    {
     "data": {
      "text/plain": [
       "LinearRegression()"
      ]
     },
     "execution_count": 20,
     "metadata": {},
     "output_type": "execute_result"
    },
    {
     "name": "stdout",
     "output_type": "stream",
     "text": [
      "accuracy: 0.8024825927655161\n"
     ]
    },
    {
     "data": {
      "text/plain": [
       "LinearRegression()"
      ]
     },
     "execution_count": 20,
     "metadata": {},
     "output_type": "execute_result"
    },
    {
     "name": "stdout",
     "output_type": "stream",
     "text": [
      "accuracy: 0.7309742284715735\n"
     ]
    },
    {
     "data": {
      "text/plain": [
       "LinearRegression()"
      ]
     },
     "execution_count": 20,
     "metadata": {},
     "output_type": "execute_result"
    },
    {
     "name": "stdout",
     "output_type": "stream",
     "text": [
      "accuracy: 0.8755569238449853\n"
     ]
    },
    {
     "data": {
      "text/plain": [
       "LinearRegression()"
      ]
     },
     "execution_count": 20,
     "metadata": {},
     "output_type": "execute_result"
    },
    {
     "name": "stdout",
     "output_type": "stream",
     "text": [
      "accuracy: 0.8025705648429484\n"
     ]
    },
    {
     "data": {
      "text/plain": [
       "LinearRegression()"
      ]
     },
     "execution_count": 20,
     "metadata": {},
     "output_type": "execute_result"
    },
    {
     "name": "stdout",
     "output_type": "stream",
     "text": [
      "accuracy: 0.8048742573677448\n"
     ]
    },
    {
     "data": {
      "text/plain": [
       "LinearRegression()"
      ]
     },
     "execution_count": 20,
     "metadata": {},
     "output_type": "execute_result"
    },
    {
     "name": "stdout",
     "output_type": "stream",
     "text": [
      "accuracy: 0.9132887592481064\n"
     ]
    },
    {
     "data": {
      "text/plain": [
       "LinearRegression()"
      ]
     },
     "execution_count": 20,
     "metadata": {},
     "output_type": "execute_result"
    },
    {
     "name": "stdout",
     "output_type": "stream",
     "text": [
      "accuracy: 0.7615729227363499\n"
     ]
    },
    {
     "data": {
      "text/plain": [
       "LinearRegression()"
      ]
     },
     "execution_count": 20,
     "metadata": {},
     "output_type": "execute_result"
    },
    {
     "name": "stdout",
     "output_type": "stream",
     "text": [
      "accuracy: 0.8147745667266444\n"
     ]
    },
    {
     "data": {
      "text/plain": [
       "LinearRegression()"
      ]
     },
     "execution_count": 20,
     "metadata": {},
     "output_type": "execute_result"
    },
    {
     "name": "stdout",
     "output_type": "stream",
     "text": [
      "accuracy: 0.8404261456839065\n"
     ]
    },
    {
     "data": {
      "text/plain": [
       "LinearRegression()"
      ]
     },
     "execution_count": 20,
     "metadata": {},
     "output_type": "execute_result"
    },
    {
     "name": "stdout",
     "output_type": "stream",
     "text": [
      "accuracy: 0.8093021033916492\n"
     ]
    },
    {
     "data": {
      "text/plain": [
       "LinearRegression()"
      ]
     },
     "execution_count": 20,
     "metadata": {},
     "output_type": "execute_result"
    },
    {
     "name": "stdout",
     "output_type": "stream",
     "text": [
      "accuracy: 0.8530480200500208\n"
     ]
    },
    {
     "data": {
      "text/plain": [
       "LinearRegression()"
      ]
     },
     "execution_count": 20,
     "metadata": {},
     "output_type": "execute_result"
    },
    {
     "name": "stdout",
     "output_type": "stream",
     "text": [
      "accuracy: 0.8317450163021508\n"
     ]
    },
    {
     "data": {
      "text/plain": [
       "LinearRegression()"
      ]
     },
     "execution_count": 20,
     "metadata": {},
     "output_type": "execute_result"
    },
    {
     "name": "stdout",
     "output_type": "stream",
     "text": [
      "accuracy: 0.8302216896536364\n"
     ]
    },
    {
     "data": {
      "text/plain": [
       "LinearRegression()"
      ]
     },
     "execution_count": 20,
     "metadata": {},
     "output_type": "execute_result"
    },
    {
     "name": "stdout",
     "output_type": "stream",
     "text": [
      "accuracy: 0.7803712987056978\n"
     ]
    },
    {
     "data": {
      "text/plain": [
       "LinearRegression()"
      ]
     },
     "execution_count": 20,
     "metadata": {},
     "output_type": "execute_result"
    },
    {
     "name": "stdout",
     "output_type": "stream",
     "text": [
      "accuracy: 0.7441855962880353\n"
     ]
    },
    {
     "data": {
      "text/plain": [
       "LinearRegression()"
      ]
     },
     "execution_count": 20,
     "metadata": {},
     "output_type": "execute_result"
    },
    {
     "name": "stdout",
     "output_type": "stream",
     "text": [
      "accuracy: 0.8274601632671033\n"
     ]
    },
    {
     "data": {
      "text/plain": [
       "LinearRegression()"
      ]
     },
     "execution_count": 20,
     "metadata": {},
     "output_type": "execute_result"
    },
    {
     "name": "stdout",
     "output_type": "stream",
     "text": [
      "accuracy: 0.8699187637323389\n"
     ]
    },
    {
     "data": {
      "text/plain": [
       "LinearRegression()"
      ]
     },
     "execution_count": 20,
     "metadata": {},
     "output_type": "execute_result"
    },
    {
     "name": "stdout",
     "output_type": "stream",
     "text": [
      "accuracy: 0.7760904406066289\n"
     ]
    },
    {
     "data": {
      "text/plain": [
       "LinearRegression()"
      ]
     },
     "execution_count": 20,
     "metadata": {},
     "output_type": "execute_result"
    },
    {
     "name": "stdout",
     "output_type": "stream",
     "text": [
      "accuracy: 0.7945226096650903\n"
     ]
    },
    {
     "data": {
      "text/plain": [
       "LinearRegression()"
      ]
     },
     "execution_count": 20,
     "metadata": {},
     "output_type": "execute_result"
    },
    {
     "name": "stdout",
     "output_type": "stream",
     "text": [
      "accuracy: 0.765295789738786\n"
     ]
    },
    {
     "data": {
      "text/plain": [
       "LinearRegression()"
      ]
     },
     "execution_count": 20,
     "metadata": {},
     "output_type": "execute_result"
    },
    {
     "name": "stdout",
     "output_type": "stream",
     "text": [
      "accuracy: 0.7616184358511932\n"
     ]
    },
    {
     "data": {
      "text/plain": [
       "LinearRegression()"
      ]
     },
     "execution_count": 20,
     "metadata": {},
     "output_type": "execute_result"
    },
    {
     "name": "stdout",
     "output_type": "stream",
     "text": [
      "accuracy: 0.7426597151273482\n"
     ]
    },
    {
     "data": {
      "text/plain": [
       "LinearRegression()"
      ]
     },
     "execution_count": 20,
     "metadata": {},
     "output_type": "execute_result"
    },
    {
     "name": "stdout",
     "output_type": "stream",
     "text": [
      "accuracy: 0.7004868626127109\n"
     ]
    },
    {
     "data": {
      "text/plain": [
       "LinearRegression()"
      ]
     },
     "execution_count": 20,
     "metadata": {},
     "output_type": "execute_result"
    },
    {
     "name": "stdout",
     "output_type": "stream",
     "text": [
      "accuracy: 0.8543998872685951\n"
     ]
    },
    {
     "data": {
      "text/plain": [
       "LinearRegression()"
      ]
     },
     "execution_count": 20,
     "metadata": {},
     "output_type": "execute_result"
    },
    {
     "name": "stdout",
     "output_type": "stream",
     "text": [
      "accuracy: 0.7406133640530698\n"
     ]
    },
    {
     "data": {
      "text/plain": [
       "LinearRegression()"
      ]
     },
     "execution_count": 20,
     "metadata": {},
     "output_type": "execute_result"
    },
    {
     "name": "stdout",
     "output_type": "stream",
     "text": [
      "accuracy: 0.8078660121977355\n"
     ]
    },
    {
     "data": {
      "text/plain": [
       "LinearRegression()"
      ]
     },
     "execution_count": 20,
     "metadata": {},
     "output_type": "execute_result"
    },
    {
     "name": "stdout",
     "output_type": "stream",
     "text": [
      "accuracy: 0.7570532363151247\n"
     ]
    },
    {
     "data": {
      "text/plain": [
       "LinearRegression()"
      ]
     },
     "execution_count": 20,
     "metadata": {},
     "output_type": "execute_result"
    },
    {
     "name": "stdout",
     "output_type": "stream",
     "text": [
      "accuracy: 0.7896483601814089\n"
     ]
    },
    {
     "data": {
      "text/plain": [
       "LinearRegression()"
      ]
     },
     "execution_count": 20,
     "metadata": {},
     "output_type": "execute_result"
    },
    {
     "name": "stdout",
     "output_type": "stream",
     "text": [
      "accuracy: 0.8700994360050595\n"
     ]
    },
    {
     "data": {
      "text/plain": [
       "LinearRegression()"
      ]
     },
     "execution_count": 20,
     "metadata": {},
     "output_type": "execute_result"
    },
    {
     "name": "stdout",
     "output_type": "stream",
     "text": [
      "accuracy: 0.8301950327192134\n"
     ]
    },
    {
     "data": {
      "text/plain": [
       "LinearRegression()"
      ]
     },
     "execution_count": 20,
     "metadata": {},
     "output_type": "execute_result"
    },
    {
     "name": "stdout",
     "output_type": "stream",
     "text": [
      "accuracy: 0.8421255315935708\n"
     ]
    },
    {
     "data": {
      "text/plain": [
       "LinearRegression()"
      ]
     },
     "execution_count": 20,
     "metadata": {},
     "output_type": "execute_result"
    },
    {
     "name": "stdout",
     "output_type": "stream",
     "text": [
      "accuracy: 0.9334181576069177\n"
     ]
    },
    {
     "data": {
      "text/plain": [
       "LinearRegression()"
      ]
     },
     "execution_count": 20,
     "metadata": {},
     "output_type": "execute_result"
    },
    {
     "name": "stdout",
     "output_type": "stream",
     "text": [
      "accuracy: 0.7993229993244386\n"
     ]
    },
    {
     "data": {
      "text/plain": [
       "LinearRegression()"
      ]
     },
     "execution_count": 20,
     "metadata": {},
     "output_type": "execute_result"
    },
    {
     "name": "stdout",
     "output_type": "stream",
     "text": [
      "accuracy: 0.7171049780420978\n"
     ]
    },
    {
     "data": {
      "text/plain": [
       "LinearRegression()"
      ]
     },
     "execution_count": 20,
     "metadata": {},
     "output_type": "execute_result"
    },
    {
     "name": "stdout",
     "output_type": "stream",
     "text": [
      "accuracy: 0.7745590615517471\n"
     ]
    },
    {
     "data": {
      "text/plain": [
       "LinearRegression()"
      ]
     },
     "execution_count": 20,
     "metadata": {},
     "output_type": "execute_result"
    },
    {
     "name": "stdout",
     "output_type": "stream",
     "text": [
      "accuracy: 0.8932680064712615\n"
     ]
    },
    {
     "data": {
      "text/plain": [
       "LinearRegression()"
      ]
     },
     "execution_count": 20,
     "metadata": {},
     "output_type": "execute_result"
    },
    {
     "name": "stdout",
     "output_type": "stream",
     "text": [
      "accuracy: 0.864168433653178\n"
     ]
    },
    {
     "data": {
      "text/plain": [
       "LinearRegression()"
      ]
     },
     "execution_count": 20,
     "metadata": {},
     "output_type": "execute_result"
    },
    {
     "name": "stdout",
     "output_type": "stream",
     "text": [
      "accuracy: 0.8631446830073776\n"
     ]
    },
    {
     "data": {
      "text/plain": [
       "LinearRegression()"
      ]
     },
     "execution_count": 20,
     "metadata": {},
     "output_type": "execute_result"
    },
    {
     "name": "stdout",
     "output_type": "stream",
     "text": [
      "accuracy: 0.8956930263812556\n"
     ]
    },
    {
     "data": {
      "text/plain": [
       "LinearRegression()"
      ]
     },
     "execution_count": 20,
     "metadata": {},
     "output_type": "execute_result"
    },
    {
     "name": "stdout",
     "output_type": "stream",
     "text": [
      "accuracy: 0.7933529397593261\n"
     ]
    },
    {
     "data": {
      "text/plain": [
       "LinearRegression()"
      ]
     },
     "execution_count": 20,
     "metadata": {},
     "output_type": "execute_result"
    },
    {
     "name": "stdout",
     "output_type": "stream",
     "text": [
      "accuracy: 0.8752078281205891\n"
     ]
    },
    {
     "data": {
      "text/plain": [
       "LinearRegression()"
      ]
     },
     "execution_count": 20,
     "metadata": {},
     "output_type": "execute_result"
    },
    {
     "name": "stdout",
     "output_type": "stream",
     "text": [
      "accuracy: 0.8613596468323789\n"
     ]
    },
    {
     "data": {
      "text/plain": [
       "LinearRegression()"
      ]
     },
     "execution_count": 20,
     "metadata": {},
     "output_type": "execute_result"
    },
    {
     "name": "stdout",
     "output_type": "stream",
     "text": [
      "accuracy: 0.9022957882204049\n"
     ]
    },
    {
     "data": {
      "text/plain": [
       "LinearRegression()"
      ]
     },
     "execution_count": 20,
     "metadata": {},
     "output_type": "execute_result"
    },
    {
     "name": "stdout",
     "output_type": "stream",
     "text": [
      "accuracy: 0.8840661977309616\n"
     ]
    },
    {
     "data": {
      "text/plain": [
       "LinearRegression()"
      ]
     },
     "execution_count": 20,
     "metadata": {},
     "output_type": "execute_result"
    },
    {
     "name": "stdout",
     "output_type": "stream",
     "text": [
      "accuracy: 0.9053315269440156\n"
     ]
    },
    {
     "data": {
      "text/plain": [
       "LinearRegression()"
      ]
     },
     "execution_count": 20,
     "metadata": {},
     "output_type": "execute_result"
    },
    {
     "name": "stdout",
     "output_type": "stream",
     "text": [
      "accuracy: 0.8491297435209847\n"
     ]
    },
    {
     "data": {
      "text/plain": [
       "LinearRegression()"
      ]
     },
     "execution_count": 20,
     "metadata": {},
     "output_type": "execute_result"
    },
    {
     "name": "stdout",
     "output_type": "stream",
     "text": [
      "accuracy: 0.8135187830526932\n"
     ]
    },
    {
     "data": {
      "text/plain": [
       "LinearRegression()"
      ]
     },
     "execution_count": 20,
     "metadata": {},
     "output_type": "execute_result"
    },
    {
     "name": "stdout",
     "output_type": "stream",
     "text": [
      "accuracy: 0.849050245306638\n"
     ]
    },
    {
     "data": {
      "text/plain": [
       "LinearRegression()"
      ]
     },
     "execution_count": 20,
     "metadata": {},
     "output_type": "execute_result"
    },
    {
     "name": "stdout",
     "output_type": "stream",
     "text": [
      "accuracy: 0.7141211821556372\n"
     ]
    },
    {
     "data": {
      "text/plain": [
       "LinearRegression()"
      ]
     },
     "execution_count": 20,
     "metadata": {},
     "output_type": "execute_result"
    },
    {
     "name": "stdout",
     "output_type": "stream",
     "text": [
      "accuracy: 0.8043471583348231\n"
     ]
    },
    {
     "data": {
      "text/plain": [
       "LinearRegression()"
      ]
     },
     "execution_count": 20,
     "metadata": {},
     "output_type": "execute_result"
    },
    {
     "name": "stdout",
     "output_type": "stream",
     "text": [
      "accuracy: 0.7957654857982441\n"
     ]
    },
    {
     "data": {
      "text/plain": [
       "LinearRegression()"
      ]
     },
     "execution_count": 20,
     "metadata": {},
     "output_type": "execute_result"
    },
    {
     "name": "stdout",
     "output_type": "stream",
     "text": [
      "accuracy: 0.8388427037946204\n"
     ]
    },
    {
     "data": {
      "text/plain": [
       "LinearRegression()"
      ]
     },
     "execution_count": 20,
     "metadata": {},
     "output_type": "execute_result"
    },
    {
     "name": "stdout",
     "output_type": "stream",
     "text": [
      "accuracy: 0.9031042282125827\n"
     ]
    },
    {
     "data": {
      "text/plain": [
       "LinearRegression()"
      ]
     },
     "execution_count": 20,
     "metadata": {},
     "output_type": "execute_result"
    },
    {
     "name": "stdout",
     "output_type": "stream",
     "text": [
      "accuracy: 0.764321879176922\n"
     ]
    },
    {
     "data": {
      "text/plain": [
       "LinearRegression()"
      ]
     },
     "execution_count": 20,
     "metadata": {},
     "output_type": "execute_result"
    },
    {
     "name": "stdout",
     "output_type": "stream",
     "text": [
      "accuracy: 0.813818367648291\n"
     ]
    },
    {
     "data": {
      "text/plain": [
       "LinearRegression()"
      ]
     },
     "execution_count": 20,
     "metadata": {},
     "output_type": "execute_result"
    },
    {
     "name": "stdout",
     "output_type": "stream",
     "text": [
      "accuracy: 0.737766219019599\n"
     ]
    },
    {
     "data": {
      "text/plain": [
       "LinearRegression()"
      ]
     },
     "execution_count": 20,
     "metadata": {},
     "output_type": "execute_result"
    },
    {
     "name": "stdout",
     "output_type": "stream",
     "text": [
      "accuracy: 0.7014076457028586\n"
     ]
    },
    {
     "data": {
      "text/plain": [
       "LinearRegression()"
      ]
     },
     "execution_count": 20,
     "metadata": {},
     "output_type": "execute_result"
    },
    {
     "name": "stdout",
     "output_type": "stream",
     "text": [
      "accuracy: 0.6480901216548987\n"
     ]
    },
    {
     "data": {
      "text/plain": [
       "LinearRegression()"
      ]
     },
     "execution_count": 20,
     "metadata": {},
     "output_type": "execute_result"
    },
    {
     "name": "stdout",
     "output_type": "stream",
     "text": [
      "accuracy: 0.7903060764711928\n"
     ]
    },
    {
     "data": {
      "text/plain": [
       "LinearRegression()"
      ]
     },
     "execution_count": 20,
     "metadata": {},
     "output_type": "execute_result"
    },
    {
     "name": "stdout",
     "output_type": "stream",
     "text": [
      "accuracy: 0.8965375453035239\n"
     ]
    },
    {
     "data": {
      "text/plain": [
       "LinearRegression()"
      ]
     },
     "execution_count": 20,
     "metadata": {},
     "output_type": "execute_result"
    },
    {
     "name": "stdout",
     "output_type": "stream",
     "text": [
      "accuracy: 0.6810311023728561\n"
     ]
    },
    {
     "data": {
      "text/plain": [
       "LinearRegression()"
      ]
     },
     "execution_count": 20,
     "metadata": {},
     "output_type": "execute_result"
    },
    {
     "name": "stdout",
     "output_type": "stream",
     "text": [
      "accuracy: 0.8062584316488246\n"
     ]
    },
    {
     "data": {
      "text/plain": [
       "LinearRegression()"
      ]
     },
     "execution_count": 20,
     "metadata": {},
     "output_type": "execute_result"
    },
    {
     "name": "stdout",
     "output_type": "stream",
     "text": [
      "accuracy: 0.8215845260904914\n"
     ]
    },
    {
     "data": {
      "text/plain": [
       "LinearRegression()"
      ]
     },
     "execution_count": 20,
     "metadata": {},
     "output_type": "execute_result"
    },
    {
     "name": "stdout",
     "output_type": "stream",
     "text": [
      "accuracy: 0.8846823999154818\n"
     ]
    },
    {
     "data": {
      "text/plain": [
       "LinearRegression()"
      ]
     },
     "execution_count": 20,
     "metadata": {},
     "output_type": "execute_result"
    },
    {
     "name": "stdout",
     "output_type": "stream",
     "text": [
      "accuracy: 0.8365629752628458\n"
     ]
    },
    {
     "data": {
      "text/plain": [
       "LinearRegression()"
      ]
     },
     "execution_count": 20,
     "metadata": {},
     "output_type": "execute_result"
    },
    {
     "name": "stdout",
     "output_type": "stream",
     "text": [
      "accuracy: 0.7876581943773103\n"
     ]
    },
    {
     "data": {
      "text/plain": [
       "LinearRegression()"
      ]
     },
     "execution_count": 20,
     "metadata": {},
     "output_type": "execute_result"
    },
    {
     "name": "stdout",
     "output_type": "stream",
     "text": [
      "accuracy: 0.7622222927878674\n"
     ]
    },
    {
     "data": {
      "text/plain": [
       "LinearRegression()"
      ]
     },
     "execution_count": 20,
     "metadata": {},
     "output_type": "execute_result"
    },
    {
     "name": "stdout",
     "output_type": "stream",
     "text": [
      "accuracy: 0.8591602175309974\n"
     ]
    },
    {
     "data": {
      "text/plain": [
       "LinearRegression()"
      ]
     },
     "execution_count": 20,
     "metadata": {},
     "output_type": "execute_result"
    },
    {
     "name": "stdout",
     "output_type": "stream",
     "text": [
      "accuracy: 0.8527006722592425\n"
     ]
    },
    {
     "data": {
      "text/plain": [
       "LinearRegression()"
      ]
     },
     "execution_count": 20,
     "metadata": {},
     "output_type": "execute_result"
    },
    {
     "name": "stdout",
     "output_type": "stream",
     "text": [
      "accuracy: 0.8420436377142219\n"
     ]
    },
    {
     "data": {
      "text/plain": [
       "LinearRegression()"
      ]
     },
     "execution_count": 20,
     "metadata": {},
     "output_type": "execute_result"
    },
    {
     "name": "stdout",
     "output_type": "stream",
     "text": [
      "accuracy: 0.8104125280273086\n"
     ]
    },
    {
     "data": {
      "text/plain": [
       "LinearRegression()"
      ]
     },
     "execution_count": 20,
     "metadata": {},
     "output_type": "execute_result"
    },
    {
     "name": "stdout",
     "output_type": "stream",
     "text": [
      "accuracy: 0.8242468416511336\n"
     ]
    },
    {
     "data": {
      "text/plain": [
       "LinearRegression()"
      ]
     },
     "execution_count": 20,
     "metadata": {},
     "output_type": "execute_result"
    },
    {
     "name": "stdout",
     "output_type": "stream",
     "text": [
      "accuracy: 0.8992369607343795\n"
     ]
    },
    {
     "data": {
      "text/plain": [
       "LinearRegression()"
      ]
     },
     "execution_count": 20,
     "metadata": {},
     "output_type": "execute_result"
    },
    {
     "name": "stdout",
     "output_type": "stream",
     "text": [
      "accuracy: 0.9087005065020122\n"
     ]
    },
    {
     "data": {
      "text/plain": [
       "LinearRegression()"
      ]
     },
     "execution_count": 20,
     "metadata": {},
     "output_type": "execute_result"
    },
    {
     "name": "stdout",
     "output_type": "stream",
     "text": [
      "accuracy: 0.8637505231571605\n"
     ]
    },
    {
     "data": {
      "text/plain": [
       "LinearRegression()"
      ]
     },
     "execution_count": 20,
     "metadata": {},
     "output_type": "execute_result"
    },
    {
     "name": "stdout",
     "output_type": "stream",
     "text": [
      "accuracy: 0.8516287776765421\n"
     ]
    },
    {
     "data": {
      "text/plain": [
       "LinearRegression()"
      ]
     },
     "execution_count": 20,
     "metadata": {},
     "output_type": "execute_result"
    },
    {
     "name": "stdout",
     "output_type": "stream",
     "text": [
      "accuracy: 0.7946049362825617\n"
     ]
    },
    {
     "data": {
      "text/plain": [
       "LinearRegression()"
      ]
     },
     "execution_count": 20,
     "metadata": {},
     "output_type": "execute_result"
    },
    {
     "name": "stdout",
     "output_type": "stream",
     "text": [
      "accuracy: 0.9250248493200436\n"
     ]
    },
    {
     "data": {
      "text/plain": [
       "LinearRegression()"
      ]
     },
     "execution_count": 20,
     "metadata": {},
     "output_type": "execute_result"
    },
    {
     "name": "stdout",
     "output_type": "stream",
     "text": [
      "accuracy: 0.8583130212584564\n"
     ]
    },
    {
     "data": {
      "text/plain": [
       "LinearRegression()"
      ]
     },
     "execution_count": 20,
     "metadata": {},
     "output_type": "execute_result"
    },
    {
     "name": "stdout",
     "output_type": "stream",
     "text": [
      "accuracy: 0.9047854593155269\n"
     ]
    },
    {
     "data": {
      "text/plain": [
       "LinearRegression()"
      ]
     },
     "execution_count": 20,
     "metadata": {},
     "output_type": "execute_result"
    },
    {
     "name": "stdout",
     "output_type": "stream",
     "text": [
      "accuracy: 0.7434934408473186\n"
     ]
    },
    {
     "data": {
      "text/plain": [
       "LinearRegression()"
      ]
     },
     "execution_count": 20,
     "metadata": {},
     "output_type": "execute_result"
    },
    {
     "name": "stdout",
     "output_type": "stream",
     "text": [
      "accuracy: 0.9059445587174991\n"
     ]
    },
    {
     "data": {
      "text/plain": [
       "LinearRegression()"
      ]
     },
     "execution_count": 20,
     "metadata": {},
     "output_type": "execute_result"
    },
    {
     "name": "stdout",
     "output_type": "stream",
     "text": [
      "accuracy: 0.8742664025803548\n"
     ]
    },
    {
     "data": {
      "text/plain": [
       "LinearRegression()"
      ]
     },
     "execution_count": 20,
     "metadata": {},
     "output_type": "execute_result"
    },
    {
     "name": "stdout",
     "output_type": "stream",
     "text": [
      "accuracy: 0.8928201989089892\n"
     ]
    },
    {
     "data": {
      "text/plain": [
       "LinearRegression()"
      ]
     },
     "execution_count": 20,
     "metadata": {},
     "output_type": "execute_result"
    },
    {
     "name": "stdout",
     "output_type": "stream",
     "text": [
      "accuracy: 0.8003861667461601\n"
     ]
    },
    {
     "data": {
      "text/plain": [
       "LinearRegression()"
      ]
     },
     "execution_count": 20,
     "metadata": {},
     "output_type": "execute_result"
    },
    {
     "name": "stdout",
     "output_type": "stream",
     "text": [
      "accuracy: 0.7605147175785139\n"
     ]
    },
    {
     "data": {
      "text/plain": [
       "LinearRegression()"
      ]
     },
     "execution_count": 20,
     "metadata": {},
     "output_type": "execute_result"
    },
    {
     "name": "stdout",
     "output_type": "stream",
     "text": [
      "accuracy: 0.8785489360972516\n"
     ]
    },
    {
     "data": {
      "text/plain": [
       "LinearRegression()"
      ]
     },
     "execution_count": 20,
     "metadata": {},
     "output_type": "execute_result"
    },
    {
     "name": "stdout",
     "output_type": "stream",
     "text": [
      "accuracy: 0.6793973027110253\n",
      "best accuracy: 0.9334181576069177\n"
     ]
    }
   ],
   "source": [
    "best = 0\n",
    "for i in range(100):\n",
    "    \n",
    "    # spliting data syntax should be moved out of the loop after tranning and storing trained module.\n",
    "    # after test_size in for loop should be added not to select random data while splitting. syntax : random_state=0\n",
    "    x_train, x_test, y_train, y_test = sklearn.model_selection.train_test_split(X, y, test_size = 0.1)\n",
    "\n",
    "    linear = linear_model.LinearRegression()\n",
    "    \n",
    "\n",
    "    linear.fit(x_train, y_train)\n",
    "    acc = linear.score(x_test, y_test)\n",
    "    # accuracy \n",
    "    print(\"accuracy:\", acc)\n",
    "    \n",
    "    \n",
    "    # saving the model: \n",
    "\n",
    "    #studentmodel is the name of the model\n",
    "    #wb mode\n",
    "    \n",
    "    if acc>best:\n",
    "        best=acc\n",
    "        with open(\"studentmodel.pickle\", \"wb\") as f:\n",
    "            pickle.dump(linear, f) \n",
    "\n",
    "print(\"best accuracy:\",best)"
   ]
  },
  {
   "cell_type": "markdown",
   "metadata": {},
   "source": [
    "#### After traning the model for 100 times, accuracy usually remains between 89 to 94 %"
   ]
  },
  {
   "cell_type": "code",
   "execution_count": null,
   "metadata": {},
   "outputs": [],
   "source": []
  },
  {
   "cell_type": "markdown",
   "metadata": {},
   "source": [
    "#### model is trained and saved. So we commented this section of training the model."
   ]
  },
  {
   "cell_type": "code",
   "execution_count": 21,
   "metadata": {},
   "outputs": [],
   "source": [
    "# linear = linear_model.LinearRegression()"
   ]
  },
  {
   "cell_type": "code",
   "execution_count": 22,
   "metadata": {},
   "outputs": [],
   "source": [
    "# linear.fit(x_train, y_train)\n",
    "# acc = linear.score(x_test, y_test)\n",
    "# accuracy \n",
    "#print(acc)"
   ]
  },
  {
   "cell_type": "code",
   "execution_count": 23,
   "metadata": {},
   "outputs": [],
   "source": [
    "# saving the model: \n",
    "\n",
    "# studentmodel is the name of the model\n",
    "# wb mode\n",
    "# with open(\"studentmodel.pickle\", \"wb\") as f:\n",
    "    #pickle.dump(linear, f) "
   ]
  },
  {
   "cell_type": "code",
   "execution_count": null,
   "metadata": {},
   "outputs": [],
   "source": []
  },
  {
   "cell_type": "code",
   "execution_count": 24,
   "metadata": {},
   "outputs": [],
   "source": [
    "# loading the pickle file with model so that we do not need to train our model every time\n",
    "pickle_in = open(\"studentmodel.pickle\", \"rb\")\n",
    "linear = pickle.load(pickle_in) "
   ]
  },
  {
   "cell_type": "code",
   "execution_count": 25,
   "metadata": {},
   "outputs": [
    {
     "name": "stdout",
     "output_type": "stream",
     "text": [
      "Coefficient(m): \n",
      " [[ 0.14963536  1.00964675  0.04123599 -0.14917588  0.13066596  0.09278478]]\n",
      "Intercept: \n",
      " [-2.74614771]\n"
     ]
    }
   ],
   "source": [
    "print('Coefficient(m): \\n', linear.coef_)\n",
    "print('Intercept: \\n', linear.intercept_)"
   ]
  },
  {
   "cell_type": "code",
   "execution_count": null,
   "metadata": {},
   "outputs": [],
   "source": []
  },
  {
   "cell_type": "code",
   "execution_count": 26,
   "metadata": {},
   "outputs": [],
   "source": [
    "y_pred = linear.predict(x_train)"
   ]
  },
  {
   "cell_type": "code",
   "execution_count": 27,
   "metadata": {},
   "outputs": [
    {
     "name": "stdout",
     "output_type": "stream",
     "text": [
      "355\n"
     ]
    }
   ],
   "source": [
    "print(len(y_pred))"
   ]
  },
  {
   "cell_type": "code",
   "execution_count": 28,
   "metadata": {},
   "outputs": [
    {
     "data": {
      "text/plain": [
       "1.1541448902370266"
      ]
     },
     "execution_count": 28,
     "metadata": {},
     "output_type": "execute_result"
    }
   ],
   "source": [
    "from sklearn.metrics import mean_absolute_error\n",
    "\n",
    "mean_absolute_error(y_train,y_pred)"
   ]
  },
  {
   "cell_type": "code",
   "execution_count": 29,
   "metadata": {},
   "outputs": [
    {
     "name": "stdout",
     "output_type": "stream",
     "text": [
      "[13 13 23  2  2  5] [13] [13.69985147]\n",
      "[10 10 14  2  3  5] [9] [9.98154721]\n",
      "[10 10  8  3  2  3] [10] [9.26871987]\n",
      "[10 10  6  4  3  5] [11] [9.35330754]\n",
      "[ 8  6 18  2  1  5] [7] [5.54730155]\n",
      "[14 15  0  2  3  5] [15] [15.0510185]\n",
      "[8 7 0 2 4 5] [8] [6.20669836]\n",
      "[7 9 0 3 3 3] [8] [7.61094509]\n",
      "[5 6 6 2 3 3] [6] [4.67932596]\n",
      "[7 7 2 2 4 3] [7] [5.95396542]\n",
      "[8 7 0 2 3 3] [0] [5.89046284]\n",
      "[14 15  4  3  4  4] [16] [15.10466777]\n",
      "[12 13  6  1  4  5] [14] [13.25971208]\n",
      "[7 6 5 1 4 5] [7] [5.40277208]\n",
      "[11 11  6  1  5  5] [10] [11.22144919]\n",
      "[7 6 0 1 3 5] [0] [5.06592617]\n",
      "[7 0 0 1 4 5] [0] [-0.86128834]\n",
      "[14 12  0  2  4  5] [12] [12.15274423]\n",
      "[17 17  0  4  2  5] [18] [17.09020035]\n",
      "[9 9 8 1 3 2] [9] [8.4456707]\n",
      "[10  9  0  4  4  4] [0] [8.13412603]\n",
      "[6 6 2 2 2 5] [6] [4.71892096]\n",
      "[12 12  2  1  2  5] [11] [11.82378945]\n",
      "[7 0 0 3 4 3] [0] [-1.34520965]\n",
      "[13 13  2  2  4  5] [11] [13.0952276]\n",
      "[11 10  4  3  3  5] [11] [9.56964679]\n",
      "[10  0  0  2  4  5] [0] [-0.56155815]\n",
      "[8 9 0 1 5 5] [10] [8.50583369]\n",
      "[10 13  6  2  1  5] [13] [12.41926761]\n",
      "[ 7  7 14  1  5  4] [5] [6.82142392]\n",
      "[ 7  6 18  1  3  3] [6] [5.62260443]\n",
      "[ 8 12  0  1  4  5] [12] [11.40410796]\n",
      "[11  0  0  3  3  5] [0] [-0.69176463]\n",
      "[ 9  9 11  2  5  4] [9] [8.86710428]\n",
      "[10 10  0  4  3  3] [10] [8.92032203]\n",
      "[17 16  0  2  5  5] [16] [16.77090324]\n",
      "[17 16  0  2  3  5] [17] [16.50957132]\n",
      "[8 8 0 1 4 1] [11] [6.99438186]\n",
      "[12 13  0  2  3  4] [14] [12.63966952]\n",
      "[16 15 16  3  4  5] [15] [15.99155515]\n",
      "[16 15 10  2  3  3] [15] [15.57707956]\n",
      "[ 8 10  4  2  3  4] [10] [9.17713182]\n",
      "[ 9 10  0  3  3  3] [0] [8.91986255]\n",
      "[10  9  4  2  4  4] [9] [8.59742174]\n",
      "[ 9 10  4  2  3  2] [10] [9.14119761]\n",
      "[ 8 10  4  1  1  5] [10] [9.15776055]\n",
      "[8 7 6 2 3 3] [9] [6.13787878]\n",
      "[8 7 4 2 3 2] [6] [5.96262202]\n",
      "[6 5 4 2 3 4] [6] [3.82962737]\n",
      "[14 13  2  2  2  1] [13] [12.61239191]\n",
      "[6 5 0 1 4 2] [0] [3.75895569]\n",
      "[12 10  8  2  3  4] [11] [9.9406172]\n",
      "[13 13  0  3  3  5] [14] [12.73291378]\n",
      "[12 13  4  2  3  5] [13] [12.89739826]\n",
      "[7 5 0 3 4 5] [0] [3.88859364]\n",
      "[8 7 7 1 3 3] [8] [6.32829064]\n",
      "[10  9  2  3  3  5] [8] [8.32789271]\n",
      "[18 18  6  4  1  3] [18] [18.18066287]\n",
      "[11 13  2  2  3  5] [13] [12.66529092]\n",
      "[ 8  9 38  1  3  4] [8] [9.71868461]\n",
      "[17 15  4  1  2  5] [16] [15.68337845]\n",
      "[6 5 7 1 4 5] [6] [4.32596196]\n",
      "[10 11 10  4  3  4] [11] [10.43511346]\n",
      "[ 7 10  0  3  1  2] [10] [8.26647514]\n",
      "[7 6 0 1 3 5] [0] [5.06592617]\n",
      "[9 8 2 4 5 5] [8] [7.28076665]\n",
      "[11  9 14  2  5  2] [9] [9.1045134]\n",
      "[11 12  4  3  3  3] [11] [11.40337072]\n",
      "[11 11  4  2  5  1] [11] [10.61866221]\n",
      "[11 11  8  4  4  1] [10] [10.35458846]\n",
      "[11 12  2  1  3  3] [11] [11.61925049]\n",
      "[16 14  6  4  5  5] [15] [14.55103858]\n",
      "[12 12 13  2  3  3] [13] [12.07330586]\n",
      "[7 0 0 2 3 4] [0] [-1.23391496]\n",
      "[14 15  4  2  2  5] [15] [15.0852965]\n",
      "[10 12  4  3  2  4] [12] [11.21585418]\n",
      "[ 9  9 22  1  2  3] [9] [8.98509338]\n",
      "[11 14  6  1  3  1] [14] [13.61791838]\n",
      "[16 15  9  3  3  4] [16] [15.47945247]\n",
      "[ 7 10 25  2  3  3] [11] [9.80066747]\n",
      "[10 10  0  2  4  2] [10] [9.25655497]\n",
      "[10  8 14  2  3  3] [9] [7.77668416]\n",
      "[ 6  6 13  2  2  4] [8] [5.07973207]\n",
      "[12 12 12  2  4  5] [13] [12.3483054]\n",
      "[11 11  0  1  1  5] [10] [10.45136941]\n",
      "[19 18  0  3  4  1] [19] [18.43848648]\n",
      "[6 8 0 1 4 5] [8] [7.06625027]\n",
      "[6 7 0 2 1 4] [0] [5.42264498]\n",
      "[14 14  0  2  4  3] [14] [13.98646816]\n",
      "[14 14  4  3  3  4] [14] [13.96435506]\n",
      "[14 15  0  2  3  1] [15] [14.67987938]\n",
      "[ 9  9 56  2  3  1] [8] [10.18303757]\n",
      "[12 12  2  3  3  5] [11] [11.65610366]\n",
      "[10  9  0  2  3  5] [9] [8.3945966]\n",
      "[ 8 10  0  1  3  5] [11] [9.25414851]\n",
      "[8 9 8 1 3 5] [10] [8.57438969]\n",
      "[8 8 0 2 3 2] [0] [6.8073248]\n",
      "[14 14  2  1  3  5] [14] [14.27301961]\n",
      "[15 14  2  3  2  5] [15] [13.99363726]\n",
      "[12 12  6  2  4  5] [12] [12.10088946]\n",
      "[13 11 40  3  1  3] [11] [11.91615841]\n",
      "[12 11 11  2  3  5] [11] [11.1667567]\n",
      "[ 9  9 15  2  3  5] [9] [8.8635011]\n",
      "[16 15  5  1  4  1] [16] [15.46517188]\n",
      "[15 12  0  2  5  5] [12] [12.43304555]\n",
      "[14 13  8  3  4  4] [14] [13.25031824]\n",
      "[10 13  6  4  3  1] [13] [12.01110865]\n",
      "[16 12  8  1  2  5] [13] [12.66974682]\n",
      "[6 5 0 3 3 5] [0] [3.60829232]\n",
      "[16 17  4  1  5  1] [18] [17.57389534]\n",
      "[8 8 4 1 4 5] [8] [7.53046494]\n",
      "[9 9 8 2 4 5] [9] [8.70551513]\n",
      "[ 8 11  0  2  4  5] [11] [10.24528534]\n",
      "[10 10  0  2  3  2] [0] [9.12588901]\n",
      "[9 9 0 2 2 3] [0] [7.92872572]\n",
      "[15 14 20  2  4  3] [13] [14.96082332]\n",
      "[11 11  0  1  2  4] [12] [10.48925059]\n",
      "[10 12 16  2  4  5] [11] [12.21397864]\n",
      "[13 11  0  2  4  5] [10] [10.99346213]\n",
      "[10 11  2  2  3  5] [11] [10.49636208]\n",
      "[ 9 10  2  2  3  4] [10] [9.24429519]\n",
      "[15 16  2  3  4  4] [18] [16.18147789]\n",
      "[ 9 11  0  2  4  5] [12] [10.3949207]\n",
      "[ 7  6 26  2  3  2] [6] [5.7105317]\n",
      "[10  9  4  3  2  4] [9] [8.18691395]\n",
      "[15 15  2  2  3  5] [14] [15.28312584]\n",
      "[15 14  2  2  5  1] [14] [14.16367189]\n",
      "[11  9 19  1  4  3] [10] [9.42198805]\n",
      "[16 17  0  3  4  4] [17] [17.25828801]\n",
      "[11 12 54  2  3  5] [11] [13.79991567]\n",
      "[14 13  8  1  3  2] [13] [13.23243447]\n",
      "[12 13 14  2  2  1] [12] [12.80795308]\n",
      "[10 13 12  1  4  5] [12] [13.20785731]\n",
      "[14 14  4  1  4  2] [14] [14.20780321]\n",
      "[11 10 12  2  4  3] [10] [9.99380699]\n",
      "[13 13  0  1  5  5] [12] [13.29259745]\n",
      "[8 9 4 2 4 2] [10] [8.11258147]\n",
      "[7 7 4 2 2 3] [9] [5.77510548]\n",
      "[8 8 2 1 5 3] [10] [7.39308936]\n",
      "[10 11  8  1  2  1] [10] [10.39114881]\n",
      "[11 13 10  1  5  5] [13] [13.40568664]\n",
      "[15 12  0  3  3  3] [14] [11.83696819]\n",
      "[12 10 18  2  4  3] [10] [10.39085828]\n",
      "[12 13  2  2  2  3] [12] [12.49869076]\n",
      "[10 10  2  2  3  1] [10] [9.1155762]\n",
      "[8 9 5 1 2 5] [9] [8.32001576]\n",
      "[ 8 10  6  2  4  4] [10] [9.39026976]\n",
      "[7 9 0 4 2 3] [0] [7.33110326]\n",
      "[18 19 10  1  5  3] [19] [20.32544505]\n",
      "[13 15  0  1  3  5] [15] [15.05055902]\n",
      "[19 19  4  4  2  2] [20] [19.29535417]\n",
      "[7 7 6 3 4 4] [7] [6.06251829]\n",
      "[11 11  0  4  2  3] [11] [9.94893818]\n",
      "[10 10  0  3  4  5] [9] [9.38573343]\n",
      "[14 16  3  1  4  2] [16] [16.18586071]\n",
      "[9 9 4 2 4 1] [10] [8.16943204]\n",
      "[13 14  0  2  4  1] [15] [13.65126324]\n",
      "[16 16 12  4  4  3] [16] [16.50151249]\n",
      "[15 14  4  2  2  2] [14] [13.94693077]\n",
      "[10  9 10  2  4  5] [10] [8.93762247]\n",
      "[ 8 10  4  2  4  1] [9] [9.02944343]\n",
      "[11 12 10  2  3  1] [13] [11.61439297]\n",
      "[13 13  0  2  3  5] [13] [12.88208966]\n",
      "[12 13  2  2  3  4] [13] [12.7221415]\n",
      "[13 11  3  2  5  4] [11] [11.15505128]\n",
      "[ 9 10  4  3  3  4] [10] [9.1775913]\n",
      "[10 12  4  2  5  5] [12] [11.84981272]\n",
      "[14 15  0  2  5  5] [15] [15.31235043]\n",
      "[11 11 12  2  3  1] [11] [10.68721821]\n",
      "[10 11  4  2  4  4] [9] [10.61671524]\n",
      "[11 12 10  2  3  2] [13] [11.70717776]\n",
      "[12 10 10  3  2  3] [12] [9.65046257]\n",
      "[18 18  8  1  5  4] [18] [19.32611111]\n",
      "[15 16  7  3  4  5] [15] [16.48044262]\n",
      "[12 14  0  1  4  5] [15] [14.02194288]\n",
      "[8 8 8 2 2 5] [6] [7.2849011]\n",
      "[6 0 0 1 4 3] [0] [-1.19649326]\n",
      "[13 12  0  1  3  5] [12] [12.02161879]\n",
      "[10 10  4  1  3  3] [10] [9.53279362]\n",
      "[9 9 2 2 4 5] [10] [8.45809919]\n",
      "[7 7 3 1 3 3] [8] [6.01371133]\n",
      "[15 14  6  3  2  2] [14] [13.88022688]\n",
      "[13 12  2  2  4  5] [12] [12.08558085]\n",
      "[10 13  4  1  3  5] [14] [12.74730342]\n",
      "[16 16  2  2  3  2] [16] [16.1640536]\n",
      "[6 5 0 2 1 5] [0] [3.49613627]\n",
      "[ 6 10  4  2  3  5] [10] [8.97064588]\n",
      "[11  9 10  3  3  2] [10] [8.52906164]\n",
      "[11 11  2  2  4  3] [10] [10.59109383]\n",
      "[10 10 17  2  5  1] [10] [9.99544798]\n",
      "[13 12  1  3  3  3] [12] [11.57893346]\n",
      "[ 7  6 10  2  4  5] [6] [5.45977616]\n",
      "[13 13  0  2  4  5] [12] [13.01275562]\n",
      "[14 14  2  1  4  1] [13] [14.03254645]\n",
      "[10 10  2  1  3  2] [10] [9.35753686]\n",
      "[14 12 20  2  4  2] [13] [12.69910969]\n",
      "[ 8  8 30  1  5  5] [8] [8.73326665]\n",
      "[8 0 0 1 3 4] [0] [-0.93510373]\n",
      "[13 10 22  2  2  1] [11] [10.25853612]\n",
      "[10 10  4  2  3  3] [10] [9.38361775]\n",
      "[16 18  0  2  2  1] [19] [17.87742437]\n",
      "[6 5 6 2 1 1] [6] [3.37241309]\n",
      "[14 11 18  1  4  5] [13] [12.03452118]\n",
      "[7 8 2 2 4 5] [9] [7.14918173]\n",
      "[8 9 2 2 1 4] [8] [7.82368117]\n",
      "[18 18  6  1  3  4] [18] [18.9823072]\n",
      "[13 14  0  1  3  3] [14] [13.85534272]\n",
      "[13 13  0  3  2  5] [13] [12.60224782]\n",
      "[8 9 4 2 4 4] [10] [8.29815103]\n",
      "[14 15  3  1  3  5] [16] [15.32390235]\n",
      "[9 9 6 2 3 5] [10] [8.49237719]\n",
      "[ 5  5 12  2  4  3] [5] [4.04776112]\n",
      "[14 13  6  1  4  4] [13] [13.46619801]\n",
      "[15 15  0  2  1  1] [15] [14.56818281]\n",
      "[ 7 10  2  4  1  1] [10] [8.10698646]\n",
      "[18 18  5  3  3  2] [19] [18.4571499]\n",
      "[7 9 6 2 4 5] [8] [8.32377244]\n",
      "[7 7 0 2 5 2] [0] [5.90937462]\n",
      "[15 15  2  2  5  5] [16] [15.54445776]\n",
      "[3 5 8 2 3 5] [5] [3.63845005]\n",
      "[12 12  8  1  4  5] [12] [12.33253731]\n",
      "[11 12  0  1  4  5] [10] [11.85301403]\n",
      "[15 16  2  2  2  5] [16] [16.16210663]\n",
      "[12  0  0  3  2  5] [0] [-0.67279523]\n",
      "[14 13 12  3  4  5] [13] [13.50804698]\n",
      "[8 8 0 2 3 3] [9] [6.90010958]\n",
      "[11 10  4  3  3  3] [10] [9.38407723]\n",
      "[13 15  0  3  4  4] [15] [14.79008845]\n",
      "[15 14  4  3  4  3] [15] [14.1518716]\n",
      "[14 13  0  4  3  3] [14] [12.5478037]\n",
      "[17 15  2  1  2  3] [15] [15.41533691]\n",
      "[7 8 0 2 3 2] [0] [6.65768944]\n",
      "[12 13  0  2  3  4] [13] [12.63966952]\n",
      "[ 9  7 18  2  4  5] [6] [7.09858154]\n",
      "[ 9  8 15  2  4  4] [8] [7.89173553]\n",
      "[5 9 6 2 4 3] [7] [7.83893216]\n",
      "[12 10  2  2  3  4] [11] [9.69320126]\n"
     ]
    },
    {
     "name": "stdout",
     "output_type": "stream",
     "text": [
      "[17 18 21  2  1  2] [18] [18.85513434]\n",
      "[13 13  2  2  5  3] [13] [13.040324]\n",
      "[7 7 5 2 3 4] [7] [6.03979221]\n",
      "[ 6  5 14  1  4  3] [5] [4.42904433]\n",
      "[ 8 10 12  1  2  3] [10] [9.43274487]\n",
      "[ 9 10  9  3  3  5] [9] [9.47655603]\n",
      "[16 18  2  3  3  5] [18] [18.31252556]\n",
      "[9 9 0 2 5 3] [10] [8.32072361]\n",
      "[ 6  5 14  1  5  1] [5] [4.37414073]\n",
      "[14 12 10  2  2  5] [11] [12.30377221]\n",
      "[5 8 0 2 3 5] [7] [6.63677307]\n",
      "[12 14  1  3  4  5] [15] [13.76482712]\n",
      "[14 12  4  1  4  5] [11] [12.46686407]\n",
      "[ 8 10  0  2  3  2] [12] [8.82661829]\n",
      "[8 9 2 2 3 5] [10] [8.17779787]\n",
      "[15 13 14  3  1  3] [13] [13.16258687]\n",
      "[17 18  0  1  5  5] [18] [18.93937261]\n",
      "[8 8 2 2 3 3] [8] [6.98258156]\n",
      "[12 12  4  1  2  2] [13] [11.62790709]\n",
      "[ 6  5 16  1  5  5] [5] [4.82775184]\n",
      "[5 0 0 1 5 4] [0] [-1.12267787]\n",
      "[13 15  2  2  3  3] [16] [14.79828557]\n",
      "[16 17  0  2  4  5] [17] [17.50024867]\n",
      "[9 8 6 1 2 4] [10] [7.40845558]\n",
      "[12 12  1  4  2  3] [12] [11.14945627]\n",
      "[13 12  6  3  3  3] [12] [11.78511341]\n",
      "[15 15  0  2  2  5] [15] [15.0699879]\n",
      "[13 11  2  2  1  3] [11] [10.49836666]\n",
      "[14 12  8  2  4  3] [12] [12.29706259]\n",
      "[16 15  0  3  3  2] [15] [14.922759]\n",
      "[12 12  2  1  3  5] [14] [11.95445541]\n",
      "[8 9 0 1 3 3] [8] [8.0589322]\n",
      "[ 6  7 15  2  4  5] [8] [6.5259675]\n",
      "[ 7 10  0  2  3  1] [11] [8.58419815]\n",
      "[10 10  4  2  2  2] [11] [9.16016701]\n",
      "[ 9 10  2  2  3  5] [9] [9.33707997]\n",
      "[14 15  2  2  4  1] [15] [14.89301732]\n",
      "[12 12  2  2  2  5] [11] [11.67461357]\n",
      "[11 15  2  1  3  4] [15] [14.74097551]\n",
      "[19 18  2  2  3  5] [18] [18.91060751]\n",
      "[18 16  0  3  3  4] [16] [16.41724602]\n",
      "[15 15  2  2  4  5] [16] [15.4137918]\n",
      "[ 9  8 16  2  3  4] [7] [7.80230556]\n",
      "[11 13  6  4  3  4] [14] [12.43909835]\n",
      "[5 5 4 2 3 3] [6] [3.58720724]\n",
      "[7 4 0 1 3 4] [0] [2.9538479]\n",
      "[16 15  7  4  3  1] [17] [14.96945027]\n",
      "[13 14  4  3  3  1] [14] [13.53636536]\n",
      "[ 9 12  3  3  3  3] [11] [11.06286402]\n",
      "[16 15  0  2  3  1] [15] [14.97915009]\n",
      "[8 6 2 2 3 5] [5] [5.14885763]\n",
      "[15 14  4  4  5  2] [14] [14.0405769]\n",
      "[12 12 14  2  5  5] [12] [12.56144334]\n",
      "[12 11 16  1  2  5] [11] [11.39144657]\n",
      "[10  9  2  3  4  4] [9] [8.36577389]\n",
      "[ 7  8 12  2  4  5] [8] [7.56154163]\n",
      "[16 18  0  2  4  1] [18] [18.13875629]\n",
      "[10  9  7  3  4  4] [9] [8.57195384]\n",
      "[ 6  6 22  2  4  1] [4] [5.43383356]\n",
      "[10  8  3  1  5  3] [7] [7.73359606]\n",
      "[16 15 11  2  3  5] [15] [15.80388511]\n",
      "[15 15 10  2  4  5] [15] [15.74367972]\n",
      "[11 11  0  3  3  5] [10] [10.41434958]\n",
      "[9 9 8 1 3 3] [10] [8.53845548]\n",
      "[15 15  4  2  3  4] [15] [15.27281304]\n",
      "[ 9 11  2  3  2  5] [11] [10.06688488]\n",
      "[ 6  8 16  1  4  1] [8] [7.35488699]\n",
      "[10 10  4  2  3  4] [10] [9.47640253]\n",
      "[8 9 4 2 1 3] [10] [7.81336837]\n",
      "[10  8 10  2  4  2] [8] [7.64962138]\n",
      "[6 9 4 1 2 5] [8] [7.97950905]\n",
      "[8 9 8 2 3 2] [10] [8.14685947]\n",
      "[13 13  4  4  3  3] [12] [12.5631123]\n",
      "[16 16  2  2  3  3] [17] [16.25683838]\n",
      "[10  9 28  3  4  5] [9] [9.53069441]\n",
      "[16 16  0  1  3  5] [15] [16.50911184]\n",
      "[9 9 6 1 3 5] [10] [8.64155306]\n",
      "[7 8 8 4 1 3] [8] [6.52067847]\n",
      "[7 9 2 1 4 5] [8] [8.30800435]\n",
      "[13 13 14  2  2  3] [14] [13.143158]\n",
      "[15 13  9  2  4  2] [15] [13.4047959]\n",
      "[5 0 0 1 4 5] [0] [-1.16055905]\n",
      "[10  9 75  2  1  5] [9] [11.22596395]\n",
      "[7 7 4 4 3 5] [6] [5.79298925]\n",
      "[10 11  2  2  3  4] [12] [10.40357729]\n",
      "[10 13  6  1  3  1] [13] [12.45863628]\n",
      "[8 7 8 2 4 2] [8] [6.25823194]\n",
      "[14 16  0  3  5  3] [16] [15.98725173]\n",
      "[13 15  0  4  3  5] [15] [14.6030314]\n",
      "[10 10  2  2  4  3] [11] [9.43181173]\n",
      "[11  8  2  2  4  1] [8] [7.37658403]\n",
      "[6 5 0 1 3 5] [0] [3.90664407]\n",
      "[11 11  4  2  3  5] [11] [10.72846941]\n",
      "[6 5 0 1 3 4] [0] [3.81385929]\n",
      "[13 13  7  3  4  1] [14] [12.78109255]\n",
      "[8 7 0 1 5 5] [6] [6.4865402]\n",
      "[11 13  2  2  4  2] [14] [12.51760254]\n",
      "[17 17 13  2  2  1] [17] [17.55348085]\n",
      "[ 9  8 10  2  4  3] [8] [7.5927708]\n",
      "[11 11  2  2  4  3] [11] [10.59109383]\n",
      "[15 16  4  1  2  1] [15] [16.02261536]\n",
      "[10  9  2  3  3  4] [10] [8.23510793]\n",
      "[13 13  2  2  2  5] [13] [12.83389568]\n",
      "[6 7 0 2 3 3] [0] [5.59119212]\n",
      "[6 0 0 2 3 3] [0] [-1.4763351]\n",
      "[13 11  4  2  5  2] [11] [11.0107177]\n",
      "[10  8  6  1  5  5] [11] [8.0428736]\n",
      "[18 18 24  1  2  2] [18] [19.4083195]\n",
      "[14 12  6  4  2  4] [13] [11.74769171]\n",
      "[13 14  6  3  2  2] [14] [13.58095616]\n",
      "[12 11  2  2  3  3] [12] [10.61006323]\n",
      "[7 6 4 2 3 2] [6] [4.80333991]\n",
      "[13 12 20  1  5  5] [12] [13.10767051]\n",
      "[12 10 14  2  2  4] [11] [10.05736718]\n",
      "[14 13  4  2  4  4] [13] [13.23455015]\n",
      "[15 14  8  2  2  4] [14] [14.29744429]\n",
      "[12 12  0  2  4  3] [11] [11.66790395]\n",
      "[10  8 10  1  3  3] [9] [7.76091607]\n"
     ]
    }
   ],
   "source": [
    "for x in range(len(y_pred)):\n",
    "    # checking for prerdict output\n",
    "    print(x_train[x],y_train[x], y_pred[x])\n",
    "    "
   ]
  },
  {
   "cell_type": "code",
   "execution_count": null,
   "metadata": {},
   "outputs": [],
   "source": []
  },
  {
   "cell_type": "markdown",
   "metadata": {},
   "source": [
    "### The easiest way to compare the target and prediction is to plot them of scatter plot"
   ]
  },
  {
   "cell_type": "code",
   "execution_count": null,
   "metadata": {},
   "outputs": [],
   "source": []
  },
  {
   "cell_type": "code",
   "execution_count": 30,
   "metadata": {},
   "outputs": [
    {
     "data": {
      "text/plain": [
       "<matplotlib.collections.PathCollection at 0x7fcd122e3ed0>"
      ]
     },
     "execution_count": 30,
     "metadata": {},
     "output_type": "execute_result"
    },
    {
     "data": {
      "text/plain": [
       "Text(0.5, 0, 'Targets (y_train)')"
      ]
     },
     "execution_count": 30,
     "metadata": {},
     "output_type": "execute_result"
    },
    {
     "data": {
      "text/plain": [
       "Text(0, 0.5, 'Predictions (y_pred)')"
      ]
     },
     "execution_count": 30,
     "metadata": {},
     "output_type": "execute_result"
    },
    {
     "data": {
      "text/plain": [
       "(0.0, 22.0)"
      ]
     },
     "execution_count": 30,
     "metadata": {},
     "output_type": "execute_result"
    },
    {
     "data": {
      "text/plain": [
       "(0.0, 22.0)"
      ]
     },
     "execution_count": 30,
     "metadata": {},
     "output_type": "execute_result"
    },
    {
     "data": {
      "image/png": "[encoded data removed]",
      "text/plain": [
       "<Figure size 432x288 with 1 Axes>"
      ]
     },
     "metadata": {},
     "output_type": "display_data"
    }
   ],
   "source": [
    "plt.scatter(y_train, y_pred, alpha=0.5)\n",
    "# Let's also name the axes\n",
    "plt.xlabel('Targets (y_train)',size=18)\n",
    "plt.ylabel('Predictions (y_pred)',size=18)\n",
    "# Sometimes the plot will have different scales of the x-axis and the y-axis\n",
    "# This is an issue as we won't be able to interpret the '45-degree line'\n",
    "# We want the x-axis and the y-axis to be the same\n",
    "plt.xlim(0,22)\n",
    "plt.ylim(0,22)\n",
    "plt.show()"
   ]
  },
  {
   "cell_type": "markdown",
   "metadata": {},
   "source": [
    "#### From the above graph we can clearly say that our model predicts almost accurate results. \n",
    "#### Howerver there are few wrong predictions. More tranning the model might help. "
   ]
  },
  {
   "cell_type": "markdown",
   "metadata": {},
   "source": []
  },
  {
   "cell_type": "markdown",
   "metadata": {},
   "source": [
    "## Testing the model:"
   ]
  },
  {
   "cell_type": "code",
   "execution_count": 32,
   "metadata": {},
   "outputs": [],
   "source": [
    "y_pred_test = linear.predict(x_test)"
   ]
  },
  {
   "cell_type": "code",
   "execution_count": 34,
   "metadata": {},
   "outputs": [
    {
     "name": "stdout",
     "output_type": "stream",
     "text": [
      "40\n"
     ]
    }
   ],
   "source": [
    "print(len(y_pred_test))"
   ]
  },
  {
   "cell_type": "code",
   "execution_count": 35,
   "metadata": {},
   "outputs": [
    {
     "data": {
      "text/plain": [
       "1.6384977695312362"
      ]
     },
     "execution_count": 35,
     "metadata": {},
     "output_type": "execute_result"
    }
   ],
   "source": [
    "from sklearn.metrics import mean_absolute_error\n",
    "\n",
    "mean_absolute_error(y_test,y_pred_test)"
   ]
  },
  {
   "cell_type": "code",
   "execution_count": 37,
   "metadata": {},
   "outputs": [
    {
     "name": "stdout",
     "output_type": "stream",
     "text": [
      "[0] [-1.44086037]\n",
      "[13] [14.17157824]\n",
      "[11] [10.35248798]\n",
      "[12] [11.50509011]\n",
      "[15] [14.73524246]\n",
      "[11] [10.77666339]\n",
      "[15] [14.93095611]\n",
      "[10] [10.37795589]\n",
      "[0] [7.14252972]\n",
      "[8] [6.9197216]\n",
      "[12] [11.33894917]\n",
      "[8] [7.01411773]\n",
      "[10] [6.92619047]\n",
      "[16] [14.73478298]\n",
      "[10] [9.47960384]\n",
      "[15] [15.19228803]\n",
      "[10] [9.18273958]\n",
      "[11] [11.88243452]\n",
      "[10] [7.16283413]\n",
      "[9] [8.72282832]\n",
      "[10] [10.07082368]\n",
      "[11] [8.69020653]\n",
      "[0] [-0.84185946]\n",
      "[14] [14.01224306]\n",
      "[15] [15.03158963]\n",
      "[0] [6.71454002]\n",
      "[9] [7.10659551]\n",
      "[19] [20.25328587]\n",
      "[8] [7.57455141]\n",
      "[8] [8.39186895]\n",
      "[10] [8.92439888]\n",
      "[11] [12.12485466]\n",
      "[0] [4.56412109]\n",
      "[0] [8.11624226]\n",
      "[0] [7.94855647]\n",
      "[12] [10.39692528]\n",
      "[11] [10.69918722]\n",
      "[11] [10.98860461]\n",
      "[8] [5.68443638]\n",
      "[12] [12.10939255]\n"
     ]
    }
   ],
   "source": [
    "for x in range(len(y_pred_test)):\n",
    "    # checking for prerdict output\n",
    "    print(y_test[x], y_pred_test[x])"
   ]
  },
  {
   "cell_type": "code",
   "execution_count": null,
   "metadata": {},
   "outputs": [],
   "source": [
    "# plotting"
   ]
  },
  {
   "cell_type": "code",
   "execution_count": 39,
   "metadata": {},
   "outputs": [
    {
     "data": {
      "text/plain": [
       "<matplotlib.collections.PathCollection at 0x7fcd12a46110>"
      ]
     },
     "execution_count": 39,
     "metadata": {},
     "output_type": "execute_result"
    },
    {
     "data": {
      "text/plain": [
       "Text(0.5, 0, 'Targets (y_test)')"
      ]
     },
     "execution_count": 39,
     "metadata": {},
     "output_type": "execute_result"
    },
    {
     "data": {
      "text/plain": [
       "Text(0, 0.5, 'Predictions (y_pred_test)')"
      ]
     },
     "execution_count": 39,
     "metadata": {},
     "output_type": "execute_result"
    },
    {
     "data": {
      "text/plain": [
       "(0.0, 22.0)"
      ]
     },
     "execution_count": 39,
     "metadata": {},
     "output_type": "execute_result"
    },
    {
     "data": {
      "text/plain": [
       "(0.0, 22.0)"
      ]
     },
     "execution_count": 39,
     "metadata": {},
     "output_type": "execute_result"
    },
    {
     "data": {
      "image/png": "[encoded data removed]",
      "text/plain": [
       "<Figure size 432x288 with 1 Axes>"
      ]
     },
     "metadata": {},
     "output_type": "display_data"
    }
   ],
   "source": [
    "plt.scatter(y_test, y_pred_test, alpha=0.5)\n",
    "# Let's also name the axes\n",
    "plt.xlabel('Targets (y_test)',size=18)\n",
    "plt.ylabel('Predictions (y_pred_test)',size=18)\n",
    "# Sometimes the plot will have different scales of the x-axis and the y-axis\n",
    "# This is an issue as we won't be able to interpret the '45-degree line'\n",
    "# We want the x-axis and the y-axis to be the same\n",
    "plt.xlim(0,22)\n",
    "plt.ylim(0,22)\n",
    "plt.show()"
   ]
  },
  {
   "cell_type": "code",
   "execution_count": null,
   "metadata": {},
   "outputs": [],
   "source": []
  }
 ],
 "metadata": {
  "kernelspec": {
   "display_name": "Python 3",
   "language": "python",
   "name": "python3"
  },
  "language_info": {
   "codemirror_mode": {
    "name": "ipython",
    "version": 3
   },
   "file_extension": ".py",
   "mimetype": "text/x-python",
   "name": "python",
   "nbconvert_exporter": "python",
   "pygments_lexer": "ipython3",
   "version": "3.7.6"
  }
 },
 "nbformat": 4,
 "nbformat_minor": 4
}
