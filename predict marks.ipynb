{
 "cells": [
  {
   "cell_type": "code",
   "execution_count": 1,
   "metadata": {},
   "outputs": [],
   "source": [
    "from IPython.core.interactiveshell import InteractiveShell\n",
    "InteractiveShell.ast_node_interactivity = \"all\""
   ]
  },
  {
   "cell_type": "code",
   "execution_count": 2,
   "metadata": {},
   "outputs": [],
   "source": [
    "import pandas as pd\n",
    "import numpy as np\n",
    "import sklearn\n",
    "from sklearn import linear_model\n",
    "from sklearn.utils import shuffle\n",
    "import matplotlib.pyplot as plt\n",
    "%matplotlib inline\n",
    "import pickle\n",
    "from matplotlib import style\n",
    "import seaborn as sns\n",
    "plt.style.use(\"ggplot\")"
   ]
  },
  {
   "cell_type": "code",
   "execution_count": 3,
   "metadata": {},
   "outputs": [],
   "source": [
    "data = pd.read_csv(\"student_mat.csv\", sep=\";\")"
   ]
  },
  {
   "cell_type": "code",
   "execution_count": 4,
   "metadata": {
    "scrolled": true
   },
   "outputs": [
    {
     "data": {
      "text/html": [
       "<div>\n",
       "<style scoped>\n",
       "    .dataframe tbody tr th:only-of-type {\n",
       "        vertical-align: middle;\n",
       "    }\n",
       "\n",
       "    .dataframe tbody tr th {\n",
       "        vertical-align: top;\n",
       "    }\n",
       "\n",
       "    .dataframe thead th {\n",
       "        text-align: right;\n",
       "    }\n",
       "</style>\n",
       "<table border=\"1\" class=\"dataframe\">\n",
       "  <thead>\n",
       "    <tr style=\"text-align: right;\">\n",
       "      <th></th>\n",
       "      <th>school</th>\n",
       "      <th>sex</th>\n",
       "      <th>age</th>\n",
       "      <th>address</th>\n",
       "      <th>famsize</th>\n",
       "      <th>Pstatus</th>\n",
       "      <th>Medu</th>\n",
       "      <th>Fedu</th>\n",
       "      <th>Mjob</th>\n",
       "      <th>Fjob</th>\n",
       "      <th>...</th>\n",
       "      <th>famrel</th>\n",
       "      <th>freetime</th>\n",
       "      <th>goout</th>\n",
       "      <th>Dalc</th>\n",
       "      <th>Walc</th>\n",
       "      <th>health</th>\n",
       "      <th>absences</th>\n",
       "      <th>G1</th>\n",
       "      <th>G2</th>\n",
       "      <th>G3</th>\n",
       "    </tr>\n",
       "  </thead>\n",
       "  <tbody>\n",
       "    <tr>\n",
       "      <th>0</th>\n",
       "      <td>GP</td>\n",
       "      <td>F</td>\n",
       "      <td>18</td>\n",
       "      <td>U</td>\n",
       "      <td>GT3</td>\n",
       "      <td>A</td>\n",
       "      <td>4</td>\n",
       "      <td>4</td>\n",
       "      <td>at_home</td>\n",
       "      <td>teacher</td>\n",
       "      <td>...</td>\n",
       "      <td>4</td>\n",
       "      <td>3</td>\n",
       "      <td>4</td>\n",
       "      <td>1</td>\n",
       "      <td>1</td>\n",
       "      <td>3</td>\n",
       "      <td>6</td>\n",
       "      <td>5</td>\n",
       "      <td>6</td>\n",
       "      <td>6</td>\n",
       "    </tr>\n",
       "    <tr>\n",
       "      <th>1</th>\n",
       "      <td>GP</td>\n",
       "      <td>F</td>\n",
       "      <td>17</td>\n",
       "      <td>U</td>\n",
       "      <td>GT3</td>\n",
       "      <td>T</td>\n",
       "      <td>1</td>\n",
       "      <td>1</td>\n",
       "      <td>at_home</td>\n",
       "      <td>other</td>\n",
       "      <td>...</td>\n",
       "      <td>5</td>\n",
       "      <td>3</td>\n",
       "      <td>3</td>\n",
       "      <td>1</td>\n",
       "      <td>1</td>\n",
       "      <td>3</td>\n",
       "      <td>4</td>\n",
       "      <td>5</td>\n",
       "      <td>5</td>\n",
       "      <td>6</td>\n",
       "    </tr>\n",
       "    <tr>\n",
       "      <th>2</th>\n",
       "      <td>GP</td>\n",
       "      <td>F</td>\n",
       "      <td>15</td>\n",
       "      <td>U</td>\n",
       "      <td>LE3</td>\n",
       "      <td>T</td>\n",
       "      <td>1</td>\n",
       "      <td>1</td>\n",
       "      <td>at_home</td>\n",
       "      <td>other</td>\n",
       "      <td>...</td>\n",
       "      <td>4</td>\n",
       "      <td>3</td>\n",
       "      <td>2</td>\n",
       "      <td>2</td>\n",
       "      <td>3</td>\n",
       "      <td>3</td>\n",
       "      <td>10</td>\n",
       "      <td>7</td>\n",
       "      <td>8</td>\n",
       "      <td>10</td>\n",
       "    </tr>\n",
       "    <tr>\n",
       "      <th>3</th>\n",
       "      <td>GP</td>\n",
       "      <td>F</td>\n",
       "      <td>15</td>\n",
       "      <td>U</td>\n",
       "      <td>GT3</td>\n",
       "      <td>T</td>\n",
       "      <td>4</td>\n",
       "      <td>2</td>\n",
       "      <td>health</td>\n",
       "      <td>services</td>\n",
       "      <td>...</td>\n",
       "      <td>3</td>\n",
       "      <td>2</td>\n",
       "      <td>2</td>\n",
       "      <td>1</td>\n",
       "      <td>1</td>\n",
       "      <td>5</td>\n",
       "      <td>2</td>\n",
       "      <td>15</td>\n",
       "      <td>14</td>\n",
       "      <td>15</td>\n",
       "    </tr>\n",
       "    <tr>\n",
       "      <th>4</th>\n",
       "      <td>GP</td>\n",
       "      <td>F</td>\n",
       "      <td>16</td>\n",
       "      <td>U</td>\n",
       "      <td>GT3</td>\n",
       "      <td>T</td>\n",
       "      <td>3</td>\n",
       "      <td>3</td>\n",
       "      <td>other</td>\n",
       "      <td>other</td>\n",
       "      <td>...</td>\n",
       "      <td>4</td>\n",
       "      <td>3</td>\n",
       "      <td>2</td>\n",
       "      <td>1</td>\n",
       "      <td>2</td>\n",
       "      <td>5</td>\n",
       "      <td>4</td>\n",
       "      <td>6</td>\n",
       "      <td>10</td>\n",
       "      <td>10</td>\n",
       "    </tr>\n",
       "    <tr>\n",
       "      <th>...</th>\n",
       "      <td>...</td>\n",
       "      <td>...</td>\n",
       "      <td>...</td>\n",
       "      <td>...</td>\n",
       "      <td>...</td>\n",
       "      <td>...</td>\n",
       "      <td>...</td>\n",
       "      <td>...</td>\n",
       "      <td>...</td>\n",
       "      <td>...</td>\n",
       "      <td>...</td>\n",
       "      <td>...</td>\n",
       "      <td>...</td>\n",
       "      <td>...</td>\n",
       "      <td>...</td>\n",
       "      <td>...</td>\n",
       "      <td>...</td>\n",
       "      <td>...</td>\n",
       "      <td>...</td>\n",
       "      <td>...</td>\n",
       "      <td>...</td>\n",
       "    </tr>\n",
       "    <tr>\n",
       "      <th>390</th>\n",
       "      <td>MS</td>\n",
       "      <td>M</td>\n",
       "      <td>20</td>\n",
       "      <td>U</td>\n",
       "      <td>LE3</td>\n",
       "      <td>A</td>\n",
       "      <td>2</td>\n",
       "      <td>2</td>\n",
       "      <td>services</td>\n",
       "      <td>services</td>\n",
       "      <td>...</td>\n",
       "      <td>5</td>\n",
       "      <td>5</td>\n",
       "      <td>4</td>\n",
       "      <td>4</td>\n",
       "      <td>5</td>\n",
       "      <td>4</td>\n",
       "      <td>11</td>\n",
       "      <td>9</td>\n",
       "      <td>9</td>\n",
       "      <td>9</td>\n",
       "    </tr>\n",
       "    <tr>\n",
       "      <th>391</th>\n",
       "      <td>MS</td>\n",
       "      <td>M</td>\n",
       "      <td>17</td>\n",
       "      <td>U</td>\n",
       "      <td>LE3</td>\n",
       "      <td>T</td>\n",
       "      <td>3</td>\n",
       "      <td>1</td>\n",
       "      <td>services</td>\n",
       "      <td>services</td>\n",
       "      <td>...</td>\n",
       "      <td>2</td>\n",
       "      <td>4</td>\n",
       "      <td>5</td>\n",
       "      <td>3</td>\n",
       "      <td>4</td>\n",
       "      <td>2</td>\n",
       "      <td>3</td>\n",
       "      <td>14</td>\n",
       "      <td>16</td>\n",
       "      <td>16</td>\n",
       "    </tr>\n",
       "    <tr>\n",
       "      <th>392</th>\n",
       "      <td>MS</td>\n",
       "      <td>M</td>\n",
       "      <td>21</td>\n",
       "      <td>R</td>\n",
       "      <td>GT3</td>\n",
       "      <td>T</td>\n",
       "      <td>1</td>\n",
       "      <td>1</td>\n",
       "      <td>other</td>\n",
       "      <td>other</td>\n",
       "      <td>...</td>\n",
       "      <td>5</td>\n",
       "      <td>5</td>\n",
       "      <td>3</td>\n",
       "      <td>3</td>\n",
       "      <td>3</td>\n",
       "      <td>3</td>\n",
       "      <td>3</td>\n",
       "      <td>10</td>\n",
       "      <td>8</td>\n",
       "      <td>7</td>\n",
       "    </tr>\n",
       "    <tr>\n",
       "      <th>393</th>\n",
       "      <td>MS</td>\n",
       "      <td>M</td>\n",
       "      <td>18</td>\n",
       "      <td>R</td>\n",
       "      <td>LE3</td>\n",
       "      <td>T</td>\n",
       "      <td>3</td>\n",
       "      <td>2</td>\n",
       "      <td>services</td>\n",
       "      <td>other</td>\n",
       "      <td>...</td>\n",
       "      <td>4</td>\n",
       "      <td>4</td>\n",
       "      <td>1</td>\n",
       "      <td>3</td>\n",
       "      <td>4</td>\n",
       "      <td>5</td>\n",
       "      <td>0</td>\n",
       "      <td>11</td>\n",
       "      <td>12</td>\n",
       "      <td>10</td>\n",
       "    </tr>\n",
       "    <tr>\n",
       "      <th>394</th>\n",
       "      <td>MS</td>\n",
       "      <td>M</td>\n",
       "      <td>19</td>\n",
       "      <td>U</td>\n",
       "      <td>LE3</td>\n",
       "      <td>T</td>\n",
       "      <td>1</td>\n",
       "      <td>1</td>\n",
       "      <td>other</td>\n",
       "      <td>at_home</td>\n",
       "      <td>...</td>\n",
       "      <td>3</td>\n",
       "      <td>2</td>\n",
       "      <td>3</td>\n",
       "      <td>3</td>\n",
       "      <td>3</td>\n",
       "      <td>5</td>\n",
       "      <td>5</td>\n",
       "      <td>8</td>\n",
       "      <td>9</td>\n",
       "      <td>9</td>\n",
       "    </tr>\n",
       "  </tbody>\n",
       "</table>\n",
       "<p>395 rows × 33 columns</p>\n",
       "</div>"
      ],
      "text/plain": [
       "    school sex  age address famsize Pstatus  Medu  Fedu      Mjob      Fjob  \\\n",
       "0       GP   F   18       U     GT3       A     4     4   at_home   teacher   \n",
       "1       GP   F   17       U     GT3       T     1     1   at_home     other   \n",
       "2       GP   F   15       U     LE3       T     1     1   at_home     other   \n",
       "3       GP   F   15       U     GT3       T     4     2    health  services   \n",
       "4       GP   F   16       U     GT3       T     3     3     other     other   \n",
       "..     ...  ..  ...     ...     ...     ...   ...   ...       ...       ...   \n",
       "390     MS   M   20       U     LE3       A     2     2  services  services   \n",
       "391     MS   M   17       U     LE3       T     3     1  services  services   \n",
       "392     MS   M   21       R     GT3       T     1     1     other     other   \n",
       "393     MS   M   18       R     LE3       T     3     2  services     other   \n",
       "394     MS   M   19       U     LE3       T     1     1     other   at_home   \n",
       "\n",
       "     ... famrel freetime  goout  Dalc  Walc health absences  G1  G2  G3  \n",
       "0    ...      4        3      4     1     1      3        6   5   6   6  \n",
       "1    ...      5        3      3     1     1      3        4   5   5   6  \n",
       "2    ...      4        3      2     2     3      3       10   7   8  10  \n",
       "3    ...      3        2      2     1     1      5        2  15  14  15  \n",
       "4    ...      4        3      2     1     2      5        4   6  10  10  \n",
       "..   ...    ...      ...    ...   ...   ...    ...      ...  ..  ..  ..  \n",
       "390  ...      5        5      4     4     5      4       11   9   9   9  \n",
       "391  ...      2        4      5     3     4      2        3  14  16  16  \n",
       "392  ...      5        5      3     3     3      3        3  10   8   7  \n",
       "393  ...      4        4      1     3     4      5        0  11  12  10  \n",
       "394  ...      3        2      3     3     3      5        5   8   9   9  \n",
       "\n",
       "[395 rows x 33 columns]"
      ]
     },
     "execution_count": 4,
     "metadata": {},
     "output_type": "execute_result"
    }
   ],
   "source": [
    "data"
   ]
  },
  {
   "cell_type": "markdown",
   "metadata": {},
   "source": [
    "## Data analysis"
   ]
  },
  {
   "cell_type": "code",
   "execution_count": 5,
   "metadata": {},
   "outputs": [
    {
     "data": {
      "text/html": [
       "<div>\n",
       "<style scoped>\n",
       "    .dataframe tbody tr th:only-of-type {\n",
       "        vertical-align: middle;\n",
       "    }\n",
       "\n",
       "    .dataframe tbody tr th {\n",
       "        vertical-align: top;\n",
       "    }\n",
       "\n",
       "    .dataframe thead th {\n",
       "        text-align: right;\n",
       "    }\n",
       "</style>\n",
       "<table border=\"1\" class=\"dataframe\">\n",
       "  <thead>\n",
       "    <tr style=\"text-align: right;\">\n",
       "      <th></th>\n",
       "      <th>sex</th>\n",
       "      <th>age</th>\n",
       "      <th>traveltime</th>\n",
       "      <th>absences</th>\n",
       "      <th>freetime</th>\n",
       "      <th>studytime</th>\n",
       "      <th>schoolsup</th>\n",
       "      <th>health</th>\n",
       "      <th>failures</th>\n",
       "      <th>activities</th>\n",
       "      <th>internet</th>\n",
       "      <th>paid</th>\n",
       "      <th>Fjob</th>\n",
       "      <th>Mjob</th>\n",
       "      <th>G1</th>\n",
       "      <th>G2</th>\n",
       "      <th>G3</th>\n",
       "    </tr>\n",
       "  </thead>\n",
       "  <tbody>\n",
       "    <tr>\n",
       "      <th>0</th>\n",
       "      <td>F</td>\n",
       "      <td>18</td>\n",
       "      <td>2</td>\n",
       "      <td>6</td>\n",
       "      <td>3</td>\n",
       "      <td>2</td>\n",
       "      <td>yes</td>\n",
       "      <td>3</td>\n",
       "      <td>0</td>\n",
       "      <td>no</td>\n",
       "      <td>no</td>\n",
       "      <td>no</td>\n",
       "      <td>teacher</td>\n",
       "      <td>at_home</td>\n",
       "      <td>5</td>\n",
       "      <td>6</td>\n",
       "      <td>6</td>\n",
       "    </tr>\n",
       "    <tr>\n",
       "      <th>1</th>\n",
       "      <td>F</td>\n",
       "      <td>17</td>\n",
       "      <td>1</td>\n",
       "      <td>4</td>\n",
       "      <td>3</td>\n",
       "      <td>2</td>\n",
       "      <td>no</td>\n",
       "      <td>3</td>\n",
       "      <td>0</td>\n",
       "      <td>no</td>\n",
       "      <td>yes</td>\n",
       "      <td>no</td>\n",
       "      <td>other</td>\n",
       "      <td>at_home</td>\n",
       "      <td>5</td>\n",
       "      <td>5</td>\n",
       "      <td>6</td>\n",
       "    </tr>\n",
       "    <tr>\n",
       "      <th>2</th>\n",
       "      <td>F</td>\n",
       "      <td>15</td>\n",
       "      <td>1</td>\n",
       "      <td>10</td>\n",
       "      <td>3</td>\n",
       "      <td>2</td>\n",
       "      <td>yes</td>\n",
       "      <td>3</td>\n",
       "      <td>3</td>\n",
       "      <td>no</td>\n",
       "      <td>yes</td>\n",
       "      <td>yes</td>\n",
       "      <td>other</td>\n",
       "      <td>at_home</td>\n",
       "      <td>7</td>\n",
       "      <td>8</td>\n",
       "      <td>10</td>\n",
       "    </tr>\n",
       "    <tr>\n",
       "      <th>3</th>\n",
       "      <td>F</td>\n",
       "      <td>15</td>\n",
       "      <td>1</td>\n",
       "      <td>2</td>\n",
       "      <td>2</td>\n",
       "      <td>3</td>\n",
       "      <td>no</td>\n",
       "      <td>5</td>\n",
       "      <td>0</td>\n",
       "      <td>yes</td>\n",
       "      <td>yes</td>\n",
       "      <td>yes</td>\n",
       "      <td>services</td>\n",
       "      <td>health</td>\n",
       "      <td>15</td>\n",
       "      <td>14</td>\n",
       "      <td>15</td>\n",
       "    </tr>\n",
       "    <tr>\n",
       "      <th>4</th>\n",
       "      <td>F</td>\n",
       "      <td>16</td>\n",
       "      <td>1</td>\n",
       "      <td>4</td>\n",
       "      <td>3</td>\n",
       "      <td>2</td>\n",
       "      <td>no</td>\n",
       "      <td>5</td>\n",
       "      <td>0</td>\n",
       "      <td>no</td>\n",
       "      <td>no</td>\n",
       "      <td>yes</td>\n",
       "      <td>other</td>\n",
       "      <td>other</td>\n",
       "      <td>6</td>\n",
       "      <td>10</td>\n",
       "      <td>10</td>\n",
       "    </tr>\n",
       "  </tbody>\n",
       "</table>\n",
       "</div>"
      ],
      "text/plain": [
       "  sex  age  traveltime  absences  freetime  studytime schoolsup  health  \\\n",
       "0   F   18           2         6         3          2       yes       3   \n",
       "1   F   17           1         4         3          2        no       3   \n",
       "2   F   15           1        10         3          2       yes       3   \n",
       "3   F   15           1         2         2          3        no       5   \n",
       "4   F   16           1         4         3          2        no       5   \n",
       "\n",
       "   failures activities internet paid      Fjob     Mjob  G1  G2  G3  \n",
       "0         0         no       no   no   teacher  at_home   5   6   6  \n",
       "1         0         no      yes   no     other  at_home   5   5   6  \n",
       "2         3         no      yes  yes     other  at_home   7   8  10  \n",
       "3         0        yes      yes  yes  services   health  15  14  15  \n",
       "4         0         no       no  yes     other    other   6  10  10  "
      ]
     },
     "execution_count": 5,
     "metadata": {},
     "output_type": "execute_result"
    }
   ],
   "source": [
    "df_analysis = data[[\"sex\", \"age\", \"traveltime\",\"absences\",\"freetime\",\"studytime\", \"schoolsup\", \"health\",\"failures\",\"activities\", \"internet\", \"paid\", \"Fjob\", \"Mjob\", \"G1\", \"G2\", \"G3\"]]\n",
    "\n",
    "df_analysis.head()\n"
   ]
  },
  {
   "cell_type": "code",
   "execution_count": null,
   "metadata": {},
   "outputs": [],
   "source": []
  },
  {
   "cell_type": "code",
   "execution_count": 6,
   "metadata": {},
   "outputs": [
    {
     "data": {
      "text/plain": [
       "<matplotlib.axes._subplots.AxesSubplot at 0x7fddd44a2cd0>"
      ]
     },
     "execution_count": 6,
     "metadata": {},
     "output_type": "execute_result"
    },
    {
     "data": {
      "image/png": "[encoded data removed]",
      "text/plain": [
       "<Figure size 432x288 with 1 Axes>"
      ]
     },
     "metadata": {},
     "output_type": "display_data"
    }
   ],
   "source": [
    "sns.distplot(df_analysis[\"age\"], kde=True)"
   ]
  },
  {
   "cell_type": "markdown",
   "metadata": {},
   "source": [
    "#### Maximum age students in the class is between 15 to 16"
   ]
  },
  {
   "cell_type": "code",
   "execution_count": 7,
   "metadata": {},
   "outputs": [
    {
     "data": {
      "text/plain": [
       "<matplotlib.axes._subplots.AxesSubplot at 0x7fddd7afe050>"
      ]
     },
     "execution_count": 7,
     "metadata": {},
     "output_type": "execute_result"
    },
    {
     "data": {
      "image/png": "[encoded data removed]",
      "text/plain": [
       "<Figure size 432x288 with 1 Axes>"
      ]
     },
     "metadata": {},
     "output_type": "display_data"
    }
   ],
   "source": [
    "sns.distplot(df_analysis[\"failures\"], kde=True, color=\"b\")"
   ]
  },
  {
   "cell_type": "markdown",
   "metadata": {},
   "source": [
    "#### Number of failures in the class is less "
   ]
  },
  {
   "cell_type": "code",
   "execution_count": null,
   "metadata": {},
   "outputs": [],
   "source": []
  },
  {
   "cell_type": "markdown",
   "metadata": {},
   "source": [
    "## Graph showing absences related to age"
   ]
  },
  {
   "cell_type": "code",
   "execution_count": 8,
   "metadata": {},
   "outputs": [
    {
     "data": {
      "text/plain": [
       "<matplotlib.axes._subplots.AxesSubplot at 0x7fddd7bce890>"
      ]
     },
     "execution_count": 8,
     "metadata": {},
     "output_type": "execute_result"
    },
    {
     "data": {
      "image/png": "[encoded data removed]",
      "text/plain": [
       "<Figure size 432x288 with 1 Axes>"
      ]
     },
     "metadata": {},
     "output_type": "display_data"
    }
   ],
   "source": [
    "# health - current health status (numeric: from 1 - very bad to 5 - very good)\n",
    "sns.barplot(x=\"age\", y=\"absences\", data=df_analysis)"
   ]
  },
  {
   "cell_type": "markdown",
   "metadata": {},
   "source": [
    "#### The above graph shows that absences is maximum in the age 22 "
   ]
  },
  {
   "cell_type": "code",
   "execution_count": null,
   "metadata": {},
   "outputs": [],
   "source": [
    "\n"
   ]
  },
  {
   "cell_type": "markdown",
   "metadata": {},
   "source": [
    "##  Graphs showing absences affecting marks "
   ]
  },
  {
   "cell_type": "code",
   "execution_count": null,
   "metadata": {},
   "outputs": [],
   "source": []
  },
  {
   "cell_type": "code",
   "execution_count": 9,
   "metadata": {},
   "outputs": [
    {
     "data": {
      "image/png": "[encoded data removed]",
      "text/plain": [
       "<Figure size 360x360 with 1 Axes>"
      ]
     },
     "metadata": {},
     "output_type": "display_data"
    }
   ],
   "source": [
    "# remove outliers\n",
    "df_analysis = df_analysis.loc[df_analysis['G1']< df_analysis['G1'].quantile(0.5)]\n",
    "# plotting grpah\n",
    "graph = sns.lmplot(x=\"absences\", y=\"G1\", data=df_analysis)"
   ]
  },
  {
   "cell_type": "code",
   "execution_count": 10,
   "metadata": {},
   "outputs": [
    {
     "data": {
      "image/png": "[encoded data removed]",
      "text/plain": [
       "<Figure size 360x360 with 1 Axes>"
      ]
     },
     "metadata": {},
     "output_type": "display_data"
    }
   ],
   "source": [
    "# remove outliers\n",
    "df_analysis = df_analysis.loc[df_analysis['G2']< df_analysis['G2'].quantile(0.5)]\n",
    "# ploting graph\n",
    "graph = sns.lmplot(x=\"absences\", y=\"G2\", data=df_analysis)"
   ]
  },
  {
   "cell_type": "code",
   "execution_count": 11,
   "metadata": {},
   "outputs": [
    {
     "data": {
      "image/png": "[encoded data removed]",
      "text/plain": [
       "<Figure size 360x360 with 1 Axes>"
      ]
     },
     "metadata": {},
     "output_type": "display_data"
    }
   ],
   "source": [
    "\n",
    "# remove outliers\n",
    "df_analysis = df_analysis.loc[df_analysis['G3']< df_analysis['G3'].quantile(0.5)]\n",
    "# plotting graph\n",
    "graph = sns.lmplot(x=\"absences\", y=\"G3\", data=df_analysis)"
   ]
  },
  {
   "cell_type": "markdown",
   "metadata": {},
   "source": [
    "#### We can clearly say that absence in class is somewhat related to lower marks obtained by students"
   ]
  },
  {
   "cell_type": "code",
   "execution_count": null,
   "metadata": {},
   "outputs": [],
   "source": []
  },
  {
   "cell_type": "code",
   "execution_count": null,
   "metadata": {},
   "outputs": [],
   "source": []
  },
  {
   "cell_type": "markdown",
   "metadata": {},
   "source": [
    "## Final Marks prediction"
   ]
  },
  {
   "cell_type": "code",
   "execution_count": 12,
   "metadata": {},
   "outputs": [],
   "source": [
    "df = data[[\"G1\", \"G2\", \"G3\", \"absences\",\"studytime\", \"freetime\", \"health\"]]"
   ]
  },
  {
   "cell_type": "code",
   "execution_count": 13,
   "metadata": {},
   "outputs": [
    {
     "data": {
      "text/html": [
       "<div>\n",
       "<style scoped>\n",
       "    .dataframe tbody tr th:only-of-type {\n",
       "        vertical-align: middle;\n",
       "    }\n",
       "\n",
       "    .dataframe tbody tr th {\n",
       "        vertical-align: top;\n",
       "    }\n",
       "\n",
       "    .dataframe thead th {\n",
       "        text-align: right;\n",
       "    }\n",
       "</style>\n",
       "<table border=\"1\" class=\"dataframe\">\n",
       "  <thead>\n",
       "    <tr style=\"text-align: right;\">\n",
       "      <th></th>\n",
       "      <th>G1</th>\n",
       "      <th>G2</th>\n",
       "      <th>G3</th>\n",
       "      <th>absences</th>\n",
       "      <th>studytime</th>\n",
       "      <th>freetime</th>\n",
       "      <th>health</th>\n",
       "    </tr>\n",
       "  </thead>\n",
       "  <tbody>\n",
       "    <tr>\n",
       "      <th>0</th>\n",
       "      <td>5</td>\n",
       "      <td>6</td>\n",
       "      <td>6</td>\n",
       "      <td>6</td>\n",
       "      <td>2</td>\n",
       "      <td>3</td>\n",
       "      <td>3</td>\n",
       "    </tr>\n",
       "    <tr>\n",
       "      <th>1</th>\n",
       "      <td>5</td>\n",
       "      <td>5</td>\n",
       "      <td>6</td>\n",
       "      <td>4</td>\n",
       "      <td>2</td>\n",
       "      <td>3</td>\n",
       "      <td>3</td>\n",
       "    </tr>\n",
       "    <tr>\n",
       "      <th>2</th>\n",
       "      <td>7</td>\n",
       "      <td>8</td>\n",
       "      <td>10</td>\n",
       "      <td>10</td>\n",
       "      <td>2</td>\n",
       "      <td>3</td>\n",
       "      <td>3</td>\n",
       "    </tr>\n",
       "    <tr>\n",
       "      <th>3</th>\n",
       "      <td>15</td>\n",
       "      <td>14</td>\n",
       "      <td>15</td>\n",
       "      <td>2</td>\n",
       "      <td>3</td>\n",
       "      <td>2</td>\n",
       "      <td>5</td>\n",
       "    </tr>\n",
       "    <tr>\n",
       "      <th>4</th>\n",
       "      <td>6</td>\n",
       "      <td>10</td>\n",
       "      <td>10</td>\n",
       "      <td>4</td>\n",
       "      <td>2</td>\n",
       "      <td>3</td>\n",
       "      <td>5</td>\n",
       "    </tr>\n",
       "  </tbody>\n",
       "</table>\n",
       "</div>"
      ],
      "text/plain": [
       "   G1  G2  G3  absences  studytime  freetime  health\n",
       "0   5   6   6         6          2         3       3\n",
       "1   5   5   6         4          2         3       3\n",
       "2   7   8  10        10          2         3       3\n",
       "3  15  14  15         2          3         2       5\n",
       "4   6  10  10         4          2         3       5"
      ]
     },
     "execution_count": 13,
     "metadata": {},
     "output_type": "execute_result"
    }
   ],
   "source": [
    "df.head()"
   ]
  },
  {
   "cell_type": "code",
   "execution_count": 14,
   "metadata": {},
   "outputs": [
    {
     "name": "stdout",
     "output_type": "stream",
     "text": [
      "<class 'pandas.core.frame.DataFrame'>\n",
      "RangeIndex: 395 entries, 0 to 394\n",
      "Data columns (total 7 columns):\n",
      " #   Column     Non-Null Count  Dtype\n",
      "---  ------     --------------  -----\n",
      " 0   G1         395 non-null    int64\n",
      " 1   G2         395 non-null    int64\n",
      " 2   G3         395 non-null    int64\n",
      " 3   absences   395 non-null    int64\n",
      " 4   studytime  395 non-null    int64\n",
      " 5   freetime   395 non-null    int64\n",
      " 6   health     395 non-null    int64\n",
      "dtypes: int64(7)\n",
      "memory usage: 21.7 KB\n"
     ]
    }
   ],
   "source": [
    "df.info()"
   ]
  },
  {
   "cell_type": "markdown",
   "metadata": {},
   "source": [
    "### predict G3 marks "
   ]
  },
  {
   "cell_type": "code",
   "execution_count": 15,
   "metadata": {},
   "outputs": [],
   "source": [
    "predict = \"G3\""
   ]
  },
  {
   "cell_type": "code",
   "execution_count": 16,
   "metadata": {},
   "outputs": [
    {
     "name": "stdout",
     "output_type": "stream",
     "text": [
      "[[ 5  6  6  2  3  3]\n",
      " [ 5  5  4  2  3  3]\n",
      " [ 7  8 10  2  3  3]\n",
      " ...\n",
      " [10  8  3  1  5  3]\n",
      " [11 12  0  1  4  5]\n",
      " [ 8  9  5  1  2  5]]\n"
     ]
    }
   ],
   "source": [
    "# y = mx + c\n",
    "\n",
    "# x will have g1 and g2 value only \n",
    "X = np.array(df.drop([predict], 1)) \n",
    "print(X)"
   ]
  },
  {
   "cell_type": "code",
   "execution_count": 17,
   "metadata": {},
   "outputs": [
    {
     "name": "stdout",
     "output_type": "stream",
     "text": [
      "[[ 6]\n",
      " [ 6]\n",
      " [10]\n",
      " [15]\n",
      " [10]\n",
      " [15]\n",
      " [11]\n",
      " [ 6]\n",
      " [19]\n",
      " [15]\n",
      " [ 9]\n",
      " [12]\n",
      " [14]\n",
      " [11]\n",
      " [16]\n",
      " [14]\n",
      " [14]\n",
      " [10]\n",
      " [ 5]\n",
      " [10]\n",
      " [15]\n",
      " [15]\n",
      " [16]\n",
      " [12]\n",
      " [ 8]\n",
      " [ 8]\n",
      " [11]\n",
      " [15]\n",
      " [11]\n",
      " [11]\n",
      " [12]\n",
      " [17]\n",
      " [16]\n",
      " [12]\n",
      " [15]\n",
      " [ 6]\n",
      " [18]\n",
      " [15]\n",
      " [11]\n",
      " [13]\n",
      " [11]\n",
      " [12]\n",
      " [18]\n",
      " [11]\n",
      " [ 9]\n",
      " [ 6]\n",
      " [11]\n",
      " [20]\n",
      " [14]\n",
      " [ 7]\n",
      " [13]\n",
      " [13]\n",
      " [10]\n",
      " [11]\n",
      " [13]\n",
      " [10]\n",
      " [15]\n",
      " [15]\n",
      " [ 9]\n",
      " [16]\n",
      " [11]\n",
      " [11]\n",
      " [ 9]\n",
      " [ 9]\n",
      " [10]\n",
      " [15]\n",
      " [12]\n",
      " [ 6]\n",
      " [ 8]\n",
      " [16]\n",
      " [15]\n",
      " [10]\n",
      " [ 5]\n",
      " [14]\n",
      " [11]\n",
      " [10]\n",
      " [10]\n",
      " [11]\n",
      " [10]\n",
      " [ 5]\n",
      " [12]\n",
      " [11]\n",
      " [ 6]\n",
      " [15]\n",
      " [10]\n",
      " [ 8]\n",
      " [ 6]\n",
      " [14]\n",
      " [10]\n",
      " [ 7]\n",
      " [ 8]\n",
      " [18]\n",
      " [ 6]\n",
      " [10]\n",
      " [14]\n",
      " [10]\n",
      " [15]\n",
      " [10]\n",
      " [14]\n",
      " [ 8]\n",
      " [ 5]\n",
      " [17]\n",
      " [14]\n",
      " [ 6]\n",
      " [18]\n",
      " [11]\n",
      " [ 8]\n",
      " [18]\n",
      " [13]\n",
      " [16]\n",
      " [19]\n",
      " [10]\n",
      " [13]\n",
      " [19]\n",
      " [ 9]\n",
      " [16]\n",
      " [14]\n",
      " [13]\n",
      " [ 8]\n",
      " [13]\n",
      " [15]\n",
      " [15]\n",
      " [13]\n",
      " [13]\n",
      " [ 8]\n",
      " [12]\n",
      " [11]\n",
      " [ 9]\n",
      " [ 0]\n",
      " [18]\n",
      " [ 0]\n",
      " [ 0]\n",
      " [12]\n",
      " [11]\n",
      " [ 0]\n",
      " [ 0]\n",
      " [ 0]\n",
      " [ 0]\n",
      " [12]\n",
      " [15]\n",
      " [ 0]\n",
      " [ 9]\n",
      " [11]\n",
      " [13]\n",
      " [ 0]\n",
      " [11]\n",
      " [ 0]\n",
      " [11]\n",
      " [ 0]\n",
      " [10]\n",
      " [ 0]\n",
      " [14]\n",
      " [10]\n",
      " [ 0]\n",
      " [12]\n",
      " [ 8]\n",
      " [13]\n",
      " [10]\n",
      " [15]\n",
      " [12]\n",
      " [ 0]\n",
      " [ 7]\n",
      " [ 0]\n",
      " [10]\n",
      " [ 7]\n",
      " [12]\n",
      " [10]\n",
      " [16]\n",
      " [ 0]\n",
      " [14]\n",
      " [ 0]\n",
      " [16]\n",
      " [10]\n",
      " [ 0]\n",
      " [ 9]\n",
      " [ 9]\n",
      " [11]\n",
      " [ 6]\n",
      " [ 9]\n",
      " [11]\n",
      " [ 8]\n",
      " [12]\n",
      " [17]\n",
      " [ 8]\n",
      " [12]\n",
      " [11]\n",
      " [11]\n",
      " [15]\n",
      " [ 9]\n",
      " [10]\n",
      " [13]\n",
      " [ 9]\n",
      " [ 8]\n",
      " [10]\n",
      " [14]\n",
      " [15]\n",
      " [16]\n",
      " [10]\n",
      " [18]\n",
      " [10]\n",
      " [16]\n",
      " [10]\n",
      " [10]\n",
      " [ 6]\n",
      " [11]\n",
      " [ 9]\n",
      " [ 7]\n",
      " [13]\n",
      " [10]\n",
      " [ 7]\n",
      " [ 8]\n",
      " [13]\n",
      " [14]\n",
      " [ 8]\n",
      " [10]\n",
      " [15]\n",
      " [ 4]\n",
      " [ 8]\n",
      " [ 8]\n",
      " [10]\n",
      " [ 6]\n",
      " [ 0]\n",
      " [17]\n",
      " [13]\n",
      " [14]\n",
      " [ 7]\n",
      " [15]\n",
      " [12]\n",
      " [ 9]\n",
      " [12]\n",
      " [14]\n",
      " [11]\n",
      " [ 9]\n",
      " [13]\n",
      " [ 6]\n",
      " [10]\n",
      " [13]\n",
      " [12]\n",
      " [11]\n",
      " [ 0]\n",
      " [12]\n",
      " [12]\n",
      " [ 0]\n",
      " [12]\n",
      " [ 0]\n",
      " [18]\n",
      " [13]\n",
      " [ 8]\n",
      " [ 5]\n",
      " [15]\n",
      " [ 8]\n",
      " [10]\n",
      " [ 8]\n",
      " [ 8]\n",
      " [12]\n",
      " [ 8]\n",
      " [13]\n",
      " [11]\n",
      " [14]\n",
      " [ 0]\n",
      " [18]\n",
      " [ 8]\n",
      " [12]\n",
      " [ 9]\n",
      " [ 0]\n",
      " [17]\n",
      " [10]\n",
      " [11]\n",
      " [10]\n",
      " [ 0]\n",
      " [ 9]\n",
      " [14]\n",
      " [11]\n",
      " [14]\n",
      " [10]\n",
      " [12]\n",
      " [ 9]\n",
      " [ 9]\n",
      " [ 8]\n",
      " [10]\n",
      " [ 8]\n",
      " [10]\n",
      " [12]\n",
      " [10]\n",
      " [11]\n",
      " [11]\n",
      " [19]\n",
      " [12]\n",
      " [14]\n",
      " [15]\n",
      " [11]\n",
      " [15]\n",
      " [13]\n",
      " [18]\n",
      " [14]\n",
      " [11]\n",
      " [ 0]\n",
      " [ 8]\n",
      " [14]\n",
      " [16]\n",
      " [11]\n",
      " [10]\n",
      " [14]\n",
      " [18]\n",
      " [13]\n",
      " [12]\n",
      " [18]\n",
      " [ 8]\n",
      " [12]\n",
      " [10]\n",
      " [ 0]\n",
      " [13]\n",
      " [11]\n",
      " [11]\n",
      " [13]\n",
      " [11]\n",
      " [ 0]\n",
      " [ 9]\n",
      " [10]\n",
      " [11]\n",
      " [13]\n",
      " [ 9]\n",
      " [11]\n",
      " [15]\n",
      " [15]\n",
      " [11]\n",
      " [16]\n",
      " [10]\n",
      " [ 9]\n",
      " [14]\n",
      " [ 8]\n",
      " [14]\n",
      " [ 0]\n",
      " [ 0]\n",
      " [ 0]\n",
      " [15]\n",
      " [13]\n",
      " [ 0]\n",
      " [17]\n",
      " [10]\n",
      " [11]\n",
      " [ 0]\n",
      " [15]\n",
      " [ 0]\n",
      " [10]\n",
      " [14]\n",
      " [16]\n",
      " [ 9]\n",
      " [15]\n",
      " [13]\n",
      " [ 8]\n",
      " [13]\n",
      " [ 8]\n",
      " [ 8]\n",
      " [11]\n",
      " [ 9]\n",
      " [13]\n",
      " [11]\n",
      " [10]\n",
      " [16]\n",
      " [13]\n",
      " [12]\n",
      " [10]\n",
      " [15]\n",
      " [12]\n",
      " [10]\n",
      " [13]\n",
      " [ 0]\n",
      " [10]\n",
      " [11]\n",
      " [ 9]\n",
      " [12]\n",
      " [11]\n",
      " [ 5]\n",
      " [19]\n",
      " [10]\n",
      " [15]\n",
      " [10]\n",
      " [15]\n",
      " [10]\n",
      " [14]\n",
      " [ 7]\n",
      " [10]\n",
      " [ 0]\n",
      " [ 5]\n",
      " [10]\n",
      " [ 6]\n",
      " [ 0]\n",
      " [ 8]\n",
      " [ 0]\n",
      " [ 9]\n",
      " [16]\n",
      " [ 7]\n",
      " [10]\n",
      " [ 9]]\n"
     ]
    }
   ],
   "source": [
    "# y will have g3 value which we will predict\n",
    "y = np.array(df[[predict]])\n",
    "print(y)"
   ]
  },
  {
   "cell_type": "code",
   "execution_count": null,
   "metadata": {},
   "outputs": [],
   "source": []
  },
  {
   "cell_type": "code",
   "execution_count": 18,
   "metadata": {},
   "outputs": [],
   "source": [
    "# spliting the data into test and train in the ratio of 90:10\n",
    "# spliting into four arrays\n",
    "\n"
   ]
  },
  {
   "cell_type": "markdown",
   "metadata": {},
   "source": [
    "#### spliting data syntax here should be moved after tranning module"
   ]
  },
  {
   "cell_type": "code",
   "execution_count": 19,
   "metadata": {},
   "outputs": [],
   "source": [
    "\n",
    "# x_train, x_test, y_train, y_test = sklearn.model_selection.train_test_split(X, y, test_size = 0.1, random_state=0)\n"
   ]
  },
  {
   "cell_type": "markdown",
   "metadata": {},
   "source": [
    "#### Only best tranied model will get saved "
   ]
  },
  {
   "cell_type": "code",
   "execution_count": 20,
   "metadata": {},
   "outputs": [
    {
     "data": {
      "text/plain": [
       "LinearRegression()"
      ]
     },
     "execution_count": 20,
     "metadata": {},
     "output_type": "execute_result"
    },
    {
     "name": "stdout",
     "output_type": "stream",
     "text": [
      "accuracy: 0.8919742090995758\n"
     ]
    },
    {
     "data": {
      "text/plain": [
       "LinearRegression()"
      ]
     },
     "execution_count": 20,
     "metadata": {},
     "output_type": "execute_result"
    },
    {
     "name": "stdout",
     "output_type": "stream",
     "text": [
      "accuracy: 0.6767263538289994\n"
     ]
    },
    {
     "data": {
      "text/plain": [
       "LinearRegression()"
      ]
     },
     "execution_count": 20,
     "metadata": {},
     "output_type": "execute_result"
    },
    {
     "name": "stdout",
     "output_type": "stream",
     "text": [
      "accuracy: 0.8217860579091919\n"
     ]
    },
    {
     "data": {
      "text/plain": [
       "LinearRegression()"
      ]
     },
     "execution_count": 20,
     "metadata": {},
     "output_type": "execute_result"
    },
    {
     "name": "stdout",
     "output_type": "stream",
     "text": [
      "accuracy: 0.8912127871521636\n"
     ]
    },
    {
     "data": {
      "text/plain": [
       "LinearRegression()"
      ]
     },
     "execution_count": 20,
     "metadata": {},
     "output_type": "execute_result"
    },
    {
     "name": "stdout",
     "output_type": "stream",
     "text": [
      "accuracy: 0.9414645414865914\n"
     ]
    },
    {
     "data": {
      "text/plain": [
       "LinearRegression()"
      ]
     },
     "execution_count": 20,
     "metadata": {},
     "output_type": "execute_result"
    },
    {
     "name": "stdout",
     "output_type": "stream",
     "text": [
      "accuracy: 0.7918495486551601\n"
     ]
    },
    {
     "data": {
      "text/plain": [
       "LinearRegression()"
      ]
     },
     "execution_count": 20,
     "metadata": {},
     "output_type": "execute_result"
    },
    {
     "name": "stdout",
     "output_type": "stream",
     "text": [
      "accuracy: 0.8753693820415641\n"
     ]
    },
    {
     "data": {
      "text/plain": [
       "LinearRegression()"
      ]
     },
     "execution_count": 20,
     "metadata": {},
     "output_type": "execute_result"
    },
    {
     "name": "stdout",
     "output_type": "stream",
     "text": [
      "accuracy: 0.8226642226943517\n"
     ]
    },
    {
     "data": {
      "text/plain": [
       "LinearRegression()"
      ]
     },
     "execution_count": 20,
     "metadata": {},
     "output_type": "execute_result"
    },
    {
     "name": "stdout",
     "output_type": "stream",
     "text": [
      "accuracy: 0.7448524896504457\n"
     ]
    },
    {
     "data": {
      "text/plain": [
       "LinearRegression()"
      ]
     },
     "execution_count": 20,
     "metadata": {},
     "output_type": "execute_result"
    },
    {
     "name": "stdout",
     "output_type": "stream",
     "text": [
      "accuracy: 0.890918274338319\n"
     ]
    },
    {
     "data": {
      "text/plain": [
       "LinearRegression()"
      ]
     },
     "execution_count": 20,
     "metadata": {},
     "output_type": "execute_result"
    },
    {
     "name": "stdout",
     "output_type": "stream",
     "text": [
      "accuracy: 0.7659414178326327\n"
     ]
    },
    {
     "data": {
      "text/plain": [
       "LinearRegression()"
      ]
     },
     "execution_count": 20,
     "metadata": {},
     "output_type": "execute_result"
    },
    {
     "name": "stdout",
     "output_type": "stream",
     "text": [
      "accuracy: 0.8350233236503284\n"
     ]
    },
    {
     "data": {
      "text/plain": [
       "LinearRegression()"
      ]
     },
     "execution_count": 20,
     "metadata": {},
     "output_type": "execute_result"
    },
    {
     "name": "stdout",
     "output_type": "stream",
     "text": [
      "accuracy: 0.7909622601312281\n"
     ]
    },
    {
     "data": {
      "text/plain": [
       "LinearRegression()"
      ]
     },
     "execution_count": 20,
     "metadata": {},
     "output_type": "execute_result"
    },
    {
     "name": "stdout",
     "output_type": "stream",
     "text": [
      "accuracy: 0.8232646316252175\n"
     ]
    },
    {
     "data": {
      "text/plain": [
       "LinearRegression()"
      ]
     },
     "execution_count": 20,
     "metadata": {},
     "output_type": "execute_result"
    },
    {
     "name": "stdout",
     "output_type": "stream",
     "text": [
      "accuracy: 0.7276601547840483\n"
     ]
    },
    {
     "data": {
      "text/plain": [
       "LinearRegression()"
      ]
     },
     "execution_count": 20,
     "metadata": {},
     "output_type": "execute_result"
    },
    {
     "name": "stdout",
     "output_type": "stream",
     "text": [
      "accuracy: 0.7270083425817246\n"
     ]
    },
    {
     "data": {
      "text/plain": [
       "LinearRegression()"
      ]
     },
     "execution_count": 20,
     "metadata": {},
     "output_type": "execute_result"
    },
    {
     "name": "stdout",
     "output_type": "stream",
     "text": [
      "accuracy: 0.9071652676255028\n"
     ]
    },
    {
     "data": {
      "text/plain": [
       "LinearRegression()"
      ]
     },
     "execution_count": 20,
     "metadata": {},
     "output_type": "execute_result"
    },
    {
     "name": "stdout",
     "output_type": "stream",
     "text": [
      "accuracy: 0.7730095876449554\n"
     ]
    },
    {
     "data": {
      "text/plain": [
       "LinearRegression()"
      ]
     },
     "execution_count": 20,
     "metadata": {},
     "output_type": "execute_result"
    },
    {
     "name": "stdout",
     "output_type": "stream",
     "text": [
      "accuracy: 0.869740866059928\n"
     ]
    },
    {
     "data": {
      "text/plain": [
       "LinearRegression()"
      ]
     },
     "execution_count": 20,
     "metadata": {},
     "output_type": "execute_result"
    },
    {
     "name": "stdout",
     "output_type": "stream",
     "text": [
      "accuracy: 0.7945390560861264\n"
     ]
    },
    {
     "data": {
      "text/plain": [
       "LinearRegression()"
      ]
     },
     "execution_count": 20,
     "metadata": {},
     "output_type": "execute_result"
    },
    {
     "name": "stdout",
     "output_type": "stream",
     "text": [
      "accuracy: 0.8666531362094065\n"
     ]
    },
    {
     "data": {
      "text/plain": [
       "LinearRegression()"
      ]
     },
     "execution_count": 20,
     "metadata": {},
     "output_type": "execute_result"
    },
    {
     "name": "stdout",
     "output_type": "stream",
     "text": [
      "accuracy: 0.8583655425673272\n"
     ]
    },
    {
     "data": {
      "text/plain": [
       "LinearRegression()"
      ]
     },
     "execution_count": 20,
     "metadata": {},
     "output_type": "execute_result"
    },
    {
     "name": "stdout",
     "output_type": "stream",
     "text": [
      "accuracy: 0.8020115524728395\n"
     ]
    },
    {
     "data": {
      "text/plain": [
       "LinearRegression()"
      ]
     },
     "execution_count": 20,
     "metadata": {},
     "output_type": "execute_result"
    },
    {
     "name": "stdout",
     "output_type": "stream",
     "text": [
      "accuracy: 0.7584050204550827\n"
     ]
    },
    {
     "data": {
      "text/plain": [
       "LinearRegression()"
      ]
     },
     "execution_count": 20,
     "metadata": {},
     "output_type": "execute_result"
    },
    {
     "name": "stdout",
     "output_type": "stream",
     "text": [
      "accuracy: 0.8013474893307545\n"
     ]
    },
    {
     "data": {
      "text/plain": [
       "LinearRegression()"
      ]
     },
     "execution_count": 20,
     "metadata": {},
     "output_type": "execute_result"
    },
    {
     "name": "stdout",
     "output_type": "stream",
     "text": [
      "accuracy: 0.8369633409946298\n"
     ]
    },
    {
     "data": {
      "text/plain": [
       "LinearRegression()"
      ]
     },
     "execution_count": 20,
     "metadata": {},
     "output_type": "execute_result"
    },
    {
     "name": "stdout",
     "output_type": "stream",
     "text": [
      "accuracy: 0.7407735088580822\n"
     ]
    },
    {
     "data": {
      "text/plain": [
       "LinearRegression()"
      ]
     },
     "execution_count": 20,
     "metadata": {},
     "output_type": "execute_result"
    },
    {
     "name": "stdout",
     "output_type": "stream",
     "text": [
      "accuracy: 0.7763638919046472\n"
     ]
    },
    {
     "data": {
      "text/plain": [
       "LinearRegression()"
      ]
     },
     "execution_count": 20,
     "metadata": {},
     "output_type": "execute_result"
    },
    {
     "name": "stdout",
     "output_type": "stream",
     "text": [
      "accuracy: 0.8250307046539719\n"
     ]
    },
    {
     "data": {
      "text/plain": [
       "LinearRegression()"
      ]
     },
     "execution_count": 20,
     "metadata": {},
     "output_type": "execute_result"
    },
    {
     "name": "stdout",
     "output_type": "stream",
     "text": [
      "accuracy: 0.7360081017378906\n",
      "best accuracy: 0.9414645414865914\n"
     ]
    }
   ],
   "source": [
    "best = 0\n",
    "for i in range(30):\n",
    "    \n",
    "    # spliting data syntax should be moved out of the loop after tranning and storing trained module.\n",
    "    # after test_size in for loop should be added not to select random data while splitting. syntax : random_state=0\n",
    "    x_train, x_test, y_train, y_test = sklearn.model_selection.train_test_split(X, y, test_size = 0.1)\n",
    "\n",
    "    linear = linear_model.LinearRegression()\n",
    "    \n",
    "\n",
    "    linear.fit(x_train, y_train)\n",
    "    acc = linear.score(x_test, y_test)\n",
    "    # accuracy \n",
    "    print(\"accuracy:\", acc)\n",
    "    \n",
    "    \n",
    "    # saving the model: \n",
    "\n",
    "    #studentmodel is the name of the model\n",
    "    #wb mode\n",
    "    \n",
    "    if acc>best:\n",
    "        best=acc\n",
    "        with open(\"studentmodel.pickle\", \"wb\") as f:\n",
    "            pickle.dump(linear, f) \n",
    "\n",
    "print(\"best accuracy:\",best)"
   ]
  },
  {
   "cell_type": "markdown",
   "metadata": {},
   "source": [
    "#### model is trained and saved. So we commented this section of training the model."
   ]
  },
  {
   "cell_type": "code",
   "execution_count": 21,
   "metadata": {},
   "outputs": [],
   "source": [
    "# linear = linear_model.LinearRegression()"
   ]
  },
  {
   "cell_type": "code",
   "execution_count": 22,
   "metadata": {},
   "outputs": [],
   "source": [
    "# linear.fit(x_train, y_train)\n",
    "# acc = linear.score(x_test, y_test)\n",
    "# accuracy \n",
    "#print(acc)"
   ]
  },
  {
   "cell_type": "code",
   "execution_count": 23,
   "metadata": {},
   "outputs": [],
   "source": [
    "# saving the model: \n",
    "\n",
    "# studentmodel is the name of the model\n",
    "# wb mode\n",
    "# with open(\"studentmodel.pickle\", \"wb\") as f:\n",
    "    #pickle.dump(linear, f) "
   ]
  },
  {
   "cell_type": "code",
   "execution_count": null,
   "metadata": {},
   "outputs": [],
   "source": []
  },
  {
   "cell_type": "code",
   "execution_count": 24,
   "metadata": {},
   "outputs": [],
   "source": [
    "# loading the pickle file with model so that we do not need to train our model every time\n",
    "pickle_in = open(\"studentmodel.pickle\", \"rb\")\n",
    "linear = pickle.load(pickle_in) "
   ]
  },
  {
   "cell_type": "code",
   "execution_count": 25,
   "metadata": {},
   "outputs": [
    {
     "name": "stdout",
     "output_type": "stream",
     "text": [
      "Coefficient(m): \n",
      " [[ 0.16344546  0.99314171  0.0366933  -0.20730167  0.07537215  0.09159804]]\n",
      "Intercept: \n",
      " [-2.39718509]\n"
     ]
    }
   ],
   "source": [
    "print('Coefficient(m): \\n', linear.coef_)\n",
    "print('Intercept: \\n', linear.intercept_)"
   ]
  },
  {
   "cell_type": "code",
   "execution_count": null,
   "metadata": {},
   "outputs": [],
   "source": []
  },
  {
   "cell_type": "code",
   "execution_count": 30,
   "metadata": {},
   "outputs": [],
   "source": [
    "y_pred = linear.predict(x_test)"
   ]
  },
  {
   "cell_type": "code",
   "execution_count": 31,
   "metadata": {},
   "outputs": [
    {
     "name": "stdout",
     "output_type": "stream",
     "text": [
      "40\n"
     ]
    }
   ],
   "source": [
    "print(len(y_pred))"
   ]
  },
  {
   "cell_type": "code",
   "execution_count": 28,
   "metadata": {},
   "outputs": [],
   "source": [
    "# print(y_test)"
   ]
  },
  {
   "cell_type": "code",
   "execution_count": 32,
   "metadata": {},
   "outputs": [
    {
     "name": "stdout",
     "output_type": "stream",
     "text": [
      "[9 9 4 2 4 1] [10] [8.13735589]\n",
      "[16 18  0  2  4  1] [18] [18.07297627]\n",
      "[13 13  4  4  3  3] [12] [12.45692515]\n",
      "[11 13  2  2  4  2] [14] [12.45502508]\n",
      "[9 8 2 4 5 5] [8] [7.09798858]\n",
      "[ 9  8 15  2  4  4] [8] [7.82263456]\n",
      "[10 10  2  2  4  3] [11] [9.40375255]\n",
      "[12 14  0  1  4  5] [15] [14.02032145]\n",
      "[10 12  2  1  2  3] [12] [11.44659332]\n",
      "[6 7 0 2 1 4] [0] [5.56264059]\n",
      "[12 12  2  1  3  5] [14] [12.03205247]\n",
      "[10  9  0  2  3  2] [0] [8.17025405]\n",
      "[ 6  6 22  2  4  1] [4] [5.32807372]\n",
      "[13 13  2  2  4  5] [11] [13.05671012]\n",
      "[ 9 10  9  3  3  5] [9] [9.39768242]\n",
      "[14 15  0  2  2  3] [16] [14.79911202]\n",
      "[12 12  2  1  2  5] [11] [11.95668032]\n",
      "[7 8 2 2 4 5] [9] [7.11032884]\n",
      "[11 12  2  1  3  3] [11] [11.68541093]\n",
      "[12 10 10  3  2  3] [12] [9.66614386]\n",
      "[14 13  4  2  4  4] [13] [13.20194413]\n",
      "[15 13  9  2  4  2] [15] [13.36565998]\n",
      "[16 15 16  3  4  5] [15] [15.83973438]\n",
      "[ 7  7 14  1  5  4] [5] [6.74858246]\n",
      "[ 8  8 30  1  5  5] [8] [8.58386039]\n",
      "[15 14  8  2  2  4] [14] [14.35456017]\n",
      "[8 9 4 2 1 3] [10] [7.93099006]\n",
      "[14 13 12  3  4  5] [13] [13.37978687]\n",
      "[13 11 40  3  1  3] [11] [11.84815774]\n",
      "[13 13  0  1  5  5] [12] [13.26599735]\n",
      "[13 15  2  2  3  3] [16] [14.7844253]\n",
      "[15 15  2  2  3  5] [14] [15.2945123]\n",
      "[8 8 0 2 3 1] [0] [6.75862339]\n",
      "[13 11  3  2  5  4] [11] [11.09089411]\n",
      "[10  9 75  2  1  5] [9] [11.04630104]\n",
      "[15 16  2  2  2  5] [16] [16.21228186]\n",
      "[10  9  4  3  2  4] [9] [8.2175495]\n",
      "[11 11 12  2  3  1] [11] [10.66870443]\n",
      "[7 5 0 3 4 5] [0] [3.85021546]\n",
      "[ 7  6 10  2  4  5] [6] [5.41759179]\n"
     ]
    }
   ],
   "source": [
    "for x in range(len(y_pred)):\n",
    "    # checking for prerdict output\n",
    "    print(x_test[x],y_test[x], y_pred[x])\n",
    "    "
   ]
  },
  {
   "cell_type": "markdown",
   "metadata": {},
   "source": [
    "### the easiest way to compare the target and prediction is to plot them of scatter plot"
   ]
  },
  {
   "cell_type": "code",
   "execution_count": 35,
   "metadata": {},
   "outputs": [
    {
     "data": {
      "text/plain": [
       "<matplotlib.collections.PathCollection at 0x7fddd85bf350>"
      ]
     },
     "execution_count": 35,
     "metadata": {},
     "output_type": "execute_result"
    },
    {
     "data": {
      "text/plain": [
       "Text(0.5, 0, 'Targets (y_train)')"
      ]
     },
     "execution_count": 35,
     "metadata": {},
     "output_type": "execute_result"
    },
    {
     "data": {
      "text/plain": [
       "Text(0, 0.5, 'Predictions (y_pred)')"
      ]
     },
     "execution_count": 35,
     "metadata": {},
     "output_type": "execute_result"
    },
    {
     "data": {
      "text/plain": [
       "(0.0, 22.0)"
      ]
     },
     "execution_count": 35,
     "metadata": {},
     "output_type": "execute_result"
    },
    {
     "data": {
      "text/plain": [
       "(0.0, 22.0)"
      ]
     },
     "execution_count": 35,
     "metadata": {},
     "output_type": "execute_result"
    },
    {
     "data": {
      "image/png": "[encoded data removed]",
      "text/plain": [
       "<Figure size 432x288 with 1 Axes>"
      ]
     },
     "metadata": {},
     "output_type": "display_data"
    }
   ],
   "source": [
    "plt.scatter(y_test, y_pred, alpha=0.5)\n",
    "# Let's also name the axes\n",
    "plt.xlabel('Targets (y_train)',size=18)\n",
    "plt.ylabel('Predictions (y_pred)',size=18)\n",
    "# Sometimes the plot will have different scales of the x-axis and the y-axis\n",
    "# This is an issue as we won't be able to interpret the '45-degree line'\n",
    "# We want the x-axis and the y-axis to be the same\n",
    "plt.xlim(0,22)\n",
    "plt.ylim(0,22)\n",
    "plt.show()"
   ]
  },
  {
   "cell_type": "code",
   "execution_count": null,
   "metadata": {},
   "outputs": [],
   "source": []
  }
 ],
 "metadata": {
  "kernelspec": {
   "display_name": "Python 3",
   "language": "python",
   "name": "python3"
  },
  "language_info": {
   "codemirror_mode": {
    "name": "ipython",
    "version": 3
   },
   "file_extension": ".py",
   "mimetype": "text/x-python",
   "name": "python",
   "nbconvert_exporter": "python",
   "pygments_lexer": "ipython3",
   "version": "3.7.6"
  }
 },
 "nbformat": 4,
 "nbformat_minor": 4
}
