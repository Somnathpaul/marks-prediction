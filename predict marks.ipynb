{
 "cells": [
  {
   "cell_type": "code",
   "execution_count": 1,
   "metadata": {},
   "outputs": [],
   "source": [
    "from IPython.core.interactiveshell import InteractiveShell\n",
    "InteractiveShell.ast_node_interactivity = \"all\""
   ]
  },
  {
   "cell_type": "code",
   "execution_count": 2,
   "metadata": {},
   "outputs": [],
   "source": [
    "import pandas as pd\n",
    "import numpy as np\n",
    "import sklearn\n",
    "from sklearn import linear_model\n",
    "from sklearn.utils import shuffle\n",
    "import matplotlib.pyplot as plt\n",
    "%matplotlib inline\n",
    "import pickle\n",
    "from matplotlib import style\n",
    "import seaborn as sns\n",
    "plt.style.use(\"ggplot\")"
   ]
  },
  {
   "cell_type": "code",
   "execution_count": 3,
   "metadata": {},
   "outputs": [],
   "source": [
    "data = pd.read_csv(\"student_mat.csv\", sep=\";\")"
   ]
  },
  {
   "cell_type": "code",
   "execution_count": 4,
   "metadata": {
    "scrolled": true
   },
   "outputs": [
    {
     "data": {
      "text/html": [
       "<div>\n",
       "<style scoped>\n",
       "    .dataframe tbody tr th:only-of-type {\n",
       "        vertical-align: middle;\n",
       "    }\n",
       "\n",
       "    .dataframe tbody tr th {\n",
       "        vertical-align: top;\n",
       "    }\n",
       "\n",
       "    .dataframe thead th {\n",
       "        text-align: right;\n",
       "    }\n",
       "</style>\n",
       "<table border=\"1\" class=\"dataframe\">\n",
       "  <thead>\n",
       "    <tr style=\"text-align: right;\">\n",
       "      <th></th>\n",
       "      <th>school</th>\n",
       "      <th>sex</th>\n",
       "      <th>age</th>\n",
       "      <th>address</th>\n",
       "      <th>famsize</th>\n",
       "      <th>Pstatus</th>\n",
       "      <th>Medu</th>\n",
       "      <th>Fedu</th>\n",
       "      <th>Mjob</th>\n",
       "      <th>Fjob</th>\n",
       "      <th>...</th>\n",
       "      <th>famrel</th>\n",
       "      <th>freetime</th>\n",
       "      <th>goout</th>\n",
       "      <th>Dalc</th>\n",
       "      <th>Walc</th>\n",
       "      <th>health</th>\n",
       "      <th>absences</th>\n",
       "      <th>G1</th>\n",
       "      <th>G2</th>\n",
       "      <th>G3</th>\n",
       "    </tr>\n",
       "  </thead>\n",
       "  <tbody>\n",
       "    <tr>\n",
       "      <th>0</th>\n",
       "      <td>GP</td>\n",
       "      <td>F</td>\n",
       "      <td>18</td>\n",
       "      <td>U</td>\n",
       "      <td>GT3</td>\n",
       "      <td>A</td>\n",
       "      <td>4</td>\n",
       "      <td>4</td>\n",
       "      <td>at_home</td>\n",
       "      <td>teacher</td>\n",
       "      <td>...</td>\n",
       "      <td>4</td>\n",
       "      <td>3</td>\n",
       "      <td>4</td>\n",
       "      <td>1</td>\n",
       "      <td>1</td>\n",
       "      <td>3</td>\n",
       "      <td>6</td>\n",
       "      <td>5</td>\n",
       "      <td>6</td>\n",
       "      <td>6</td>\n",
       "    </tr>\n",
       "    <tr>\n",
       "      <th>1</th>\n",
       "      <td>GP</td>\n",
       "      <td>F</td>\n",
       "      <td>17</td>\n",
       "      <td>U</td>\n",
       "      <td>GT3</td>\n",
       "      <td>T</td>\n",
       "      <td>1</td>\n",
       "      <td>1</td>\n",
       "      <td>at_home</td>\n",
       "      <td>other</td>\n",
       "      <td>...</td>\n",
       "      <td>5</td>\n",
       "      <td>3</td>\n",
       "      <td>3</td>\n",
       "      <td>1</td>\n",
       "      <td>1</td>\n",
       "      <td>3</td>\n",
       "      <td>4</td>\n",
       "      <td>5</td>\n",
       "      <td>5</td>\n",
       "      <td>6</td>\n",
       "    </tr>\n",
       "    <tr>\n",
       "      <th>2</th>\n",
       "      <td>GP</td>\n",
       "      <td>F</td>\n",
       "      <td>15</td>\n",
       "      <td>U</td>\n",
       "      <td>LE3</td>\n",
       "      <td>T</td>\n",
       "      <td>1</td>\n",
       "      <td>1</td>\n",
       "      <td>at_home</td>\n",
       "      <td>other</td>\n",
       "      <td>...</td>\n",
       "      <td>4</td>\n",
       "      <td>3</td>\n",
       "      <td>2</td>\n",
       "      <td>2</td>\n",
       "      <td>3</td>\n",
       "      <td>3</td>\n",
       "      <td>10</td>\n",
       "      <td>7</td>\n",
       "      <td>8</td>\n",
       "      <td>10</td>\n",
       "    </tr>\n",
       "    <tr>\n",
       "      <th>3</th>\n",
       "      <td>GP</td>\n",
       "      <td>F</td>\n",
       "      <td>15</td>\n",
       "      <td>U</td>\n",
       "      <td>GT3</td>\n",
       "      <td>T</td>\n",
       "      <td>4</td>\n",
       "      <td>2</td>\n",
       "      <td>health</td>\n",
       "      <td>services</td>\n",
       "      <td>...</td>\n",
       "      <td>3</td>\n",
       "      <td>2</td>\n",
       "      <td>2</td>\n",
       "      <td>1</td>\n",
       "      <td>1</td>\n",
       "      <td>5</td>\n",
       "      <td>2</td>\n",
       "      <td>15</td>\n",
       "      <td>14</td>\n",
       "      <td>15</td>\n",
       "    </tr>\n",
       "    <tr>\n",
       "      <th>4</th>\n",
       "      <td>GP</td>\n",
       "      <td>F</td>\n",
       "      <td>16</td>\n",
       "      <td>U</td>\n",
       "      <td>GT3</td>\n",
       "      <td>T</td>\n",
       "      <td>3</td>\n",
       "      <td>3</td>\n",
       "      <td>other</td>\n",
       "      <td>other</td>\n",
       "      <td>...</td>\n",
       "      <td>4</td>\n",
       "      <td>3</td>\n",
       "      <td>2</td>\n",
       "      <td>1</td>\n",
       "      <td>2</td>\n",
       "      <td>5</td>\n",
       "      <td>4</td>\n",
       "      <td>6</td>\n",
       "      <td>10</td>\n",
       "      <td>10</td>\n",
       "    </tr>\n",
       "    <tr>\n",
       "      <th>...</th>\n",
       "      <td>...</td>\n",
       "      <td>...</td>\n",
       "      <td>...</td>\n",
       "      <td>...</td>\n",
       "      <td>...</td>\n",
       "      <td>...</td>\n",
       "      <td>...</td>\n",
       "      <td>...</td>\n",
       "      <td>...</td>\n",
       "      <td>...</td>\n",
       "      <td>...</td>\n",
       "      <td>...</td>\n",
       "      <td>...</td>\n",
       "      <td>...</td>\n",
       "      <td>...</td>\n",
       "      <td>...</td>\n",
       "      <td>...</td>\n",
       "      <td>...</td>\n",
       "      <td>...</td>\n",
       "      <td>...</td>\n",
       "      <td>...</td>\n",
       "    </tr>\n",
       "    <tr>\n",
       "      <th>390</th>\n",
       "      <td>MS</td>\n",
       "      <td>M</td>\n",
       "      <td>20</td>\n",
       "      <td>U</td>\n",
       "      <td>LE3</td>\n",
       "      <td>A</td>\n",
       "      <td>2</td>\n",
       "      <td>2</td>\n",
       "      <td>services</td>\n",
       "      <td>services</td>\n",
       "      <td>...</td>\n",
       "      <td>5</td>\n",
       "      <td>5</td>\n",
       "      <td>4</td>\n",
       "      <td>4</td>\n",
       "      <td>5</td>\n",
       "      <td>4</td>\n",
       "      <td>11</td>\n",
       "      <td>9</td>\n",
       "      <td>9</td>\n",
       "      <td>9</td>\n",
       "    </tr>\n",
       "    <tr>\n",
       "      <th>391</th>\n",
       "      <td>MS</td>\n",
       "      <td>M</td>\n",
       "      <td>17</td>\n",
       "      <td>U</td>\n",
       "      <td>LE3</td>\n",
       "      <td>T</td>\n",
       "      <td>3</td>\n",
       "      <td>1</td>\n",
       "      <td>services</td>\n",
       "      <td>services</td>\n",
       "      <td>...</td>\n",
       "      <td>2</td>\n",
       "      <td>4</td>\n",
       "      <td>5</td>\n",
       "      <td>3</td>\n",
       "      <td>4</td>\n",
       "      <td>2</td>\n",
       "      <td>3</td>\n",
       "      <td>14</td>\n",
       "      <td>16</td>\n",
       "      <td>16</td>\n",
       "    </tr>\n",
       "    <tr>\n",
       "      <th>392</th>\n",
       "      <td>MS</td>\n",
       "      <td>M</td>\n",
       "      <td>21</td>\n",
       "      <td>R</td>\n",
       "      <td>GT3</td>\n",
       "      <td>T</td>\n",
       "      <td>1</td>\n",
       "      <td>1</td>\n",
       "      <td>other</td>\n",
       "      <td>other</td>\n",
       "      <td>...</td>\n",
       "      <td>5</td>\n",
       "      <td>5</td>\n",
       "      <td>3</td>\n",
       "      <td>3</td>\n",
       "      <td>3</td>\n",
       "      <td>3</td>\n",
       "      <td>3</td>\n",
       "      <td>10</td>\n",
       "      <td>8</td>\n",
       "      <td>7</td>\n",
       "    </tr>\n",
       "    <tr>\n",
       "      <th>393</th>\n",
       "      <td>MS</td>\n",
       "      <td>M</td>\n",
       "      <td>18</td>\n",
       "      <td>R</td>\n",
       "      <td>LE3</td>\n",
       "      <td>T</td>\n",
       "      <td>3</td>\n",
       "      <td>2</td>\n",
       "      <td>services</td>\n",
       "      <td>other</td>\n",
       "      <td>...</td>\n",
       "      <td>4</td>\n",
       "      <td>4</td>\n",
       "      <td>1</td>\n",
       "      <td>3</td>\n",
       "      <td>4</td>\n",
       "      <td>5</td>\n",
       "      <td>0</td>\n",
       "      <td>11</td>\n",
       "      <td>12</td>\n",
       "      <td>10</td>\n",
       "    </tr>\n",
       "    <tr>\n",
       "      <th>394</th>\n",
       "      <td>MS</td>\n",
       "      <td>M</td>\n",
       "      <td>19</td>\n",
       "      <td>U</td>\n",
       "      <td>LE3</td>\n",
       "      <td>T</td>\n",
       "      <td>1</td>\n",
       "      <td>1</td>\n",
       "      <td>other</td>\n",
       "      <td>at_home</td>\n",
       "      <td>...</td>\n",
       "      <td>3</td>\n",
       "      <td>2</td>\n",
       "      <td>3</td>\n",
       "      <td>3</td>\n",
       "      <td>3</td>\n",
       "      <td>5</td>\n",
       "      <td>5</td>\n",
       "      <td>8</td>\n",
       "      <td>9</td>\n",
       "      <td>9</td>\n",
       "    </tr>\n",
       "  </tbody>\n",
       "</table>\n",
       "<p>395 rows × 33 columns</p>\n",
       "</div>"
      ],
      "text/plain": [
       "    school sex  age address famsize Pstatus  Medu  Fedu      Mjob      Fjob  \\\n",
       "0       GP   F   18       U     GT3       A     4     4   at_home   teacher   \n",
       "1       GP   F   17       U     GT3       T     1     1   at_home     other   \n",
       "2       GP   F   15       U     LE3       T     1     1   at_home     other   \n",
       "3       GP   F   15       U     GT3       T     4     2    health  services   \n",
       "4       GP   F   16       U     GT3       T     3     3     other     other   \n",
       "..     ...  ..  ...     ...     ...     ...   ...   ...       ...       ...   \n",
       "390     MS   M   20       U     LE3       A     2     2  services  services   \n",
       "391     MS   M   17       U     LE3       T     3     1  services  services   \n",
       "392     MS   M   21       R     GT3       T     1     1     other     other   \n",
       "393     MS   M   18       R     LE3       T     3     2  services     other   \n",
       "394     MS   M   19       U     LE3       T     1     1     other   at_home   \n",
       "\n",
       "     ... famrel freetime  goout  Dalc  Walc health absences  G1  G2  G3  \n",
       "0    ...      4        3      4     1     1      3        6   5   6   6  \n",
       "1    ...      5        3      3     1     1      3        4   5   5   6  \n",
       "2    ...      4        3      2     2     3      3       10   7   8  10  \n",
       "3    ...      3        2      2     1     1      5        2  15  14  15  \n",
       "4    ...      4        3      2     1     2      5        4   6  10  10  \n",
       "..   ...    ...      ...    ...   ...   ...    ...      ...  ..  ..  ..  \n",
       "390  ...      5        5      4     4     5      4       11   9   9   9  \n",
       "391  ...      2        4      5     3     4      2        3  14  16  16  \n",
       "392  ...      5        5      3     3     3      3        3  10   8   7  \n",
       "393  ...      4        4      1     3     4      5        0  11  12  10  \n",
       "394  ...      3        2      3     3     3      5        5   8   9   9  \n",
       "\n",
       "[395 rows x 33 columns]"
      ]
     },
     "execution_count": 4,
     "metadata": {},
     "output_type": "execute_result"
    }
   ],
   "source": [
    "data"
   ]
  },
  {
   "cell_type": "markdown",
   "metadata": {},
   "source": [
    "## Data analysis"
   ]
  },
  {
   "cell_type": "code",
   "execution_count": 5,
   "metadata": {},
   "outputs": [
    {
     "data": {
      "text/html": [
       "<div>\n",
       "<style scoped>\n",
       "    .dataframe tbody tr th:only-of-type {\n",
       "        vertical-align: middle;\n",
       "    }\n",
       "\n",
       "    .dataframe tbody tr th {\n",
       "        vertical-align: top;\n",
       "    }\n",
       "\n",
       "    .dataframe thead th {\n",
       "        text-align: right;\n",
       "    }\n",
       "</style>\n",
       "<table border=\"1\" class=\"dataframe\">\n",
       "  <thead>\n",
       "    <tr style=\"text-align: right;\">\n",
       "      <th></th>\n",
       "      <th>sex</th>\n",
       "      <th>age</th>\n",
       "      <th>traveltime</th>\n",
       "      <th>absences</th>\n",
       "      <th>freetime</th>\n",
       "      <th>studytime</th>\n",
       "      <th>schoolsup</th>\n",
       "      <th>health</th>\n",
       "      <th>failures</th>\n",
       "      <th>activities</th>\n",
       "      <th>internet</th>\n",
       "      <th>paid</th>\n",
       "      <th>Fjob</th>\n",
       "      <th>Mjob</th>\n",
       "      <th>G1</th>\n",
       "      <th>G2</th>\n",
       "      <th>G3</th>\n",
       "    </tr>\n",
       "  </thead>\n",
       "  <tbody>\n",
       "    <tr>\n",
       "      <th>0</th>\n",
       "      <td>F</td>\n",
       "      <td>18</td>\n",
       "      <td>2</td>\n",
       "      <td>6</td>\n",
       "      <td>3</td>\n",
       "      <td>2</td>\n",
       "      <td>yes</td>\n",
       "      <td>3</td>\n",
       "      <td>0</td>\n",
       "      <td>no</td>\n",
       "      <td>no</td>\n",
       "      <td>no</td>\n",
       "      <td>teacher</td>\n",
       "      <td>at_home</td>\n",
       "      <td>5</td>\n",
       "      <td>6</td>\n",
       "      <td>6</td>\n",
       "    </tr>\n",
       "    <tr>\n",
       "      <th>1</th>\n",
       "      <td>F</td>\n",
       "      <td>17</td>\n",
       "      <td>1</td>\n",
       "      <td>4</td>\n",
       "      <td>3</td>\n",
       "      <td>2</td>\n",
       "      <td>no</td>\n",
       "      <td>3</td>\n",
       "      <td>0</td>\n",
       "      <td>no</td>\n",
       "      <td>yes</td>\n",
       "      <td>no</td>\n",
       "      <td>other</td>\n",
       "      <td>at_home</td>\n",
       "      <td>5</td>\n",
       "      <td>5</td>\n",
       "      <td>6</td>\n",
       "    </tr>\n",
       "    <tr>\n",
       "      <th>2</th>\n",
       "      <td>F</td>\n",
       "      <td>15</td>\n",
       "      <td>1</td>\n",
       "      <td>10</td>\n",
       "      <td>3</td>\n",
       "      <td>2</td>\n",
       "      <td>yes</td>\n",
       "      <td>3</td>\n",
       "      <td>3</td>\n",
       "      <td>no</td>\n",
       "      <td>yes</td>\n",
       "      <td>yes</td>\n",
       "      <td>other</td>\n",
       "      <td>at_home</td>\n",
       "      <td>7</td>\n",
       "      <td>8</td>\n",
       "      <td>10</td>\n",
       "    </tr>\n",
       "    <tr>\n",
       "      <th>3</th>\n",
       "      <td>F</td>\n",
       "      <td>15</td>\n",
       "      <td>1</td>\n",
       "      <td>2</td>\n",
       "      <td>2</td>\n",
       "      <td>3</td>\n",
       "      <td>no</td>\n",
       "      <td>5</td>\n",
       "      <td>0</td>\n",
       "      <td>yes</td>\n",
       "      <td>yes</td>\n",
       "      <td>yes</td>\n",
       "      <td>services</td>\n",
       "      <td>health</td>\n",
       "      <td>15</td>\n",
       "      <td>14</td>\n",
       "      <td>15</td>\n",
       "    </tr>\n",
       "    <tr>\n",
       "      <th>4</th>\n",
       "      <td>F</td>\n",
       "      <td>16</td>\n",
       "      <td>1</td>\n",
       "      <td>4</td>\n",
       "      <td>3</td>\n",
       "      <td>2</td>\n",
       "      <td>no</td>\n",
       "      <td>5</td>\n",
       "      <td>0</td>\n",
       "      <td>no</td>\n",
       "      <td>no</td>\n",
       "      <td>yes</td>\n",
       "      <td>other</td>\n",
       "      <td>other</td>\n",
       "      <td>6</td>\n",
       "      <td>10</td>\n",
       "      <td>10</td>\n",
       "    </tr>\n",
       "  </tbody>\n",
       "</table>\n",
       "</div>"
      ],
      "text/plain": [
       "  sex  age  traveltime  absences  freetime  studytime schoolsup  health  \\\n",
       "0   F   18           2         6         3          2       yes       3   \n",
       "1   F   17           1         4         3          2        no       3   \n",
       "2   F   15           1        10         3          2       yes       3   \n",
       "3   F   15           1         2         2          3        no       5   \n",
       "4   F   16           1         4         3          2        no       5   \n",
       "\n",
       "   failures activities internet paid      Fjob     Mjob  G1  G2  G3  \n",
       "0         0         no       no   no   teacher  at_home   5   6   6  \n",
       "1         0         no      yes   no     other  at_home   5   5   6  \n",
       "2         3         no      yes  yes     other  at_home   7   8  10  \n",
       "3         0        yes      yes  yes  services   health  15  14  15  \n",
       "4         0         no       no  yes     other    other   6  10  10  "
      ]
     },
     "execution_count": 5,
     "metadata": {},
     "output_type": "execute_result"
    }
   ],
   "source": [
    "df_analysis = data[[\"sex\", \"age\", \"traveltime\",\"absences\",\"freetime\",\"studytime\", \"schoolsup\", \"health\",\"failures\",\"activities\", \"internet\", \"paid\", \"Fjob\", \"Mjob\", \"G1\", \"G2\", \"G3\"]]\n",
    "\n",
    "df_analysis.head()\n"
   ]
  },
  {
   "cell_type": "code",
   "execution_count": null,
   "metadata": {},
   "outputs": [],
   "source": []
  },
  {
   "cell_type": "code",
   "execution_count": 6,
   "metadata": {},
   "outputs": [
    {
     "data": {
      "text/plain": [
       "<matplotlib.axes._subplots.AxesSubplot at 0x7fe42649f050>"
      ]
     },
     "execution_count": 6,
     "metadata": {},
     "output_type": "execute_result"
    },
    {
     "data": {
      "image/png": "[encoded data removed]",
      "text/plain": [
       "<Figure size 432x288 with 1 Axes>"
      ]
     },
     "metadata": {},
     "output_type": "display_data"
    }
   ],
   "source": [
    "sns.distplot(df_analysis[\"age\"], kde=True)"
   ]
  },
  {
   "cell_type": "markdown",
   "metadata": {},
   "source": [
    "#### Maximum age students in the class is between 15 to 16"
   ]
  },
  {
   "cell_type": "code",
   "execution_count": 7,
   "metadata": {},
   "outputs": [
    {
     "data": {
      "text/plain": [
       "<matplotlib.axes._subplots.AxesSubplot at 0x7fe426a8a250>"
      ]
     },
     "execution_count": 7,
     "metadata": {},
     "output_type": "execute_result"
    },
    {
     "data": {
      "image/png": "[encoded data removed]",
      "text/plain": [
       "<Figure size 432x288 with 1 Axes>"
      ]
     },
     "metadata": {},
     "output_type": "display_data"
    }
   ],
   "source": [
    "sns.distplot(df_analysis[\"failures\"], kde=True, color=\"b\")"
   ]
  },
  {
   "cell_type": "markdown",
   "metadata": {},
   "source": [
    "#### Number of failures in the class is less "
   ]
  },
  {
   "cell_type": "code",
   "execution_count": null,
   "metadata": {},
   "outputs": [],
   "source": []
  },
  {
   "cell_type": "markdown",
   "metadata": {},
   "source": [
    "## Graph showing absences related to age"
   ]
  },
  {
   "cell_type": "code",
   "execution_count": 8,
   "metadata": {},
   "outputs": [
    {
     "data": {
      "text/plain": [
       "<matplotlib.axes._subplots.AxesSubplot at 0x7fe4269fb090>"
      ]
     },
     "execution_count": 8,
     "metadata": {},
     "output_type": "execute_result"
    },
    {
     "data": {
      "image/png": "[encoded data removed]",
      "text/plain": [
       "<Figure size 432x288 with 1 Axes>"
      ]
     },
     "metadata": {},
     "output_type": "display_data"
    }
   ],
   "source": [
    "# health - current health status (numeric: from 1 - very bad to 5 - very good)\n",
    "sns.barplot(x=\"age\", y=\"absences\", data=df_analysis)"
   ]
  },
  {
   "cell_type": "markdown",
   "metadata": {},
   "source": [
    "#### The above graph shows that absences is maximum in the age 22 "
   ]
  },
  {
   "cell_type": "code",
   "execution_count": null,
   "metadata": {},
   "outputs": [],
   "source": [
    "\n"
   ]
  },
  {
   "cell_type": "markdown",
   "metadata": {},
   "source": [
    "##  Graphs showing absences affecting marks "
   ]
  },
  {
   "cell_type": "code",
   "execution_count": null,
   "metadata": {},
   "outputs": [],
   "source": []
  },
  {
   "cell_type": "code",
   "execution_count": 9,
   "metadata": {},
   "outputs": [
    {
     "data": {
      "image/png": "[encoded data removed]",
      "text/plain": [
       "<Figure size 360x360 with 1 Axes>"
      ]
     },
     "metadata": {},
     "output_type": "display_data"
    }
   ],
   "source": [
    "# remove outliers\n",
    "df_analysis = df_analysis.loc[df_analysis['G1']< df_analysis['G1'].quantile(0.5)]\n",
    "# plotting grpah\n",
    "graph = sns.lmplot(x=\"absences\", y=\"G1\", data=df_analysis)"
   ]
  },
  {
   "cell_type": "code",
   "execution_count": 10,
   "metadata": {},
   "outputs": [
    {
     "data": {
      "image/png": "[encoded data removed]",
      "text/plain": [
       "<Figure size 360x360 with 1 Axes>"
      ]
     },
     "metadata": {},
     "output_type": "display_data"
    }
   ],
   "source": [
    "# remove outliers\n",
    "df_analysis = df_analysis.loc[df_analysis['G2']< df_analysis['G2'].quantile(0.5)]\n",
    "# ploting graph\n",
    "graph = sns.lmplot(x=\"absences\", y=\"G2\", data=df_analysis)"
   ]
  },
  {
   "cell_type": "code",
   "execution_count": 11,
   "metadata": {},
   "outputs": [
    {
     "data": {
      "image/png": "[encoded data removed]",
      "text/plain": [
       "<Figure size 360x360 with 1 Axes>"
      ]
     },
     "metadata": {},
     "output_type": "display_data"
    }
   ],
   "source": [
    "\n",
    "# remove outliers\n",
    "df_analysis = df_analysis.loc[df_analysis['G3']< df_analysis['G3'].quantile(0.5)]\n",
    "# plotting graph\n",
    "graph = sns.lmplot(x=\"absences\", y=\"G3\", data=df_analysis)"
   ]
  },
  {
   "cell_type": "markdown",
   "metadata": {},
   "source": [
    "#### We can clearly say that absence in class is somewhat related to lower marks obtained by students"
   ]
  },
  {
   "cell_type": "code",
   "execution_count": null,
   "metadata": {},
   "outputs": [],
   "source": []
  },
  {
   "cell_type": "code",
   "execution_count": null,
   "metadata": {},
   "outputs": [],
   "source": []
  },
  {
   "cell_type": "markdown",
   "metadata": {},
   "source": [
    "## Final Marks prediction"
   ]
  },
  {
   "cell_type": "code",
   "execution_count": 12,
   "metadata": {},
   "outputs": [],
   "source": [
    "df = data[[\"G1\", \"G2\", \"G3\", \"absences\",\"studytime\", \"freetime\", \"health\"]]"
   ]
  },
  {
   "cell_type": "code",
   "execution_count": 13,
   "metadata": {},
   "outputs": [
    {
     "data": {
      "text/html": [
       "<div>\n",
       "<style scoped>\n",
       "    .dataframe tbody tr th:only-of-type {\n",
       "        vertical-align: middle;\n",
       "    }\n",
       "\n",
       "    .dataframe tbody tr th {\n",
       "        vertical-align: top;\n",
       "    }\n",
       "\n",
       "    .dataframe thead th {\n",
       "        text-align: right;\n",
       "    }\n",
       "</style>\n",
       "<table border=\"1\" class=\"dataframe\">\n",
       "  <thead>\n",
       "    <tr style=\"text-align: right;\">\n",
       "      <th></th>\n",
       "      <th>G1</th>\n",
       "      <th>G2</th>\n",
       "      <th>G3</th>\n",
       "      <th>absences</th>\n",
       "      <th>studytime</th>\n",
       "      <th>freetime</th>\n",
       "      <th>health</th>\n",
       "    </tr>\n",
       "  </thead>\n",
       "  <tbody>\n",
       "    <tr>\n",
       "      <th>0</th>\n",
       "      <td>5</td>\n",
       "      <td>6</td>\n",
       "      <td>6</td>\n",
       "      <td>6</td>\n",
       "      <td>2</td>\n",
       "      <td>3</td>\n",
       "      <td>3</td>\n",
       "    </tr>\n",
       "    <tr>\n",
       "      <th>1</th>\n",
       "      <td>5</td>\n",
       "      <td>5</td>\n",
       "      <td>6</td>\n",
       "      <td>4</td>\n",
       "      <td>2</td>\n",
       "      <td>3</td>\n",
       "      <td>3</td>\n",
       "    </tr>\n",
       "    <tr>\n",
       "      <th>2</th>\n",
       "      <td>7</td>\n",
       "      <td>8</td>\n",
       "      <td>10</td>\n",
       "      <td>10</td>\n",
       "      <td>2</td>\n",
       "      <td>3</td>\n",
       "      <td>3</td>\n",
       "    </tr>\n",
       "    <tr>\n",
       "      <th>3</th>\n",
       "      <td>15</td>\n",
       "      <td>14</td>\n",
       "      <td>15</td>\n",
       "      <td>2</td>\n",
       "      <td>3</td>\n",
       "      <td>2</td>\n",
       "      <td>5</td>\n",
       "    </tr>\n",
       "    <tr>\n",
       "      <th>4</th>\n",
       "      <td>6</td>\n",
       "      <td>10</td>\n",
       "      <td>10</td>\n",
       "      <td>4</td>\n",
       "      <td>2</td>\n",
       "      <td>3</td>\n",
       "      <td>5</td>\n",
       "    </tr>\n",
       "  </tbody>\n",
       "</table>\n",
       "</div>"
      ],
      "text/plain": [
       "   G1  G2  G3  absences  studytime  freetime  health\n",
       "0   5   6   6         6          2         3       3\n",
       "1   5   5   6         4          2         3       3\n",
       "2   7   8  10        10          2         3       3\n",
       "3  15  14  15         2          3         2       5\n",
       "4   6  10  10         4          2         3       5"
      ]
     },
     "execution_count": 13,
     "metadata": {},
     "output_type": "execute_result"
    }
   ],
   "source": [
    "df.head()"
   ]
  },
  {
   "cell_type": "code",
   "execution_count": 14,
   "metadata": {},
   "outputs": [
    {
     "name": "stdout",
     "output_type": "stream",
     "text": [
      "<class 'pandas.core.frame.DataFrame'>\n",
      "RangeIndex: 395 entries, 0 to 394\n",
      "Data columns (total 7 columns):\n",
      " #   Column     Non-Null Count  Dtype\n",
      "---  ------     --------------  -----\n",
      " 0   G1         395 non-null    int64\n",
      " 1   G2         395 non-null    int64\n",
      " 2   G3         395 non-null    int64\n",
      " 3   absences   395 non-null    int64\n",
      " 4   studytime  395 non-null    int64\n",
      " 5   freetime   395 non-null    int64\n",
      " 6   health     395 non-null    int64\n",
      "dtypes: int64(7)\n",
      "memory usage: 21.7 KB\n"
     ]
    }
   ],
   "source": [
    "df.info()"
   ]
  },
  {
   "cell_type": "markdown",
   "metadata": {},
   "source": [
    "### predict G3 marks "
   ]
  },
  {
   "cell_type": "code",
   "execution_count": 15,
   "metadata": {},
   "outputs": [],
   "source": [
    "predict = \"G3\""
   ]
  },
  {
   "cell_type": "code",
   "execution_count": 16,
   "metadata": {},
   "outputs": [
    {
     "name": "stdout",
     "output_type": "stream",
     "text": [
      "[[ 5  6  6  2  3  3]\n",
      " [ 5  5  4  2  3  3]\n",
      " [ 7  8 10  2  3  3]\n",
      " ...\n",
      " [10  8  3  1  5  3]\n",
      " [11 12  0  1  4  5]\n",
      " [ 8  9  5  1  2  5]]\n"
     ]
    }
   ],
   "source": [
    "# y = mx + c\n",
    "\n",
    "# x will have g1 and g2 value only \n",
    "X = np.array(df.drop([predict], 1)) \n",
    "print(X)"
   ]
  },
  {
   "cell_type": "code",
   "execution_count": 17,
   "metadata": {},
   "outputs": [
    {
     "name": "stdout",
     "output_type": "stream",
     "text": [
      "[[ 6]\n",
      " [ 6]\n",
      " [10]\n",
      " [15]\n",
      " [10]\n",
      " [15]\n",
      " [11]\n",
      " [ 6]\n",
      " [19]\n",
      " [15]\n",
      " [ 9]\n",
      " [12]\n",
      " [14]\n",
      " [11]\n",
      " [16]\n",
      " [14]\n",
      " [14]\n",
      " [10]\n",
      " [ 5]\n",
      " [10]\n",
      " [15]\n",
      " [15]\n",
      " [16]\n",
      " [12]\n",
      " [ 8]\n",
      " [ 8]\n",
      " [11]\n",
      " [15]\n",
      " [11]\n",
      " [11]\n",
      " [12]\n",
      " [17]\n",
      " [16]\n",
      " [12]\n",
      " [15]\n",
      " [ 6]\n",
      " [18]\n",
      " [15]\n",
      " [11]\n",
      " [13]\n",
      " [11]\n",
      " [12]\n",
      " [18]\n",
      " [11]\n",
      " [ 9]\n",
      " [ 6]\n",
      " [11]\n",
      " [20]\n",
      " [14]\n",
      " [ 7]\n",
      " [13]\n",
      " [13]\n",
      " [10]\n",
      " [11]\n",
      " [13]\n",
      " [10]\n",
      " [15]\n",
      " [15]\n",
      " [ 9]\n",
      " [16]\n",
      " [11]\n",
      " [11]\n",
      " [ 9]\n",
      " [ 9]\n",
      " [10]\n",
      " [15]\n",
      " [12]\n",
      " [ 6]\n",
      " [ 8]\n",
      " [16]\n",
      " [15]\n",
      " [10]\n",
      " [ 5]\n",
      " [14]\n",
      " [11]\n",
      " [10]\n",
      " [10]\n",
      " [11]\n",
      " [10]\n",
      " [ 5]\n",
      " [12]\n",
      " [11]\n",
      " [ 6]\n",
      " [15]\n",
      " [10]\n",
      " [ 8]\n",
      " [ 6]\n",
      " [14]\n",
      " [10]\n",
      " [ 7]\n",
      " [ 8]\n",
      " [18]\n",
      " [ 6]\n",
      " [10]\n",
      " [14]\n",
      " [10]\n",
      " [15]\n",
      " [10]\n",
      " [14]\n",
      " [ 8]\n",
      " [ 5]\n",
      " [17]\n",
      " [14]\n",
      " [ 6]\n",
      " [18]\n",
      " [11]\n",
      " [ 8]\n",
      " [18]\n",
      " [13]\n",
      " [16]\n",
      " [19]\n",
      " [10]\n",
      " [13]\n",
      " [19]\n",
      " [ 9]\n",
      " [16]\n",
      " [14]\n",
      " [13]\n",
      " [ 8]\n",
      " [13]\n",
      " [15]\n",
      " [15]\n",
      " [13]\n",
      " [13]\n",
      " [ 8]\n",
      " [12]\n",
      " [11]\n",
      " [ 9]\n",
      " [ 0]\n",
      " [18]\n",
      " [ 0]\n",
      " [ 0]\n",
      " [12]\n",
      " [11]\n",
      " [ 0]\n",
      " [ 0]\n",
      " [ 0]\n",
      " [ 0]\n",
      " [12]\n",
      " [15]\n",
      " [ 0]\n",
      " [ 9]\n",
      " [11]\n",
      " [13]\n",
      " [ 0]\n",
      " [11]\n",
      " [ 0]\n",
      " [11]\n",
      " [ 0]\n",
      " [10]\n",
      " [ 0]\n",
      " [14]\n",
      " [10]\n",
      " [ 0]\n",
      " [12]\n",
      " [ 8]\n",
      " [13]\n",
      " [10]\n",
      " [15]\n",
      " [12]\n",
      " [ 0]\n",
      " [ 7]\n",
      " [ 0]\n",
      " [10]\n",
      " [ 7]\n",
      " [12]\n",
      " [10]\n",
      " [16]\n",
      " [ 0]\n",
      " [14]\n",
      " [ 0]\n",
      " [16]\n",
      " [10]\n",
      " [ 0]\n",
      " [ 9]\n",
      " [ 9]\n",
      " [11]\n",
      " [ 6]\n",
      " [ 9]\n",
      " [11]\n",
      " [ 8]\n",
      " [12]\n",
      " [17]\n",
      " [ 8]\n",
      " [12]\n",
      " [11]\n",
      " [11]\n",
      " [15]\n",
      " [ 9]\n",
      " [10]\n",
      " [13]\n",
      " [ 9]\n",
      " [ 8]\n",
      " [10]\n",
      " [14]\n",
      " [15]\n",
      " [16]\n",
      " [10]\n",
      " [18]\n",
      " [10]\n",
      " [16]\n",
      " [10]\n",
      " [10]\n",
      " [ 6]\n",
      " [11]\n",
      " [ 9]\n",
      " [ 7]\n",
      " [13]\n",
      " [10]\n",
      " [ 7]\n",
      " [ 8]\n",
      " [13]\n",
      " [14]\n",
      " [ 8]\n",
      " [10]\n",
      " [15]\n",
      " [ 4]\n",
      " [ 8]\n",
      " [ 8]\n",
      " [10]\n",
      " [ 6]\n",
      " [ 0]\n",
      " [17]\n",
      " [13]\n",
      " [14]\n",
      " [ 7]\n",
      " [15]\n",
      " [12]\n",
      " [ 9]\n",
      " [12]\n",
      " [14]\n",
      " [11]\n",
      " [ 9]\n",
      " [13]\n",
      " [ 6]\n",
      " [10]\n",
      " [13]\n",
      " [12]\n",
      " [11]\n",
      " [ 0]\n",
      " [12]\n",
      " [12]\n",
      " [ 0]\n",
      " [12]\n",
      " [ 0]\n",
      " [18]\n",
      " [13]\n",
      " [ 8]\n",
      " [ 5]\n",
      " [15]\n",
      " [ 8]\n",
      " [10]\n",
      " [ 8]\n",
      " [ 8]\n",
      " [12]\n",
      " [ 8]\n",
      " [13]\n",
      " [11]\n",
      " [14]\n",
      " [ 0]\n",
      " [18]\n",
      " [ 8]\n",
      " [12]\n",
      " [ 9]\n",
      " [ 0]\n",
      " [17]\n",
      " [10]\n",
      " [11]\n",
      " [10]\n",
      " [ 0]\n",
      " [ 9]\n",
      " [14]\n",
      " [11]\n",
      " [14]\n",
      " [10]\n",
      " [12]\n",
      " [ 9]\n",
      " [ 9]\n",
      " [ 8]\n",
      " [10]\n",
      " [ 8]\n",
      " [10]\n",
      " [12]\n",
      " [10]\n",
      " [11]\n",
      " [11]\n",
      " [19]\n",
      " [12]\n",
      " [14]\n",
      " [15]\n",
      " [11]\n",
      " [15]\n",
      " [13]\n",
      " [18]\n",
      " [14]\n",
      " [11]\n",
      " [ 0]\n",
      " [ 8]\n",
      " [14]\n",
      " [16]\n",
      " [11]\n",
      " [10]\n",
      " [14]\n",
      " [18]\n",
      " [13]\n",
      " [12]\n",
      " [18]\n",
      " [ 8]\n",
      " [12]\n",
      " [10]\n",
      " [ 0]\n",
      " [13]\n",
      " [11]\n",
      " [11]\n",
      " [13]\n",
      " [11]\n",
      " [ 0]\n",
      " [ 9]\n",
      " [10]\n",
      " [11]\n",
      " [13]\n",
      " [ 9]\n",
      " [11]\n",
      " [15]\n",
      " [15]\n",
      " [11]\n",
      " [16]\n",
      " [10]\n",
      " [ 9]\n",
      " [14]\n",
      " [ 8]\n",
      " [14]\n",
      " [ 0]\n",
      " [ 0]\n",
      " [ 0]\n",
      " [15]\n",
      " [13]\n",
      " [ 0]\n",
      " [17]\n",
      " [10]\n",
      " [11]\n",
      " [ 0]\n",
      " [15]\n",
      " [ 0]\n",
      " [10]\n",
      " [14]\n",
      " [16]\n",
      " [ 9]\n",
      " [15]\n",
      " [13]\n",
      " [ 8]\n",
      " [13]\n",
      " [ 8]\n",
      " [ 8]\n",
      " [11]\n",
      " [ 9]\n",
      " [13]\n",
      " [11]\n",
      " [10]\n",
      " [16]\n",
      " [13]\n",
      " [12]\n",
      " [10]\n",
      " [15]\n",
      " [12]\n",
      " [10]\n",
      " [13]\n",
      " [ 0]\n",
      " [10]\n",
      " [11]\n",
      " [ 9]\n",
      " [12]\n",
      " [11]\n",
      " [ 5]\n",
      " [19]\n",
      " [10]\n",
      " [15]\n",
      " [10]\n",
      " [15]\n",
      " [10]\n",
      " [14]\n",
      " [ 7]\n",
      " [10]\n",
      " [ 0]\n",
      " [ 5]\n",
      " [10]\n",
      " [ 6]\n",
      " [ 0]\n",
      " [ 8]\n",
      " [ 0]\n",
      " [ 9]\n",
      " [16]\n",
      " [ 7]\n",
      " [10]\n",
      " [ 9]]\n"
     ]
    }
   ],
   "source": [
    "# y will have g3 value which we will predict\n",
    "y = np.array(df[[predict]])\n",
    "print(y)"
   ]
  },
  {
   "cell_type": "code",
   "execution_count": null,
   "metadata": {},
   "outputs": [],
   "source": []
  },
  {
   "cell_type": "code",
   "execution_count": 18,
   "metadata": {},
   "outputs": [],
   "source": [
    "# spliting the data into test and train in the ratio of 90:10\n",
    "# spliting into four arrays\n",
    "\n"
   ]
  },
  {
   "cell_type": "markdown",
   "metadata": {},
   "source": [
    "#### spliting data syntax here should be moved after tranning module"
   ]
  },
  {
   "cell_type": "code",
   "execution_count": 19,
   "metadata": {},
   "outputs": [],
   "source": [
    "\n",
    "# x_train, x_test, y_train, y_test = sklearn.model_selection.train_test_split(X, y, test_size = 0.1, random_state=0)\n"
   ]
  },
  {
   "cell_type": "markdown",
   "metadata": {},
   "source": [
    "#### Only best tranied model will get saved "
   ]
  },
  {
   "cell_type": "code",
   "execution_count": 20,
   "metadata": {},
   "outputs": [
    {
     "data": {
      "text/plain": [
       "LinearRegression()"
      ]
     },
     "execution_count": 20,
     "metadata": {},
     "output_type": "execute_result"
    },
    {
     "name": "stdout",
     "output_type": "stream",
     "text": [
      "accuracy: 0.7287339588419497\n"
     ]
    },
    {
     "data": {
      "text/plain": [
       "LinearRegression()"
      ]
     },
     "execution_count": 20,
     "metadata": {},
     "output_type": "execute_result"
    },
    {
     "name": "stdout",
     "output_type": "stream",
     "text": [
      "accuracy: 0.9075453135083564\n"
     ]
    },
    {
     "data": {
      "text/plain": [
       "LinearRegression()"
      ]
     },
     "execution_count": 20,
     "metadata": {},
     "output_type": "execute_result"
    },
    {
     "name": "stdout",
     "output_type": "stream",
     "text": [
      "accuracy: 0.866221969130624\n"
     ]
    },
    {
     "data": {
      "text/plain": [
       "LinearRegression()"
      ]
     },
     "execution_count": 20,
     "metadata": {},
     "output_type": "execute_result"
    },
    {
     "name": "stdout",
     "output_type": "stream",
     "text": [
      "accuracy: 0.8541975843811148\n"
     ]
    },
    {
     "data": {
      "text/plain": [
       "LinearRegression()"
      ]
     },
     "execution_count": 20,
     "metadata": {},
     "output_type": "execute_result"
    },
    {
     "name": "stdout",
     "output_type": "stream",
     "text": [
      "accuracy: 0.863919680205584\n"
     ]
    },
    {
     "data": {
      "text/plain": [
       "LinearRegression()"
      ]
     },
     "execution_count": 20,
     "metadata": {},
     "output_type": "execute_result"
    },
    {
     "name": "stdout",
     "output_type": "stream",
     "text": [
      "accuracy: 0.8289978679131469\n"
     ]
    },
    {
     "data": {
      "text/plain": [
       "LinearRegression()"
      ]
     },
     "execution_count": 20,
     "metadata": {},
     "output_type": "execute_result"
    },
    {
     "name": "stdout",
     "output_type": "stream",
     "text": [
      "accuracy: 0.8416675907289775\n"
     ]
    },
    {
     "data": {
      "text/plain": [
       "LinearRegression()"
      ]
     },
     "execution_count": 20,
     "metadata": {},
     "output_type": "execute_result"
    },
    {
     "name": "stdout",
     "output_type": "stream",
     "text": [
      "accuracy: 0.8103271089288911\n"
     ]
    },
    {
     "data": {
      "text/plain": [
       "LinearRegression()"
      ]
     },
     "execution_count": 20,
     "metadata": {},
     "output_type": "execute_result"
    },
    {
     "name": "stdout",
     "output_type": "stream",
     "text": [
      "accuracy: 0.7710682648347664\n"
     ]
    },
    {
     "data": {
      "text/plain": [
       "LinearRegression()"
      ]
     },
     "execution_count": 20,
     "metadata": {},
     "output_type": "execute_result"
    },
    {
     "name": "stdout",
     "output_type": "stream",
     "text": [
      "accuracy: 0.6948706227375314\n"
     ]
    },
    {
     "data": {
      "text/plain": [
       "LinearRegression()"
      ]
     },
     "execution_count": 20,
     "metadata": {},
     "output_type": "execute_result"
    },
    {
     "name": "stdout",
     "output_type": "stream",
     "text": [
      "accuracy: 0.6990161801941306\n"
     ]
    },
    {
     "data": {
      "text/plain": [
       "LinearRegression()"
      ]
     },
     "execution_count": 20,
     "metadata": {},
     "output_type": "execute_result"
    },
    {
     "name": "stdout",
     "output_type": "stream",
     "text": [
      "accuracy: 0.9068197630103219\n"
     ]
    },
    {
     "data": {
      "text/plain": [
       "LinearRegression()"
      ]
     },
     "execution_count": 20,
     "metadata": {},
     "output_type": "execute_result"
    },
    {
     "name": "stdout",
     "output_type": "stream",
     "text": [
      "accuracy: 0.8373025678847341\n"
     ]
    },
    {
     "data": {
      "text/plain": [
       "LinearRegression()"
      ]
     },
     "execution_count": 20,
     "metadata": {},
     "output_type": "execute_result"
    },
    {
     "name": "stdout",
     "output_type": "stream",
     "text": [
      "accuracy: 0.837105482459177\n"
     ]
    },
    {
     "data": {
      "text/plain": [
       "LinearRegression()"
      ]
     },
     "execution_count": 20,
     "metadata": {},
     "output_type": "execute_result"
    },
    {
     "name": "stdout",
     "output_type": "stream",
     "text": [
      "accuracy: 0.7436343065024507\n"
     ]
    },
    {
     "data": {
      "text/plain": [
       "LinearRegression()"
      ]
     },
     "execution_count": 20,
     "metadata": {},
     "output_type": "execute_result"
    },
    {
     "name": "stdout",
     "output_type": "stream",
     "text": [
      "accuracy: 0.7723472469482392\n"
     ]
    },
    {
     "data": {
      "text/plain": [
       "LinearRegression()"
      ]
     },
     "execution_count": 20,
     "metadata": {},
     "output_type": "execute_result"
    },
    {
     "name": "stdout",
     "output_type": "stream",
     "text": [
      "accuracy: 0.845289248907327\n"
     ]
    },
    {
     "data": {
      "text/plain": [
       "LinearRegression()"
      ]
     },
     "execution_count": 20,
     "metadata": {},
     "output_type": "execute_result"
    },
    {
     "name": "stdout",
     "output_type": "stream",
     "text": [
      "accuracy: 0.6927984365955755\n"
     ]
    },
    {
     "data": {
      "text/plain": [
       "LinearRegression()"
      ]
     },
     "execution_count": 20,
     "metadata": {},
     "output_type": "execute_result"
    },
    {
     "name": "stdout",
     "output_type": "stream",
     "text": [
      "accuracy: 0.8525837591506528\n"
     ]
    },
    {
     "data": {
      "text/plain": [
       "LinearRegression()"
      ]
     },
     "execution_count": 20,
     "metadata": {},
     "output_type": "execute_result"
    },
    {
     "name": "stdout",
     "output_type": "stream",
     "text": [
      "accuracy: 0.6782499548587138\n"
     ]
    },
    {
     "data": {
      "text/plain": [
       "LinearRegression()"
      ]
     },
     "execution_count": 20,
     "metadata": {},
     "output_type": "execute_result"
    },
    {
     "name": "stdout",
     "output_type": "stream",
     "text": [
      "accuracy: 0.7956066136083743\n"
     ]
    },
    {
     "data": {
      "text/plain": [
       "LinearRegression()"
      ]
     },
     "execution_count": 20,
     "metadata": {},
     "output_type": "execute_result"
    },
    {
     "name": "stdout",
     "output_type": "stream",
     "text": [
      "accuracy: 0.7918739626218915\n"
     ]
    },
    {
     "data": {
      "text/plain": [
       "LinearRegression()"
      ]
     },
     "execution_count": 20,
     "metadata": {},
     "output_type": "execute_result"
    },
    {
     "name": "stdout",
     "output_type": "stream",
     "text": [
      "accuracy: 0.8433915725075389\n"
     ]
    },
    {
     "data": {
      "text/plain": [
       "LinearRegression()"
      ]
     },
     "execution_count": 20,
     "metadata": {},
     "output_type": "execute_result"
    },
    {
     "name": "stdout",
     "output_type": "stream",
     "text": [
      "accuracy: 0.8277968251354008\n"
     ]
    },
    {
     "data": {
      "text/plain": [
       "LinearRegression()"
      ]
     },
     "execution_count": 20,
     "metadata": {},
     "output_type": "execute_result"
    },
    {
     "name": "stdout",
     "output_type": "stream",
     "text": [
      "accuracy: 0.8665035747654353\n"
     ]
    },
    {
     "data": {
      "text/plain": [
       "LinearRegression()"
      ]
     },
     "execution_count": 20,
     "metadata": {},
     "output_type": "execute_result"
    },
    {
     "name": "stdout",
     "output_type": "stream",
     "text": [
      "accuracy: 0.8788503947961159\n"
     ]
    },
    {
     "data": {
      "text/plain": [
       "LinearRegression()"
      ]
     },
     "execution_count": 20,
     "metadata": {},
     "output_type": "execute_result"
    },
    {
     "name": "stdout",
     "output_type": "stream",
     "text": [
      "accuracy: 0.8287733254643344\n"
     ]
    },
    {
     "data": {
      "text/plain": [
       "LinearRegression()"
      ]
     },
     "execution_count": 20,
     "metadata": {},
     "output_type": "execute_result"
    },
    {
     "name": "stdout",
     "output_type": "stream",
     "text": [
      "accuracy: 0.7510209292262507\n"
     ]
    },
    {
     "data": {
      "text/plain": [
       "LinearRegression()"
      ]
     },
     "execution_count": 20,
     "metadata": {},
     "output_type": "execute_result"
    },
    {
     "name": "stdout",
     "output_type": "stream",
     "text": [
      "accuracy: 0.8484012152423085\n"
     ]
    },
    {
     "data": {
      "text/plain": [
       "LinearRegression()"
      ]
     },
     "execution_count": 20,
     "metadata": {},
     "output_type": "execute_result"
    },
    {
     "name": "stdout",
     "output_type": "stream",
     "text": [
      "accuracy: 0.8604025830725639\n"
     ]
    },
    {
     "data": {
      "text/plain": [
       "LinearRegression()"
      ]
     },
     "execution_count": 20,
     "metadata": {},
     "output_type": "execute_result"
    },
    {
     "name": "stdout",
     "output_type": "stream",
     "text": [
      "accuracy: 0.8318548874867008\n"
     ]
    },
    {
     "data": {
      "text/plain": [
       "LinearRegression()"
      ]
     },
     "execution_count": 20,
     "metadata": {},
     "output_type": "execute_result"
    },
    {
     "name": "stdout",
     "output_type": "stream",
     "text": [
      "accuracy: 0.8588407175718734\n"
     ]
    },
    {
     "data": {
      "text/plain": [
       "LinearRegression()"
      ]
     },
     "execution_count": 20,
     "metadata": {},
     "output_type": "execute_result"
    },
    {
     "name": "stdout",
     "output_type": "stream",
     "text": [
      "accuracy: 0.7261255121247198\n"
     ]
    },
    {
     "data": {
      "text/plain": [
       "LinearRegression()"
      ]
     },
     "execution_count": 20,
     "metadata": {},
     "output_type": "execute_result"
    },
    {
     "name": "stdout",
     "output_type": "stream",
     "text": [
      "accuracy: 0.740784028265834\n"
     ]
    },
    {
     "data": {
      "text/plain": [
       "LinearRegression()"
      ]
     },
     "execution_count": 20,
     "metadata": {},
     "output_type": "execute_result"
    },
    {
     "name": "stdout",
     "output_type": "stream",
     "text": [
      "accuracy: 0.8051697887637981\n"
     ]
    },
    {
     "data": {
      "text/plain": [
       "LinearRegression()"
      ]
     },
     "execution_count": 20,
     "metadata": {},
     "output_type": "execute_result"
    },
    {
     "name": "stdout",
     "output_type": "stream",
     "text": [
      "accuracy: 0.7140159911674415\n"
     ]
    },
    {
     "data": {
      "text/plain": [
       "LinearRegression()"
      ]
     },
     "execution_count": 20,
     "metadata": {},
     "output_type": "execute_result"
    },
    {
     "name": "stdout",
     "output_type": "stream",
     "text": [
      "accuracy: 0.8153358985380184\n"
     ]
    },
    {
     "data": {
      "text/plain": [
       "LinearRegression()"
      ]
     },
     "execution_count": 20,
     "metadata": {},
     "output_type": "execute_result"
    },
    {
     "name": "stdout",
     "output_type": "stream",
     "text": [
      "accuracy: 0.7046110475035707\n"
     ]
    },
    {
     "data": {
      "text/plain": [
       "LinearRegression()"
      ]
     },
     "execution_count": 20,
     "metadata": {},
     "output_type": "execute_result"
    },
    {
     "name": "stdout",
     "output_type": "stream",
     "text": [
      "accuracy: 0.7079551762432763\n"
     ]
    },
    {
     "data": {
      "text/plain": [
       "LinearRegression()"
      ]
     },
     "execution_count": 20,
     "metadata": {},
     "output_type": "execute_result"
    },
    {
     "name": "stdout",
     "output_type": "stream",
     "text": [
      "accuracy: 0.6963737214108625\n"
     ]
    },
    {
     "data": {
      "text/plain": [
       "LinearRegression()"
      ]
     },
     "execution_count": 20,
     "metadata": {},
     "output_type": "execute_result"
    },
    {
     "name": "stdout",
     "output_type": "stream",
     "text": [
      "accuracy: 0.7712226175233026\n"
     ]
    },
    {
     "data": {
      "text/plain": [
       "LinearRegression()"
      ]
     },
     "execution_count": 20,
     "metadata": {},
     "output_type": "execute_result"
    },
    {
     "name": "stdout",
     "output_type": "stream",
     "text": [
      "accuracy: 0.8545468238878241\n"
     ]
    },
    {
     "data": {
      "text/plain": [
       "LinearRegression()"
      ]
     },
     "execution_count": 20,
     "metadata": {},
     "output_type": "execute_result"
    },
    {
     "name": "stdout",
     "output_type": "stream",
     "text": [
      "accuracy: 0.7944459826610605\n"
     ]
    },
    {
     "data": {
      "text/plain": [
       "LinearRegression()"
      ]
     },
     "execution_count": 20,
     "metadata": {},
     "output_type": "execute_result"
    },
    {
     "name": "stdout",
     "output_type": "stream",
     "text": [
      "accuracy: 0.7901965204783135\n"
     ]
    },
    {
     "data": {
      "text/plain": [
       "LinearRegression()"
      ]
     },
     "execution_count": 20,
     "metadata": {},
     "output_type": "execute_result"
    },
    {
     "name": "stdout",
     "output_type": "stream",
     "text": [
      "accuracy: 0.6350124186606789\n"
     ]
    },
    {
     "data": {
      "text/plain": [
       "LinearRegression()"
      ]
     },
     "execution_count": 20,
     "metadata": {},
     "output_type": "execute_result"
    },
    {
     "name": "stdout",
     "output_type": "stream",
     "text": [
      "accuracy: 0.8151292804219812\n"
     ]
    },
    {
     "data": {
      "text/plain": [
       "LinearRegression()"
      ]
     },
     "execution_count": 20,
     "metadata": {},
     "output_type": "execute_result"
    },
    {
     "name": "stdout",
     "output_type": "stream",
     "text": [
      "accuracy: 0.900693831323057\n"
     ]
    },
    {
     "data": {
      "text/plain": [
       "LinearRegression()"
      ]
     },
     "execution_count": 20,
     "metadata": {},
     "output_type": "execute_result"
    },
    {
     "name": "stdout",
     "output_type": "stream",
     "text": [
      "accuracy: 0.7917951192643358\n"
     ]
    },
    {
     "data": {
      "text/plain": [
       "LinearRegression()"
      ]
     },
     "execution_count": 20,
     "metadata": {},
     "output_type": "execute_result"
    },
    {
     "name": "stdout",
     "output_type": "stream",
     "text": [
      "accuracy: 0.7473907853759905\n"
     ]
    },
    {
     "data": {
      "text/plain": [
       "LinearRegression()"
      ]
     },
     "execution_count": 20,
     "metadata": {},
     "output_type": "execute_result"
    },
    {
     "name": "stdout",
     "output_type": "stream",
     "text": [
      "accuracy: 0.8514433993991469\n"
     ]
    },
    {
     "data": {
      "text/plain": [
       "LinearRegression()"
      ]
     },
     "execution_count": 20,
     "metadata": {},
     "output_type": "execute_result"
    },
    {
     "name": "stdout",
     "output_type": "stream",
     "text": [
      "accuracy: 0.8665095430764016\n"
     ]
    },
    {
     "data": {
      "text/plain": [
       "LinearRegression()"
      ]
     },
     "execution_count": 20,
     "metadata": {},
     "output_type": "execute_result"
    },
    {
     "name": "stdout",
     "output_type": "stream",
     "text": [
      "accuracy: 0.8834600905216017\n"
     ]
    },
    {
     "data": {
      "text/plain": [
       "LinearRegression()"
      ]
     },
     "execution_count": 20,
     "metadata": {},
     "output_type": "execute_result"
    },
    {
     "name": "stdout",
     "output_type": "stream",
     "text": [
      "accuracy: 0.75258344865621\n"
     ]
    },
    {
     "data": {
      "text/plain": [
       "LinearRegression()"
      ]
     },
     "execution_count": 20,
     "metadata": {},
     "output_type": "execute_result"
    },
    {
     "name": "stdout",
     "output_type": "stream",
     "text": [
      "accuracy: 0.7046650350243236\n"
     ]
    },
    {
     "data": {
      "text/plain": [
       "LinearRegression()"
      ]
     },
     "execution_count": 20,
     "metadata": {},
     "output_type": "execute_result"
    },
    {
     "name": "stdout",
     "output_type": "stream",
     "text": [
      "accuracy: 0.7852161181970303\n"
     ]
    },
    {
     "data": {
      "text/plain": [
       "LinearRegression()"
      ]
     },
     "execution_count": 20,
     "metadata": {},
     "output_type": "execute_result"
    },
    {
     "name": "stdout",
     "output_type": "stream",
     "text": [
      "accuracy: 0.835090235746798\n"
     ]
    },
    {
     "data": {
      "text/plain": [
       "LinearRegression()"
      ]
     },
     "execution_count": 20,
     "metadata": {},
     "output_type": "execute_result"
    },
    {
     "name": "stdout",
     "output_type": "stream",
     "text": [
      "accuracy: 0.8826318672149887\n"
     ]
    },
    {
     "data": {
      "text/plain": [
       "LinearRegression()"
      ]
     },
     "execution_count": 20,
     "metadata": {},
     "output_type": "execute_result"
    },
    {
     "name": "stdout",
     "output_type": "stream",
     "text": [
      "accuracy: 0.8633661182706764\n"
     ]
    },
    {
     "data": {
      "text/plain": [
       "LinearRegression()"
      ]
     },
     "execution_count": 20,
     "metadata": {},
     "output_type": "execute_result"
    },
    {
     "name": "stdout",
     "output_type": "stream",
     "text": [
      "accuracy: 0.7720277800886818\n"
     ]
    },
    {
     "data": {
      "text/plain": [
       "LinearRegression()"
      ]
     },
     "execution_count": 20,
     "metadata": {},
     "output_type": "execute_result"
    },
    {
     "name": "stdout",
     "output_type": "stream",
     "text": [
      "accuracy: 0.81441440559698\n"
     ]
    },
    {
     "data": {
      "text/plain": [
       "LinearRegression()"
      ]
     },
     "execution_count": 20,
     "metadata": {},
     "output_type": "execute_result"
    },
    {
     "name": "stdout",
     "output_type": "stream",
     "text": [
      "accuracy: 0.7817657346387258\n"
     ]
    },
    {
     "data": {
      "text/plain": [
       "LinearRegression()"
      ]
     },
     "execution_count": 20,
     "metadata": {},
     "output_type": "execute_result"
    },
    {
     "name": "stdout",
     "output_type": "stream",
     "text": [
      "accuracy: 0.6983962800997672\n"
     ]
    },
    {
     "data": {
      "text/plain": [
       "LinearRegression()"
      ]
     },
     "execution_count": 20,
     "metadata": {},
     "output_type": "execute_result"
    },
    {
     "name": "stdout",
     "output_type": "stream",
     "text": [
      "accuracy: 0.8336637213600212\n"
     ]
    },
    {
     "data": {
      "text/plain": [
       "LinearRegression()"
      ]
     },
     "execution_count": 20,
     "metadata": {},
     "output_type": "execute_result"
    },
    {
     "name": "stdout",
     "output_type": "stream",
     "text": [
      "accuracy: 0.8072749408128991\n"
     ]
    },
    {
     "data": {
      "text/plain": [
       "LinearRegression()"
      ]
     },
     "execution_count": 20,
     "metadata": {},
     "output_type": "execute_result"
    },
    {
     "name": "stdout",
     "output_type": "stream",
     "text": [
      "accuracy: 0.8667820454386547\n"
     ]
    },
    {
     "data": {
      "text/plain": [
       "LinearRegression()"
      ]
     },
     "execution_count": 20,
     "metadata": {},
     "output_type": "execute_result"
    },
    {
     "name": "stdout",
     "output_type": "stream",
     "text": [
      "accuracy: 0.8001658858534724\n"
     ]
    },
    {
     "data": {
      "text/plain": [
       "LinearRegression()"
      ]
     },
     "execution_count": 20,
     "metadata": {},
     "output_type": "execute_result"
    },
    {
     "name": "stdout",
     "output_type": "stream",
     "text": [
      "accuracy: 0.7617649182276046\n"
     ]
    },
    {
     "data": {
      "text/plain": [
       "LinearRegression()"
      ]
     },
     "execution_count": 20,
     "metadata": {},
     "output_type": "execute_result"
    },
    {
     "name": "stdout",
     "output_type": "stream",
     "text": [
      "accuracy: 0.8995063922996225\n"
     ]
    },
    {
     "data": {
      "text/plain": [
       "LinearRegression()"
      ]
     },
     "execution_count": 20,
     "metadata": {},
     "output_type": "execute_result"
    },
    {
     "name": "stdout",
     "output_type": "stream",
     "text": [
      "accuracy: 0.8399806632102844\n"
     ]
    },
    {
     "data": {
      "text/plain": [
       "LinearRegression()"
      ]
     },
     "execution_count": 20,
     "metadata": {},
     "output_type": "execute_result"
    },
    {
     "name": "stdout",
     "output_type": "stream",
     "text": [
      "accuracy: 0.7765108653510285\n"
     ]
    },
    {
     "data": {
      "text/plain": [
       "LinearRegression()"
      ]
     },
     "execution_count": 20,
     "metadata": {},
     "output_type": "execute_result"
    },
    {
     "name": "stdout",
     "output_type": "stream",
     "text": [
      "accuracy: 0.7121495579475084\n"
     ]
    },
    {
     "data": {
      "text/plain": [
       "LinearRegression()"
      ]
     },
     "execution_count": 20,
     "metadata": {},
     "output_type": "execute_result"
    },
    {
     "name": "stdout",
     "output_type": "stream",
     "text": [
      "accuracy: 0.7804751492068369\n"
     ]
    },
    {
     "data": {
      "text/plain": [
       "LinearRegression()"
      ]
     },
     "execution_count": 20,
     "metadata": {},
     "output_type": "execute_result"
    },
    {
     "name": "stdout",
     "output_type": "stream",
     "text": [
      "accuracy: 0.8839325126057213\n"
     ]
    },
    {
     "data": {
      "text/plain": [
       "LinearRegression()"
      ]
     },
     "execution_count": 20,
     "metadata": {},
     "output_type": "execute_result"
    },
    {
     "name": "stdout",
     "output_type": "stream",
     "text": [
      "accuracy: 0.8188205212050077\n"
     ]
    },
    {
     "data": {
      "text/plain": [
       "LinearRegression()"
      ]
     },
     "execution_count": 20,
     "metadata": {},
     "output_type": "execute_result"
    },
    {
     "name": "stdout",
     "output_type": "stream",
     "text": [
      "accuracy: 0.8830423201800608\n"
     ]
    },
    {
     "data": {
      "text/plain": [
       "LinearRegression()"
      ]
     },
     "execution_count": 20,
     "metadata": {},
     "output_type": "execute_result"
    },
    {
     "name": "stdout",
     "output_type": "stream",
     "text": [
      "accuracy: 0.8663150765041583\n"
     ]
    },
    {
     "data": {
      "text/plain": [
       "LinearRegression()"
      ]
     },
     "execution_count": 20,
     "metadata": {},
     "output_type": "execute_result"
    },
    {
     "name": "stdout",
     "output_type": "stream",
     "text": [
      "accuracy: 0.8255174574654681\n"
     ]
    },
    {
     "data": {
      "text/plain": [
       "LinearRegression()"
      ]
     },
     "execution_count": 20,
     "metadata": {},
     "output_type": "execute_result"
    },
    {
     "name": "stdout",
     "output_type": "stream",
     "text": [
      "accuracy: 0.8746370373343172\n"
     ]
    },
    {
     "data": {
      "text/plain": [
       "LinearRegression()"
      ]
     },
     "execution_count": 20,
     "metadata": {},
     "output_type": "execute_result"
    },
    {
     "name": "stdout",
     "output_type": "stream",
     "text": [
      "accuracy: 0.7795986146453705\n"
     ]
    },
    {
     "data": {
      "text/plain": [
       "LinearRegression()"
      ]
     },
     "execution_count": 20,
     "metadata": {},
     "output_type": "execute_result"
    },
    {
     "name": "stdout",
     "output_type": "stream",
     "text": [
      "accuracy: 0.8738466680546016\n"
     ]
    },
    {
     "data": {
      "text/plain": [
       "LinearRegression()"
      ]
     },
     "execution_count": 20,
     "metadata": {},
     "output_type": "execute_result"
    },
    {
     "name": "stdout",
     "output_type": "stream",
     "text": [
      "accuracy: 0.8786264226962807\n"
     ]
    },
    {
     "data": {
      "text/plain": [
       "LinearRegression()"
      ]
     },
     "execution_count": 20,
     "metadata": {},
     "output_type": "execute_result"
    },
    {
     "name": "stdout",
     "output_type": "stream",
     "text": [
      "accuracy: 0.8531068484992925\n"
     ]
    },
    {
     "data": {
      "text/plain": [
       "LinearRegression()"
      ]
     },
     "execution_count": 20,
     "metadata": {},
     "output_type": "execute_result"
    },
    {
     "name": "stdout",
     "output_type": "stream",
     "text": [
      "accuracy: 0.8626793045765676\n"
     ]
    },
    {
     "data": {
      "text/plain": [
       "LinearRegression()"
      ]
     },
     "execution_count": 20,
     "metadata": {},
     "output_type": "execute_result"
    },
    {
     "name": "stdout",
     "output_type": "stream",
     "text": [
      "accuracy: 0.8581830517586054\n"
     ]
    },
    {
     "data": {
      "text/plain": [
       "LinearRegression()"
      ]
     },
     "execution_count": 20,
     "metadata": {},
     "output_type": "execute_result"
    },
    {
     "name": "stdout",
     "output_type": "stream",
     "text": [
      "accuracy: 0.8371649479190786\n"
     ]
    },
    {
     "data": {
      "text/plain": [
       "LinearRegression()"
      ]
     },
     "execution_count": 20,
     "metadata": {},
     "output_type": "execute_result"
    },
    {
     "name": "stdout",
     "output_type": "stream",
     "text": [
      "accuracy: 0.8492952202701045\n"
     ]
    },
    {
     "data": {
      "text/plain": [
       "LinearRegression()"
      ]
     },
     "execution_count": 20,
     "metadata": {},
     "output_type": "execute_result"
    },
    {
     "name": "stdout",
     "output_type": "stream",
     "text": [
      "accuracy: 0.8884133463909057\n"
     ]
    },
    {
     "data": {
      "text/plain": [
       "LinearRegression()"
      ]
     },
     "execution_count": 20,
     "metadata": {},
     "output_type": "execute_result"
    },
    {
     "name": "stdout",
     "output_type": "stream",
     "text": [
      "accuracy: 0.8435549051538769\n"
     ]
    },
    {
     "data": {
      "text/plain": [
       "LinearRegression()"
      ]
     },
     "execution_count": 20,
     "metadata": {},
     "output_type": "execute_result"
    },
    {
     "name": "stdout",
     "output_type": "stream",
     "text": [
      "accuracy: 0.840788495265074\n"
     ]
    },
    {
     "data": {
      "text/plain": [
       "LinearRegression()"
      ]
     },
     "execution_count": 20,
     "metadata": {},
     "output_type": "execute_result"
    },
    {
     "name": "stdout",
     "output_type": "stream",
     "text": [
      "accuracy: 0.890421427479272\n"
     ]
    },
    {
     "data": {
      "text/plain": [
       "LinearRegression()"
      ]
     },
     "execution_count": 20,
     "metadata": {},
     "output_type": "execute_result"
    },
    {
     "name": "stdout",
     "output_type": "stream",
     "text": [
      "accuracy: 0.8694771892722212\n"
     ]
    },
    {
     "data": {
      "text/plain": [
       "LinearRegression()"
      ]
     },
     "execution_count": 20,
     "metadata": {},
     "output_type": "execute_result"
    },
    {
     "name": "stdout",
     "output_type": "stream",
     "text": [
      "accuracy: 0.8051541961105799\n"
     ]
    },
    {
     "data": {
      "text/plain": [
       "LinearRegression()"
      ]
     },
     "execution_count": 20,
     "metadata": {},
     "output_type": "execute_result"
    },
    {
     "name": "stdout",
     "output_type": "stream",
     "text": [
      "accuracy: 0.6213720030174185\n"
     ]
    },
    {
     "data": {
      "text/plain": [
       "LinearRegression()"
      ]
     },
     "execution_count": 20,
     "metadata": {},
     "output_type": "execute_result"
    },
    {
     "name": "stdout",
     "output_type": "stream",
     "text": [
      "accuracy: 0.9020443491409531\n"
     ]
    },
    {
     "data": {
      "text/plain": [
       "LinearRegression()"
      ]
     },
     "execution_count": 20,
     "metadata": {},
     "output_type": "execute_result"
    },
    {
     "name": "stdout",
     "output_type": "stream",
     "text": [
      "accuracy: 0.6309509858630562\n"
     ]
    },
    {
     "data": {
      "text/plain": [
       "LinearRegression()"
      ]
     },
     "execution_count": 20,
     "metadata": {},
     "output_type": "execute_result"
    },
    {
     "name": "stdout",
     "output_type": "stream",
     "text": [
      "accuracy: 0.7097810196392198\n"
     ]
    },
    {
     "data": {
      "text/plain": [
       "LinearRegression()"
      ]
     },
     "execution_count": 20,
     "metadata": {},
     "output_type": "execute_result"
    },
    {
     "name": "stdout",
     "output_type": "stream",
     "text": [
      "accuracy: 0.8733528445805399\n"
     ]
    },
    {
     "data": {
      "text/plain": [
       "LinearRegression()"
      ]
     },
     "execution_count": 20,
     "metadata": {},
     "output_type": "execute_result"
    },
    {
     "name": "stdout",
     "output_type": "stream",
     "text": [
      "accuracy: 0.9202591357392992\n"
     ]
    },
    {
     "data": {
      "text/plain": [
       "LinearRegression()"
      ]
     },
     "execution_count": 20,
     "metadata": {},
     "output_type": "execute_result"
    },
    {
     "name": "stdout",
     "output_type": "stream",
     "text": [
      "accuracy: 0.8788615277598404\n"
     ]
    },
    {
     "data": {
      "text/plain": [
       "LinearRegression()"
      ]
     },
     "execution_count": 20,
     "metadata": {},
     "output_type": "execute_result"
    },
    {
     "name": "stdout",
     "output_type": "stream",
     "text": [
      "accuracy: 0.8648980724891585\n",
      "best accuracy: 0.9202591357392992\n"
     ]
    }
   ],
   "source": [
    "best = 0\n",
    "for i in range(100):\n",
    "    \n",
    "    # spliting data syntax should be moved out of the loop after tranning and storing trained module.\n",
    "    # after test_size in for loop should be added not to select random data while splitting. syntax : random_state=0\n",
    "    x_train, x_test, y_train, y_test = sklearn.model_selection.train_test_split(X, y, test_size = 0.1)\n",
    "\n",
    "    linear = linear_model.LinearRegression()\n",
    "    \n",
    "\n",
    "    linear.fit(x_train, y_train)\n",
    "    acc = linear.score(x_test, y_test)\n",
    "    # accuracy \n",
    "    print(\"accuracy:\", acc)\n",
    "    \n",
    "    \n",
    "    # saving the model: \n",
    "\n",
    "    #studentmodel is the name of the model\n",
    "    #wb mode\n",
    "    \n",
    "    if acc>best:\n",
    "        best=acc\n",
    "        with open(\"studentmodel.pickle\", \"wb\") as f:\n",
    "            pickle.dump(linear, f) \n",
    "\n",
    "print(\"best accuracy:\",best)"
   ]
  },
  {
   "cell_type": "markdown",
   "metadata": {},
   "source": [
    "#### After traning the model for 100 times, accuracy usually remains between 89 to 94 %"
   ]
  },
  {
   "cell_type": "code",
   "execution_count": null,
   "metadata": {},
   "outputs": [],
   "source": []
  },
  {
   "cell_type": "markdown",
   "metadata": {},
   "source": [
    "#### model is trained and saved. So we commented this section of training the model."
   ]
  },
  {
   "cell_type": "code",
   "execution_count": 21,
   "metadata": {},
   "outputs": [],
   "source": [
    "# linear = linear_model.LinearRegression()"
   ]
  },
  {
   "cell_type": "code",
   "execution_count": 22,
   "metadata": {},
   "outputs": [],
   "source": [
    "# linear.fit(x_train, y_train)\n",
    "# acc = linear.score(x_test, y_test)\n",
    "# accuracy \n",
    "#print(acc)"
   ]
  },
  {
   "cell_type": "code",
   "execution_count": 23,
   "metadata": {},
   "outputs": [],
   "source": [
    "# saving the model: \n",
    "\n",
    "# studentmodel is the name of the model\n",
    "# wb mode\n",
    "# with open(\"studentmodel.pickle\", \"wb\") as f:\n",
    "    #pickle.dump(linear, f) "
   ]
  },
  {
   "cell_type": "code",
   "execution_count": null,
   "metadata": {},
   "outputs": [],
   "source": []
  },
  {
   "cell_type": "code",
   "execution_count": 24,
   "metadata": {},
   "outputs": [],
   "source": [
    "# loading the pickle file with model so that we do not need to train our model every time\n",
    "pickle_in = open(\"studentmodel.pickle\", \"rb\")\n",
    "linear = pickle.load(pickle_in) "
   ]
  },
  {
   "cell_type": "code",
   "execution_count": 25,
   "metadata": {},
   "outputs": [
    {
     "name": "stdout",
     "output_type": "stream",
     "text": [
      "Coefficient(m): \n",
      " [[ 0.16991619  0.98129786  0.04694009 -0.08460636  0.08831681  0.09810284]]\n",
      "Intercept: \n",
      " [-2.67039212]\n"
     ]
    }
   ],
   "source": [
    "print('Coefficient(m): \\n', linear.coef_)\n",
    "print('Intercept: \\n', linear.intercept_)"
   ]
  },
  {
   "cell_type": "code",
   "execution_count": null,
   "metadata": {},
   "outputs": [],
   "source": []
  },
  {
   "cell_type": "code",
   "execution_count": 31,
   "metadata": {},
   "outputs": [],
   "source": [
    "y_pred = linear.predict(x_train)"
   ]
  },
  {
   "cell_type": "code",
   "execution_count": 32,
   "metadata": {},
   "outputs": [
    {
     "name": "stdout",
     "output_type": "stream",
     "text": [
      "355\n"
     ]
    }
   ],
   "source": [
    "print(len(y_pred))"
   ]
  },
  {
   "cell_type": "code",
   "execution_count": 33,
   "metadata": {},
   "outputs": [
    {
     "data": {
      "text/plain": [
       "1.2000986229900772"
      ]
     },
     "execution_count": 33,
     "metadata": {},
     "output_type": "execute_result"
    }
   ],
   "source": [
    "from sklearn.metrics import mean_absolute_error\n",
    "\n",
    "mean_absolute_error(y_train,y_pred)"
   ]
  },
  {
   "cell_type": "code",
   "execution_count": 36,
   "metadata": {},
   "outputs": [
    {
     "name": "stdout",
     "output_type": "stream",
     "text": [
      "[7 7 5 2 3 4] [7] [6.11095577]\n",
      "[11 11  0  2  3  3] [10] [10.38300869]\n",
      "[10  9 75  2  1  5] [9] [11.79057552]\n",
      "[14 13  2  2  2  1] [13] [12.66471066]\n",
      "[12 13  6  1  4  5] [14] [13.16628999]\n",
      "[ 7  6 10  2  4  5] [6] [5.55077801]\n",
      "[ 8 11  0  2  4  5] [11] [10.15778262]\n",
      "[ 9  9 56  2  3  1] [8] [10.51301988]\n",
      "[7 6 4 2 3 2] [6] [4.88651213]\n",
      "[9 9 4 2 4 1] [10] [8.16045206]\n",
      "[ 6  8 16  1  4  1] [8] [7.31729306]\n",
      "[7 6 0 1 2 1] [0] [4.59693848]\n",
      "[16 15 10  2  3  3] [15] [15.62718197]\n",
      "[16 18  0  2  2  1] [19] [17.81715217]\n",
      "[ 7  8 10  2  3  3] [10] [7.22885123]\n",
      "[15 14  2  3  2  5] [15] [14.12372973]\n",
      "[8 8 0 2 3 1] [0] [6.73316084]\n",
      "[16 15  2  2  2  1] [15] [14.96713876]\n",
      "[6 5 0 1 3 4] [0] [3.82834977]\n",
      "[7 9 2 1 4 5] [8] [8.20375724]\n",
      "[10 13  6  1  3  1] [13] [12.34572943]\n",
      "[8 9 2 2 1 4] [8] [7.9260138]\n",
      "[9 8 6 1 2 4] [10] [7.47531565]\n",
      "[10  0  0  2  4  5] [0] [-0.29666149]\n",
      "[11 11  2  2  4  3] [10] [10.56520567]\n",
      "[8 9 0 1 5 5] [10] [8.36811006]\n",
      "[10 13  4  1  3  5] [14] [12.64426063]\n",
      "[8 7 7 1 3 3] [8] [6.36125565]\n",
      "[19 18  2  2  3  5] [18] [18.9015091]\n",
      "[6 6 2 2 2 5] [6] [4.82870749]\n",
      "[12 12 12  2  3  4] [11] [12.19560665]\n",
      "[5 9 6 2 4 3] [7] [7.77087317]\n",
      "[15 13 14  3  1  3] [13] [13.42119044]\n",
      "[14 14  0  2  4  3] [14] [13.92496765]\n",
      "[12 12  6  2  4  5] [12] [12.10038577]\n",
      "[13 13  0  1  5  5] [12] [13.14288245]\n",
      "[15 12  0  2  5  5] [12] [12.41681061]\n",
      "[13 11  4  2  5  2] [11] [10.98913219]\n",
      "[ 9 11  0  2  4  5] [12] [10.32769881]\n",
      "[10 12  4  3  2  4] [12] [11.30733039]\n",
      "[ 9  9 15  2  3  5] [9] [8.98088761]\n",
      "[ 9 10  0  3  3  3] [0] [8.97727209]\n",
      "[14 12  6  4  2  4] [13] [11.99626897]\n",
      "[16 15  9  3  3  4] [16] [15.59373837]\n",
      "[10  9  4  3  2  4] [9] [8.36343681]\n",
      "[13 15  0  4  3  5] [15] [14.67502549]\n",
      "[14 15  3  1  3  5] [16] [15.23958102]\n",
      "[11 11  0  1  1  5] [10] [10.48718712]\n",
      "[12 12 13  2  3  3] [13] [12.1444439]\n",
      "[7 7 3 1 3 3] [8] [6.00357911]\n",
      "[14 12  3  1  3  3] [12] [12.09948174]\n",
      "[18 18  6  1  3  4] [18] [18.90585679]\n",
      "[12 10 10  3  2  3] [12] [9.86810474]\n",
      "[13 13  2  2  4  5] [11] [13.06383947]\n",
      "[14 14  4  3  3  4] [14] [14.03790768]\n",
      "[14 12  4  1  4  5] [11] [12.43094433]\n",
      "[9 9 8 2 4 5] [9] [8.74062379]\n",
      "[11 11  8  4  4  1] [10] [10.4814278]\n",
      "[9 0 0 2 3 5] [0] [-0.55489449]\n",
      "[13 12  2  2  4  5] [12] [12.0825416]\n",
      "[11 11 12  2  3  1] [11] [10.75008407]\n",
      "[13 14  0  2  4  1] [15] [13.55884577]\n",
      "[7 0 0 3 4 3] [0] [-1.0872221]\n",
      "[8 8 2 1 5 3] [10] [7.28448669]\n",
      "[13 15  0  1  3  5] [15] [14.92884456]\n",
      "[11 12 54  2  3  5] [11] [14.09527704]\n",
      "[15 15  2  2  3  5] [14] [15.27795076]\n",
      "[10 10  0  2  3  2] [0] [9.13369179]\n",
      "[13 15  0  3  4  4] [15] [14.74984581]\n",
      "[6 7 0 2 3 3] [0] [5.60823629]\n",
      "[7 9 0 4 2 3] [0] [7.48321868]\n",
      "[14 11 18  1  4  5] [13] [12.10680771]\n",
      "[14 15  4  3  4  4] [16] [15.10752236]\n",
      "[14 12  8  2  4  3] [12] [12.33789264]\n",
      "[ 8  9 38  1  3  4] [8] [9.87709698]\n",
      "[13 14  6  3  2  2] [14] [13.67734918]\n",
      "[ 6  6 22  2  4  1] [4] [5.55173151]\n",
      "[ 8 10  4  2  4  1] [9] [8.97183373]\n",
      "[7 7 6 3 4 4] [7] [6.16160631]\n",
      "[7 8 0 2 3 2] [0] [6.6613475]\n",
      "[17 15  2  1  2  3] [15] [15.417867]\n",
      "[11 10  4  3  3  3] [10] [9.50486482]\n",
      "[11 11  0  3  3  5] [10] [10.49460802]\n",
      "[6 0 0 2 3 3] [0] [-1.26084874]\n",
      "[ 9  8 10  2  4  3] [8] [7.65700042]\n",
      "[10  8  0  2  3  2] [9] [7.17109607]\n",
      "[11  9 10  3  3  2] [10] [8.70710465]\n",
      "[ 6 10  4  2  3  5] [10] [8.93609592]\n",
      "[ 9  8 16  2  3  4] [7] [7.94842699]\n",
      "[8 8 0 2 3 3] [9] [6.92936653]\n",
      "[16 12  8  1  2  5] [13] [12.78190345]\n",
      "[ 9  7 18  2  4  5] [6] [7.24742896]\n",
      "[ 9 10  9  3  3  5] [9] [9.59593858]\n",
      "[11  0  0  3  3  5] [0] [-0.29966847]\n",
      "[14 13  4  2  4  4] [13] [13.22953299]\n",
      "[ 8 10  0  1  3  5] [11] [9.1727743]\n",
      "[ 6  5 16  1  5  5] [5] [4.85412766]\n",
      "[8 9 4 2 4 4] [10] [8.2848444]\n",
      "[18 19  6  1  5  4] [19] [20.06378826]\n",
      "[ 8  6 18  2  1  5] [7] [5.83126448]\n",
      "[11 11  2  2  4  3] [11] [10.56520567]\n",
      "[7 7 0 2 5 2] [0] [5.85668325]\n",
      "[16 15  0  2  3  1] [15] [14.96157539]\n",
      "[12 12  2  1  2  5] [11] [11.82059816]\n",
      "[11 13  2  2  4  2] [14] [12.42969855]\n",
      "[10  9  2  3  3  4] [10] [8.35787344]\n",
      "[14 13 12  3  4  5] [13] [13.61855019]\n",
      "[15 14  2  2  5  1] [14] [14.08087514]\n",
      "[12 12  1  4  2  3] [12] [11.3236333]\n",
      "[14 16  0  3  5  3] [16] [15.89127382]\n",
      "[13 13  7  3  4  1] [14] [12.82152217]\n",
      "[7 9 6 2 4 5] [8] [8.30691124]\n",
      "[12 13  2  2  3  4] [13] [12.70750362]\n",
      "[17 15  4  1  2  5] [16] [15.70795287]\n",
      "[10  8  3  1  5  3] [7] [7.67125915]\n",
      "[11  9 12  2  2  3] [9] [8.89537722]\n",
      "[11 12 10  2  3  2] [13] [11.73560459]\n",
      "[9 9 0 2 2 3] [0] [7.99226378]\n",
      "[10 11  2  2  3  4] [12] [10.40507552]\n",
      "[5 6 6 2 3 3] [6] [4.73866277]\n",
      "[18 18 24  1  2  2] [18] [19.46625589]\n",
      "[10  9  2  3  3  5] [8] [8.45597628]\n",
      "[15 14  4  3  4  3] [15] [14.19803784]\n",
      "[8 8 2 2 3 3] [8] [7.02324671]\n",
      "[ 9 10  2  2  3  4] [10] [9.25386147]\n",
      "[10  8  6  1  5  5] [11] [8.00828511]\n",
      "[15 14  4  4  5  2] [14] [14.10364544]\n",
      "[16 16  0  1  3  5] [15] [16.41989099]\n",
      "[11 11  4  2  3  5] [11] [10.76697473]\n",
      "[13 13 14  2  2  3] [14] [13.25428123]\n",
      "[10  9  7  3  4  4] [9] [8.68089069]\n",
      "[5 5 4 2 3 3] [6] [3.66348473]\n",
      "[10  9  4  2  4  4] [9] [8.62467678]\n",
      "[6 9 4 1 2 5] [8] [7.95108761]\n",
      "[8 7 0 2 3 3] [0] [5.94806867]\n",
      "[13 15  2  2  3  3] [16] [14.74191269]\n",
      "[12 12 12  2  4  5] [13] [12.3820263]\n",
      "[11 11  6  1  5  5] [10] [11.12209489]\n",
      "[12 15  0  1  4  5] [15] [14.84724518]\n",
      "[12 10 14  2  2  4] [11] [10.2385743]\n",
      "[12 11  0  2  2  3] [12] [10.46460807]\n",
      "[15 15  4  2  3  4] [15] [15.27372809]\n",
      "[11 12 12  2  3  3] [11] [11.92758762]\n",
      "[11 10  4  3  3  5] [11] [9.70107051]\n",
      "[14 15  2  2  4  1] [15] [14.80394]\n",
      "[ 8 12  0  1  4  5] [12] [11.22368684]\n",
      "[6 5 0 1 3 5] [0] [3.92645261]\n",
      "[8 7 4 2 3 2] [6] [6.03772618]\n",
      "[6 5 0 3 3 5] [0] [3.7572399]\n",
      "[ 7 10  0  3  1  2] [10] [8.36270325]\n",
      "[11 15  2  1  3  4] [15] [14.58478952]\n",
      "[9 9 8 1 3 2] [9] [8.44260481]\n",
      "[14 13  0  4  3  3] [14] [12.68614026]\n",
      "[4 0 0 1 3 5] [0] [-1.31986907]\n",
      "[16 17  0  3  4  4] [17] [17.2221901]\n",
      "[7 5 0 3 4 5] [0] [4.0154729]\n",
      "[7 7 2 2 4 3] [7] [5.96034947]\n",
      "[11 10  0  1  2  4] [10] [9.49610322]\n",
      "[ 8 10  4  1  1  5] [10] [9.18390104]\n",
      "[11  9 14  2  5  2] [9] [9.15610498]\n",
      "[ 9 10  2  2  3  5] [9] [9.35196431]\n",
      "[12 11  2  2  3  3] [12] [10.64680505]\n",
      "[17 16  0  2  5  5] [16] [16.68183444]\n",
      "[10 12  4  2  5  5] [12] [11.75499002]\n",
      "[11 10  8  1  4  4] [10] [10.04825755]\n",
      "[18 18  6  4  1  3] [18] [18.37730125]\n",
      "[16 17  4  1  5  1] [18] [17.37317145]\n",
      "[10 11 10  4  3  4] [11] [10.61138352]\n",
      "[10 10  2  2  3  1] [10] [9.12946912]\n",
      "[6 5 0 1 4 2] [0] [3.72046089]\n",
      "[10  9 10  2  4  5] [10] [9.00442016]\n",
      "[10 10  4  1  3  3] [10] [9.50416135]\n",
      "[16 15 11  2  3  5] [15] [15.87032775]\n",
      "[12 14  7  3  4  5] [14] [14.02531523]\n",
      "[17 18 21  2  1  2] [18] [18.98259627]\n",
      "[ 5  5 12  2  4  3] [5] [4.12732225]\n",
      "[13 12  0  1  3  5] [12] [11.98495098]\n",
      "[11 10  0  2  3  1] [10] [9.20550514]\n",
      "[15 12  0  3  3  3] [14] [11.95936495]\n",
      "[13 14  4  3  3  1] [14] [13.57368296]\n",
      "[10 11  4  2  4  4] [9] [10.58727251]\n",
      "[11 14  6  1  3  1] [14] [13.49694348]\n",
      "[8 9 5 1 2 5] [9] [8.33786008]\n",
      "[8 7 0 2 4 5] [8] [6.23259117]\n",
      "[11  9 19  1  4  3] [10] [9.48519782]\n",
      "[8 9 0 1 3 3] [8] [7.99527075]\n",
      "[ 7  6 18  1  3  3] [6] [5.72638258]\n",
      "[18 18  5  3  3  2] [19] [18.49349829]\n",
      "[18 18  8  1  5  4] [18] [19.17637058]\n",
      "[6 5 6 2 1 1] [6] [3.5544418]\n",
      "[15 16  7  3  4  5] [15] [16.49765952]\n",
      "[ 9 11  2  3  2  5] [11] [10.16033901]\n",
      "[13 12  1  3  3  3] [12] [11.66647266]\n",
      "[ 7 10  0  2  3  1] [11] [8.52584038]\n",
      "[10  9  2  3  4  4] [9] [8.44619025]\n",
      "[10  9 28  3  4  5] [9] [9.76473541]\n",
      "[7 6 0 1 3 5] [0] [5.07766667]\n",
      "[12 13  4  2  3  5] [13] [12.89948665]\n",
      "[16 15 16  3  4  5] [15] [16.10873865]\n",
      "[10 10  4  2  3  4] [10] [9.51765784]\n",
      "[ 8 10  0  2  3  2] [12] [8.79385941]\n",
      "[5 8 0 2 3 5] [7] [6.61582365]\n",
      "[15 15  2  2  4  5] [16] [15.36626757]\n",
      "[8 9 4 2 4 2] [10] [8.08863871]\n",
      "[10  8 10  2  4  2] [8] [7.72881377]\n",
      "[15 14  6  3  2  2] [14] [14.01718155]\n",
      "[ 7 10 25  2  3  3] [11] [9.89554829]\n",
      "[ 6  9 14  1  2  5] [8] [8.4204885]\n",
      "[8 9 8 2 3 2] [10] [8.18808226]\n",
      "[11 13  6  4  3  4] [14] [12.55613507]\n",
      "[16 14  6  4  5  5] [15] [14.66175034]\n",
      "[13 13  4  4  3  3] [12] [12.70398443]\n",
      "[10 10  4  2  3  3] [10] [9.41955499]\n",
      "[8 8 2 3 3 4] [10] [7.0367432]\n",
      "[10 13 12  1  4  5] [12] [13.10809815]\n",
      "[ 9  9 22  1  2  3] [9] [9.10955209]\n",
      "[10 13  6  4  3  1] [13] [12.09191035]\n",
      "[15 16  4  1  2  1] [15] [15.95700697]\n",
      "[11 11  0  4  2  3] [11] [10.12547916]\n",
      "[18 19 10  1  5  3] [19] [20.15344578]\n",
      "[13 12  6  3  3  3] [12] [11.9011731]\n",
      "[7 4 0 1 3 4] [0] [3.0169681]\n",
      "[14 14  2  1  4  1] [13] [13.9072485]\n",
      "[10  9  4  2  4  5] [11] [8.72277963]\n",
      "[15 14  8  2  2  4] [14] [14.39187378]\n",
      "[10  9  0  4  4  2] [0] [8.07149802]\n",
      "[16 15  5  1  4  1] [16] [15.36919901]\n",
      "[10  8 14  2  3  3] [9] [7.92636016]\n",
      "[13 11 40  3  1  3] [11] [12.33920465]\n",
      "[16 15  0  3  3  2] [15] [14.97507188]\n",
      "[7 0 0 1 4 5] [0] [-0.7218037]\n",
      "[ 9  7 20  2  2  5] [8] [7.16467552]\n",
      "[15 15  0  2  2  5] [15] [15.09575377]\n",
      "[10 12 16  2  4  5] [11] [12.22995428]\n",
      "[13 13  2  2  5  3] [13] [12.95595059]\n",
      "[10 11  8  1  2  1] [10] [10.38869707]\n",
      "[11 12  4  3  3  3] [11] [11.46746055]\n",
      "[12 12  2  1  3  5] [14] [11.90891496]\n",
      "[12 13 14  2  2  1] [12] [12.88815935]\n",
      "[8 9 2 2 3 5] [10] [8.20075026]\n",
      "[19 19  4  4  2  2] [20] [19.42484909]\n",
      "[7 6 5 1 4 5] [7] [5.40068392]\n",
      "[ 6  5 14  1  4  3] [5] [4.47572498]\n",
      "[14 13  8  1  3  2] [13] [13.21737721]\n",
      "[15 14  4  2  2  2] [14] [14.00790773]\n",
      "[10 10 17  2  5  1] [10] [10.01020408]\n",
      "[10  9  0  2  3  2] [0] [8.15239393]\n",
      "[11 11  4  2  5  1] [11] [10.55119697]\n",
      "[14 14  4  1  4  2] [14] [14.09923152]\n",
      "[15 15  0  3  2  3] [15] [14.81494173]\n",
      "[10 10  0  4  3  3] [10] [9.06258192]\n",
      "[14 13  8  3  4  4] [14] [13.33268699]\n",
      "[ 7 10  2  4  1  1] [10] [8.27387422]\n",
      "[15 16  2  2  2  5] [16] [16.17093181]\n",
      "[15 15 10  2  4  5] [15] [15.74178828]\n",
      "[8 6 2 2 3 5] [5] [5.25685668]\n",
      "[10  9  0  4  4  4] [0] [8.26770371]\n",
      "[12 10  2  2  3  4] [11] [9.76361004]\n",
      "[12 12  2  2  2  5] [11] [11.7359918]\n",
      "[11 12  2  1  3  3] [11] [11.54279309]\n",
      "[9 9 8 1 3 3] [10] [8.54070765]\n",
      "[12  0  0  3  2  5] [0] [-0.21806908]\n",
      "[13 11  2  2  1  3] [11] [10.64008763]\n",
      "[12 10  8  2  3  4] [11] [10.04525057]\n",
      "[12 12 14  2  5  5] [12] [12.56422329]\n",
      "[15 13  9  2  4  2] [15] [13.43794393]\n",
      "[8 9 8 1 3 5] [10] [8.56699715]\n",
      "[ 9  8 15  2  4  4] [8] [7.98980371]\n",
      "[8 8 0 2 3 2] [0] [6.83126369]\n",
      "[17 17 13  2  2  1] [17] [17.61599166]\n",
      "[15 15  2  2  5  5] [16] [15.45458438]\n",
      "[10 10  0  2  4  2] [10] [9.2220086]\n",
      "[12 11 11  2  3  5] [11] [11.26547155]\n",
      "[ 9  9 11  2  5  4] [9] [8.87165802]\n",
      "[9 9 6 2 3 5] [10] [8.55842681]\n",
      "[17 17  0  4  2  5] [18] [17.22896916]\n",
      "[9 9 6 1 3 5] [10] [8.64303317]\n",
      "[14 16  3  1  4  2] [16] [16.01488716]\n",
      "[13 13  0  3  2  5] [13] [12.70871931]\n",
      "[13 13  2  2  2  5] [13] [12.88720585]\n",
      "[10 10  0  3  4  5] [9] [9.43171078]\n",
      "[10 10  6  4  3  5] [11] [9.54042814]\n",
      "[14 15  0  2  3  1] [15] [14.62174301]\n",
      "[7 8 2 2 4 5] [9] [7.13785302]\n",
      "[16 15  7  4  3  1] [17] [15.1209433]\n",
      "[10 13  6  2  1  5] [13] [12.47690083]\n",
      "[13 11  0  2  4  5] [10] [11.00736356]\n",
      "[9 8 0 2 3 4] [0] [7.19738557]\n",
      "[9 9 2 2 4 5] [10] [8.45898326]\n",
      "[10 11  2  2  3  5] [11] [10.50317837]\n",
      "[8 9 4 2 1 3] [10] [7.92179113]\n",
      "[5 0 0 1 5 4] [0] [-1.07142211]\n",
      "[7 0 0 2 3 4] [0] [-0.99282971]\n",
      "[11 10 12  2  4  3] [10] [10.0533087]\n",
      "[7 6 0 1 3 5] [0] [5.07766667]\n",
      "[13 12 20  1  5  5] [12] [13.10038637]\n",
      "[16 16  2  2  3  2] [16] [16.13485628]\n",
      "[7 8 8 4 1 3] [8] [6.78912472]\n",
      "[7 7 4 4 3 5] [6] [5.99290581]\n",
      "[ 6  6 13  2  2  4] [8] [5.24694562]\n",
      "[16 16 12  4  4  3] [16] [16.62146411]\n",
      "[11  8  2  2  4  1] [8] [7.4251064]\n",
      "[15 15  0  2  1  1] [15] [14.61502559]\n",
      "[14 12 10  2  2  5] [11] [12.45134489]\n",
      "[11 12 10  2  3  1] [13] [11.63750175]\n",
      "[ 9 12  3  3  3  3] [11] [11.08068808]\n",
      "[12 11 16  1  5  2] [12] [11.46710343]\n",
      "[13 13  0  2  3  5] [13] [12.88164248]\n",
      "[16 18  2  3  3  5] [18] [18.30715418]\n",
      "[16 15  2  2  4  1] [15] [15.14377238]\n",
      "[19 18  0  3  4  1] [19] [18.418928]\n",
      "[10  8 10  1  3  3] [9] [7.82320616]\n",
      "[ 8 10 12  1  2  3] [10] [9.45153287]\n",
      "[10 10  8  3  2  3] [10] [9.43439218]\n",
      "[ 9 10  4  3  3  4] [10] [9.26313529]\n",
      "[18 16  0  3  3  4] [16] [16.49240781]\n",
      "[16 16  2  2  3  3] [17] [16.23295912]\n",
      "[12 12  0  2  4  3] [11] [11.62253955]\n",
      "[11 11  3  3  3  3] [11] [10.4392226]\n",
      "[11 11  0  1  2  4] [12] [10.47740108]\n",
      "[14 15  0  2  2  3] [16] [14.7296319]\n",
      "[13 13  0  3  3  5] [14] [12.79703612]\n",
      "[14 15  0  2  3  5] [15] [15.01415439]\n",
      "[ 7 10  6  2  3  2] [10] [8.90558376]\n",
      "[13 13 23  2  2  5] [13] [13.87294772]\n",
      "[10 10  4  2  2  2] [11] [9.23313534]\n",
      "[8 7 6 2 3 3] [9] [6.2297092]\n",
      "[5 0 0 1 4 5] [0] [-1.06163608]\n",
      "[14 14  2  1  3  5] [14] [14.21134307]\n",
      "[15 16  2  3  4  4] [18] [16.16485623]\n",
      "[12 12  2  3  3  5] [11] [11.73970225]\n"
     ]
    },
    {
     "name": "stdout",
     "output_type": "stream",
     "text": [
      "[17 18  0  1  5  5] [18] [18.72903652]\n",
      "[10 10  2  2  4  3] [11] [9.41399162]\n",
      "[8 7 0 1 5 5] [6] [6.40551433]\n",
      "[12 12  8  1  4  5] [12] [12.27887231]\n",
      "[8 8 8 2 2 5] [6] [7.41277613]\n",
      "[ 8  8 10  4  3  3] [8] [7.22955471]\n",
      "[16 18  0  2  4  1] [18] [17.99378579]\n",
      "[ 8  8 30  1  5  5] [8] [8.79501487]\n",
      "[14 12 20  2  4  2] [13] [12.80307086]\n",
      "[13 14  0  1  4  5] [13] [14.03586351]\n",
      "[ 6  5 14  1  5  1] [5] [4.3678361]\n",
      "[10 10  2  1  3  2] [10] [9.31217833]\n",
      "[10 12  2  1  2  3] [12] [11.28456009]\n",
      "[12 11 16  1  2  5] [11] [11.49646154]\n",
      "[8 8 0 1 4 1] [11] [6.90608401]\n",
      "[6 8 0 1 4 5] [8] [6.95866301]\n",
      "[8 8 4 1 4 5] [8] [7.48625574]\n",
      "[13 11  3  2  5  4] [11] [11.13839779]\n",
      "[12 14  0  1  4  5] [15] [13.86594732]\n",
      "[15 14 20  2  4  3] [13] [15.03368562]\n",
      "[8 7 8 2 4 2] [8] [6.31380335]\n",
      "[7 9 0 2 3 1] [8] [7.54454252]\n",
      "[16 17  0  2  4  5] [17] [17.40489931]\n",
      "[12 14  1  3  4  5] [15] [13.74367469]\n"
     ]
    }
   ],
   "source": [
    "for x in range(len(y_pred)):\n",
    "    # checking for prerdict output\n",
    "    print(x_train[x],y_train[x], y_pred[x])\n",
    "    "
   ]
  },
  {
   "cell_type": "code",
   "execution_count": null,
   "metadata": {},
   "outputs": [],
   "source": []
  },
  {
   "cell_type": "markdown",
   "metadata": {},
   "source": [
    "### The easiest way to compare the target and prediction is to plot them of scatter plot"
   ]
  },
  {
   "cell_type": "code",
   "execution_count": null,
   "metadata": {},
   "outputs": [],
   "source": []
  },
  {
   "cell_type": "code",
   "execution_count": 37,
   "metadata": {},
   "outputs": [
    {
     "data": {
      "text/plain": [
       "<matplotlib.collections.PathCollection at 0x7fe427a82a50>"
      ]
     },
     "execution_count": 37,
     "metadata": {},
     "output_type": "execute_result"
    },
    {
     "data": {
      "text/plain": [
       "Text(0.5, 0, 'Targets (y_train)')"
      ]
     },
     "execution_count": 37,
     "metadata": {},
     "output_type": "execute_result"
    },
    {
     "data": {
      "text/plain": [
       "Text(0, 0.5, 'Predictions (y_pred)')"
      ]
     },
     "execution_count": 37,
     "metadata": {},
     "output_type": "execute_result"
    },
    {
     "data": {
      "text/plain": [
       "(0.0, 22.0)"
      ]
     },
     "execution_count": 37,
     "metadata": {},
     "output_type": "execute_result"
    },
    {
     "data": {
      "text/plain": [
       "(0.0, 22.0)"
      ]
     },
     "execution_count": 37,
     "metadata": {},
     "output_type": "execute_result"
    },
    {
     "data": {
      "image/png": "[encoded data removed]",
      "text/plain": [
       "<Figure size 432x288 with 1 Axes>"
      ]
     },
     "metadata": {},
     "output_type": "display_data"
    }
   ],
   "source": [
    "plt.scatter(y_train, y_pred, alpha=0.5)\n",
    "# Let's also name the axes\n",
    "plt.xlabel('Targets (y_train)',size=18)\n",
    "plt.ylabel('Predictions (y_pred)',size=18)\n",
    "# Sometimes the plot will have different scales of the x-axis and the y-axis\n",
    "# This is an issue as we won't be able to interpret the '45-degree line'\n",
    "# We want the x-axis and the y-axis to be the same\n",
    "plt.xlim(0,22)\n",
    "plt.ylim(0,22)\n",
    "plt.show()"
   ]
  },
  {
   "cell_type": "markdown",
   "metadata": {},
   "source": [
    "#### From the above graph we can clearly say that our model predicts almost accurate results. \n",
    "#### Howerver there are few wrong predictions. More tranning the model might help. "
   ]
  },
  {
   "cell_type": "markdown",
   "metadata": {},
   "source": []
  },
  {
   "cell_type": "markdown",
   "metadata": {},
   "source": [
    "## Testing the model:"
   ]
  },
  {
   "cell_type": "code",
   "execution_count": null,
   "metadata": {},
   "outputs": [],
   "source": [
    "y_pred_test = lreg.predict(x_test)"
   ]
  }
 ],
 "metadata": {
  "kernelspec": {
   "display_name": "Python 3",
   "language": "python",
   "name": "python3"
  },
  "language_info": {
   "codemirror_mode": {
    "name": "ipython",
    "version": 3
   },
   "file_extension": ".py",
   "mimetype": "text/x-python",
   "name": "python",
   "nbconvert_exporter": "python",
   "pygments_lexer": "ipython3",
   "version": "3.7.6"
  }
 },
 "nbformat": 4,
 "nbformat_minor": 4
}
